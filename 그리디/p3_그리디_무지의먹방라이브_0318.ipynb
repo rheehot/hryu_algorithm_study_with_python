{
 "cells": [
  {
   "cell_type": "markdown",
   "metadata": {},
   "source": [
    "### 문제 설명\n",
    "- food_times : 생략, 번호순으로 1씩먹는다, k는 방송 중단된시간\n",
    "- 섭취할음식 없다면 -1 반환\n",
    "\n",
    "- 정확성 food_times: 1~1000 , 원소 1~1000 1<=ㅏ<-200,000\n",
    "- 효율성  food_times: 1~200,000 , 원소 1~1억,   k:1~10^13\n",
    "\n",
    "~~~\n",
    "food_times    k    result\n",
    "[3, 1, 2]     5      1 \n",
    "~~~\n",
    "\n",
    "- 핵심 포인트\n",
    "    - 시간 적게 걸리는 음식부터 확인 \n",
    "    - 음식의 수를 줄인 뒤에는 k 시간 이후에 어떤 음식을 먹으면 되는지 확인\n",
    "- 방법\n",
    "    - 우선순위큐"
   ]
  },
  {
   "cell_type": "code",
   "execution_count": null,
   "metadata": {},
   "outputs": [],
   "source": []
  }
 ],
 "metadata": {
  "kernelspec": {
   "display_name": "Python 3",
   "language": "python",
   "name": "python3"
  },
  "language_info": {
   "codemirror_mode": {
    "name": "ipython",
    "version": 3
   },
   "file_extension": ".py",
   "mimetype": "text/x-python",
   "name": "python",
   "nbconvert_exporter": "python",
   "pygments_lexer": "ipython3",
   "version": "3.7.6"
  }
 },
 "nbformat": 4,
 "nbformat_minor": 4
}
