{
 "cells": [
  {
   "cell_type": "markdown",
   "metadata": {},
   "source": [
    "### 문제 설명\n",
    "- 공포도 x인 모험가는 반드시 x명 이상으로 구성된 그룹에 참여 할 수 있는 그룹수 최댓값\n",
    "- 2 3 1 2 2 -> 2 (1 2 3 ) (1 2)\n",
    "- 몇명의 모험가는 그대로 남아 있어도 됨\n",
    "- 오름차순 정렬\n",
    "- 현재 그룹에 포함된 모험가수 >= 현재 확인하고 있는 공포도 => 그룹결성\n",
    "\n",
    "~~~~\n",
    "5\n",
    "2 3 1 2 2   -> 2\n",
    "~~~~\n",
    "\n",
    "- test\n",
    "\n",
    "~~~\n",
    "1 2 2 2 3 \n",
    "\n",
    "cnt     1   1   2  1  2   \n",
    "result  1       2     \n",
    "cnt     0       0\n",
    "~~~"
   ]
  },
  {
   "cell_type": "markdown",
   "metadata": {},
   "source": [
    "### 포인트\n",
    "- 두개는 달라 왜? => 찾아보기\n",
    "\n",
    "~~~\n",
    "data = list(map(int, input().split()))\n",
    "\n",
    "data = [map(int, input().split())]\n",
    "##  TypeError: '>=' not supported between instances of 'int' and 'map'\n",
    "~~~"
   ]
  },
  {
   "cell_type": "code",
   "execution_count": 7,
   "metadata": {},
   "outputs": [
    {
     "name": "stdout",
     "output_type": "stream",
     "text": [
      "5\n",
      "2 3 1 2 2\n",
      "2\n"
     ]
    }
   ],
   "source": [
    "n = int(input())\n",
    "\n",
    "data = list(map(int, input().split()))\n",
    "data.sort()\n",
    "\n",
    "result = 0 # 그룹수\n",
    "cnt = 0 # 모험가수\n",
    "\n",
    "for i in data:\n",
    "    cnt += 1\n",
    "    if cnt >= i:\n",
    "        result += 1 \n",
    "        cnt = 0 # 초기화, 그룹 결성되었으니 다음 인덱스 돌 때, 다시 카운트\n",
    "print(result)"
   ]
  }
 ],
 "metadata": {
  "kernelspec": {
   "display_name": "Python 3",
   "language": "python",
   "name": "python3"
  },
  "language_info": {
   "codemirror_mode": {
    "name": "ipython",
    "version": 3
   },
   "file_extension": ".py",
   "mimetype": "text/x-python",
   "name": "python",
   "nbconvert_exporter": "python",
   "pygments_lexer": "ipython3",
   "version": "3.7.6"
  }
 },
 "nbformat": 4,
 "nbformat_minor": 4
}
