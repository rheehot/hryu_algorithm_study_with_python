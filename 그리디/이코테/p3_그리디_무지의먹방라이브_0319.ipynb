{
 "cells": [
  {
   "cell_type": "markdown",
   "metadata": {},
   "source": [
    "### 문제 설명\n",
    "- food_times : 생략, 번호순으로 1씩먹는다, k는 방송 중단된시간\n",
    "- 섭취할음식 없다면 -1 반환\n",
    "\n",
    "- 정확성 food_times: 1~1000 , 원소 1~1000 1<=ㅏ<-200,000\n",
    "- 효율성  food_times: 1~200,000 , 원소 1~1억,   k:1~10^13\n",
    "\n",
    "~~~\n",
    "food_times    k    result\n",
    "[3, 1, 2]     5      1 \n",
    "~~~\n",
    "\n",
    "- 핵심 포인트\n",
    "    - 시간 적게 걸리는 음식부터 확인 \n",
    "    - 음식의 수를 줄인 뒤에는 k 시간 이후에 어떤 음식을 먹으면 되는지 확인\n",
    "- 방법\n",
    "    - 우선순위큐"
   ]
  },
  {
   "cell_type": "markdown",
   "metadata": {},
   "source": [
    "### 순서\n",
    "1. 더 섭취해야할 음식 없다면 -1 반환. 즉 k라는 시간이 food_times 전체 합보다 크거나 같으면 더 이상 먹을 음식 없음\n",
    "2. 힙큐에다가 (food_times의 음식 먹는데 필요한 시간, 음식 index)를 추가\n",
    "3. 위의 과정처럼 현재상황에서 제일 적은 시간을 가진 음식을 뺄 수 있는지 while()이용해서 조건 검사\n",
    "    - (누적되어 빼버린 k값) + (빼버릴 음식의 시간- 이전 음식의 시간)* (현재 음식의 개수) < 현재k 값\n",
    "    - 현재 제일 적은 시간을 가진 음식(now)을 뺄 수 있다면, 빼기\n",
    "    - 누적되는 k에서 빼버린 시간은 (now-previous)* 현재 음식의 개수(length)\n",
    "    - 음식이 하나 빠져버리니, 현재 음식의 개수(length)도 하나로 줄 것이고, previous도 업데이트\n",
    "4. k값 기준으로 k값이 작아서 더 이상 현재 제일 적은 시간 음식을 빼버릴 수 없다면 while 멈추기\n",
    "5. 남은 음식들은 큐에 있을 것이고, 현재 값 계산이 오름차순으로 정렬되어 있으니, 다시원래 형태로 인덱스 기준 정렬 먼저 한다 sorted(q.queue, key=lambda x:x[1])\n",
    "6. 최종적으로 남은 음식과 최종 k를 이용해서 몇 번째 음식이니 확인하려면 %(mod) 이용"
   ]
  },
  {
   "cell_type": "code",
   "execution_count": null,
   "metadata": {},
   "outputs": [],
   "source": [
    "## 나중에 다시 너무 어려웡 다시 너무 어려웡\n",
    "\n",
    "# 시간 적게 걸리는 음식부터 확인\n",
    "# 음식의 수를 줄인 뒤에는 k 시간 이후에 어떤 음식을 먹으면 되는지 확인\n",
    "\n",
    "\n",
    "import heapq\n",
    "\n",
    "def solution(food_times, k):\n",
    "    \n",
    "    # 전체 음식을 먹는 시간보다 k가 크거나 같다면 -1\n",
    "    if sum(food_times) <= k:\n",
    "        return -1\n",
    "    \n",
    "    # 시간이 작은 음식부터 빼야 하므로 우선순위 큐를 이용\n",
    "    q = []\n",
    "    for i in range(len(food_times)) :\n",
    "        # (음식시간, 음식번호) 형태로 우선순위 큐에 삽입\n",
    "        heapq.heappush(q, (food_times[i], i+1))\n",
    "        \n",
    "    \n",
    "    sum_value = 0 # 먹기 위해 사용한 시간\n",
    "    previous = 0 # 직전에 다 먹은 음식 시간\n",
    "    length = len(food_times) # 남은 은식의 개수\n",
    "    \n",
    "    # sum_value + (현재의 음식 시간 - 이전 음식 시간) * 현재 음식 개수와 k 비교\n",
    "    while sum_value + ((q[0][0] - previous) * length) <= k:\n",
    "        now = heapq.heappop(q)[0]\n",
    "        sum_value += (now- previous)* length\n",
    "        length -= 1 # 다 먹은 음식 제외\n",
    "        previous = now # 이전 음식 시간 재설정\n",
    "        \n",
    "        \n",
    "    # 남은 음식 중에서 몇번째 음식인지 확인하여 출력\n",
    "    result = sorted(q, key=lambda x : x[1]) # 음식의 번호 기준으로 정렬\n",
    "    return result[(k-sum_value)% length][1]"
   ]
  }
 ],
 "metadata": {
  "kernelspec": {
   "display_name": "Python 3",
   "language": "python",
   "name": "python3"
  },
  "language_info": {
   "codemirror_mode": {
    "name": "ipython",
    "version": 3
   },
   "file_extension": ".py",
   "mimetype": "text/x-python",
   "name": "python",
   "nbconvert_exporter": "python",
   "pygments_lexer": "ipython3",
   "version": "3.7.6"
  }
 },
 "nbformat": 4,
 "nbformat_minor": 4
}
