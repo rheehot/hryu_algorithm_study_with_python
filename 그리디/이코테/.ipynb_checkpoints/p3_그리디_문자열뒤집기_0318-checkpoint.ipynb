{
 "cells": [
  {
   "cell_type": "markdown",
   "metadata": {},
   "source": [
    "## 문제설명\n",
    "- 문자열 s 안에 같게 만들기\n",
    "- 연속된 하나 이상의 숫자 잡고 모두 뒤집기\n",
    "- 001100 -> 000000\n",
    "- 경우의수는 0 또는 1\n",
    "- 따라서 모두 0으로 치환횟수와 모두 1로 치환횟수 구해 비교\n",
    "\n",
    "### 해결 방법\n",
    "- 변수 cnt0 , cnt1 설정\n",
    "- str[0]에 대한 cnt0, cnt1 처리\n",
    "- str[i] == str[i+1] -> cnt0, cnt1 처리\n",
    "- 두개 중 최솟값\n",
    "\n",
    "~~~\n",
    "\n",
    "1110011  -> 1\n",
    "\n",
    "~~~\n"
   ]
  },
  {
   "cell_type": "markdown",
   "metadata": {},
   "source": [
    "### 포인트\n",
    "특정 문자열 조건문으로 비교할때\n",
    "- if data[0] == 0: 이렇게 하면안됨\n",
    "- if data[0] == '0':\n"
   ]
  },
  {
   "cell_type": "code",
   "execution_count": 5,
   "metadata": {},
   "outputs": [
    {
     "name": "stdout",
     "output_type": "stream",
     "text": [
      "11100111001\n",
      "2\n"
     ]
    }
   ],
   "source": [
    "data = input()\n",
    "\n",
    "cnt0 = 0\n",
    "cnt1 = 0\n",
    "\n",
    "# 첫번째 원소 처리\n",
    "if data[0] == '0':\n",
    "    cnt1 +=1\n",
    "else:\n",
    "    cnt0 +=1\n",
    "    \n",
    "# 두번째 원소 부터 \n",
    "for i in range(len(data)-1):\n",
    "    if data[i] != data[i+1] :\n",
    "        if data[i+1] == '0':\n",
    "            cnt1 += 1\n",
    "        else:\n",
    "            cnt0 += 1\n",
    "            \n",
    "print(min(cnt0, cnt1))\n",
    "    "
   ]
  }
 ],
 "metadata": {
  "kernelspec": {
   "display_name": "Python 3",
   "language": "python",
   "name": "python3"
  },
  "language_info": {
   "codemirror_mode": {
    "name": "ipython",
    "version": 3
   },
   "file_extension": ".py",
   "mimetype": "text/x-python",
   "name": "python",
   "nbconvert_exporter": "python",
   "pygments_lexer": "ipython3",
   "version": "3.7.6"
  }
 },
 "nbformat": 4,
 "nbformat_minor": 4
}
