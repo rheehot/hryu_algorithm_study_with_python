{
 "cells": [
  {
   "cell_type": "markdown",
   "metadata": {},
   "source": [
    "### 문제 설명\n",
    "- n개 동전으로 만들 수 없는 금액(양의 정수) 중 최솟값\n",
    "\n",
    "~~~\n",
    "5\n",
    "3 2 1 1 9 -> 8\n",
    "~~~\n",
    "\n",
    "- 입력 n : 1~1000, 각 화폐단위 1,000,000 이하\n",
    "    \n",
    "- 해결\n",
    "- 1. 주어진 동전 오름차순\n",
    "- 2. target =1 로 지정\n",
    "- 3. target 매번 반복하여, 주어진 동전 더하기\n",
    "- 4. target < 주어진 동전 -> target 만들 수 없는 금액\n",
    "- (target이 가지고 있는 동전리스트 중 어떤수보다 작은수라면, 그 아래수까지는 만들수있음)\n"
   ]
  },
  {
   "cell_type": "markdown",
   "metadata": {},
   "source": [
    "### 포인트\n",
    "- 로직이 어려움\n",
    "- n-1 까지의 모든 수를 만들 수 있다면, 'n' 만들 수 있는가?\n",
    "- k<=n이면 k 만들수 있다 \n",
    "- 그 다음에는 n+k가 가능한지 알아보자"
   ]
  },
  {
   "cell_type": "markdown",
   "metadata": {},
   "source": [
    "### 시간복잡도\n",
    "- 만약, 배열 원소를 모든 경우를 고려하여 더한다면 => 시간복잡도 노답\n",
    "- 먼저 입력 조건을 살피고, 단순 구현이 아니라면\n",
    "- 조건 찾기"
   ]
  },
  {
   "cell_type": "code",
   "execution_count": 3,
   "metadata": {},
   "outputs": [
    {
     "name": "stdout",
     "output_type": "stream",
     "text": [
      "5\n",
      "3 2 1 1 9\n",
      "8\n"
     ]
    }
   ],
   "source": [
    "n = int(input())\n",
    "data = list(map(int, input().split()))\n",
    "data.sort()\n",
    "\n",
    "target =1\n",
    "for i in data:\n",
    "    if target < i:\n",
    "        break\n",
    "    target += i\n",
    "print(target)"
   ]
  }
 ],
 "metadata": {
  "kernelspec": {
   "display_name": "Python 3",
   "language": "python",
   "name": "python3"
  },
  "language_info": {
   "codemirror_mode": {
    "name": "ipython",
    "version": 3
   },
   "file_extension": ".py",
   "mimetype": "text/x-python",
   "name": "python",
   "nbconvert_exporter": "python",
   "pygments_lexer": "ipython3",
   "version": "3.7.6"
  }
 },
 "nbformat": 4,
 "nbformat_minor": 4
}
