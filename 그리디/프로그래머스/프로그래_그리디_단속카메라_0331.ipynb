{
 "cells": [
  {
   "cell_type": "code",
   "execution_count": null,
   "metadata": {},
   "outputs": [],
   "source": [
    "### 포인트\n",
    "- 그리디 유형 왜? 진출 시점과 진입 시점 비교후, 카메라 안 걸리면 카메라 추가 => 최선의 선택\n",
    "- 진출 시점 기준으로 정렬 후, 카메라 걸리는지 확인 : 다음 구간의 차량의 진입 시점과 비교 위함\n",
    "### 풀이\n",
    "1. 진출 시점 오름차순 \n",
    "2. 최소 -30000 이므로 초기 카메라 -30001로 초기화\n",
    "3. routes 반복문 돌리면서 카메라가 진입 시점보다 작은가 확인\n",
    "4. 작다면 카메라 추가해주고, 카메라 위치를 route[1]로 갱신"
   ]
  },
  {
   "cell_type": "code",
   "execution_count": 4,
   "metadata": {},
   "outputs": [
    {
     "data": {
      "text/plain": [
       "2"
      ]
     },
     "execution_count": 4,
     "metadata": {},
     "output_type": "execute_result"
    }
   ],
   "source": [
    "def solution(routes):\n",
    "    # 결국에 교집합 갯수 구하는 문제\n",
    "    routes.sort(key=lambda x :x[1])\n",
    "    cnt = 0\n",
    "    camera = -30001\n",
    "    \n",
    "    for route in routes:\n",
    "        if camera < route[0]:\n",
    "            cnt += 1\n",
    "            camera = route[1]\n",
    "    return cnt\n",
    "solution([[-20,15], [-14,-5], [-18,-13], [-5,-3]])"
   ]
  }
 ],
 "metadata": {
  "kernelspec": {
   "display_name": "Python 3",
   "language": "python",
   "name": "python3"
  },
  "language_info": {
   "codemirror_mode": {
    "name": "ipython",
    "version": 3
   },
   "file_extension": ".py",
   "mimetype": "text/x-python",
   "name": "python",
   "nbconvert_exporter": "python",
   "pygments_lexer": "ipython3",
   "version": "3.7.6"
  }
 },
 "nbformat": 4,
 "nbformat_minor": 4
}
