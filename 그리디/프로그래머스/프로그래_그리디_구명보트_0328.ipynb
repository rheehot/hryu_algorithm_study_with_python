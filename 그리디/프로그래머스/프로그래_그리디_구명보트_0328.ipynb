{
 "cells": [
  {
   "cell_type": "markdown",
   "metadata": {},
   "source": [
    "### 문제 설명\n",
    "\n",
    "### 풀이\n",
    "1. sort [50 , 50, 70 ,80] \n",
    "2. 커서로 리스트의 요소 가리키는 방법 사용\n",
    "    - 제일 작은 값과 제일 큰 값 선택하도록 오름차순 정렬\n",
    "    - 맨 앞과 맨 뒤 요소 선택하여 합친 값이 limit보다 크다면 맨 뒤는 혼자 탄다 r\n",
    "    - right하나 앞으로 오고, answer 늘려준다\n",
    "    - 만약 현재 선택한 i와 right의 요소가 limit을 넘지 않는다면\n",
    "    - answer 올려주고, i 넥스트로 넘어가고, right 앞으로 옴\n",
    "    - i와 right 같아질때까지 하기\n",
    "\n",
    "    \n"
   ]
  },
  {
   "cell_type": "code",
   "execution_count": 8,
   "metadata": {},
   "outputs": [
    {
     "data": {
      "text/plain": [
       "3"
      ]
     },
     "execution_count": 8,
     "metadata": {},
     "output_type": "execute_result"
    }
   ],
   "source": [
    "def solution(people, limit):\n",
    "    answer = 0\n",
    "    people.sort()\n",
    "    right = len(people)-1\n",
    "    i = 0\n",
    "    while i <= right:\n",
    "        if i < right and people[i] + people[right] > limit:\n",
    "            answer += 1\n",
    "            right -= 1\n",
    "        else:\n",
    "            i+=1\n",
    "            right -=1\n",
    "            answer += 1\n",
    "    return answer\n",
    "solution([70, 50, 80, 50], 100)\n",
    "solution([70, 80, 50], 100)"
   ]
  }
 ],
 "metadata": {
  "kernelspec": {
   "display_name": "Python 3",
   "language": "python",
   "name": "python3"
  },
  "language_info": {
   "codemirror_mode": {
    "name": "ipython",
    "version": 3
   },
   "file_extension": ".py",
   "mimetype": "text/x-python",
   "name": "python",
   "nbconvert_exporter": "python",
   "pygments_lexer": "ipython3",
   "version": "3.7.6"
  }
 },
 "nbformat": 4,
 "nbformat_minor": 4
}
