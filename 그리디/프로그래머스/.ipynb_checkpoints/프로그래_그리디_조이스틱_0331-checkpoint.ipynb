{
 "cells": [
  {
   "cell_type": "markdown",
   "metadata": {},
   "source": [
    "### 문제 설명\n",
    "- 조이스틱으로 알파벳 이름을 완성하세요. 맨 처음엔 A로만 이루어져 있습니다.\n",
    "\n",
    "~~~\n",
    "▲ - 다음 알파벳\n",
    "▼ - 이전 알파벳 (A에서 아래쪽으로 이동하면 Z로)\n",
    "◀ - 커서를 왼쪽으로 이동 (첫 번째 위치에서 왼쪽으로 이동하면 마지막 문자에 커서)\n",
    "▶ - 커서를 오른쪽으로 이동\n",
    "\n",
    "~~~\n",
    "- name은 알파벳 대문자로만 이루어져 있습니다.\n",
    "- name의 길이는 1 이상 20 이하입니다.\n",
    "~~~\n",
    "name\treturn\n",
    "\"JEROEN\"\t56\n",
    "\"JAN\"\t23\n",
    "~~~\n",
    "\n",
    "### 알게된 점\n",
    "- 루프 내 원소 remove 하기 -> 원본 리스트가 훼손되어서 루프 다 안돈다\n",
    "- [:]이용하기\n",
    "\n",
    "### 포인트\n",
    "- 왼쪽 오른쪽 이동 여부 -> 그리디로 해결\n",
    "- 왼쪽 오른쪽 중 바꿔야 할 문자가 더 가까이 위치한 곳을 찾아 이동해나가기\n",
    "    - 왼쪽 , 오른쪽 모두 이동 거리 같을 경우 오른쪽 이동\n",
    "\n",
    "- 그리디 조건\n",
    "1. 최적 부분 문제 : 작은 문제 해결하여 전체 문제 해결  \n",
    "2. 탐욕스런 선택 조건: 앞에 해가 이후 해에 영향 주면 안됨   ??? 찾아보기\n",
    "\n",
    "### 맞는 풀이\n",
    "- 이거 나중에풀기... 어려웡 !!!"
   ]
  },
  {
   "cell_type": "code",
   "execution_count": 22,
   "metadata": {},
   "outputs": [
    {
     "data": {
      "text/plain": [
       "24"
      ]
     },
     "execution_count": 22,
     "metadata": {},
     "output_type": "execute_result"
    }
   ],
   "source": [
    "## 대실패\n",
    "# def solution(name):\n",
    "#     answer = 0\n",
    "#     name = list(name)\n",
    "#     for i in name[:]:\n",
    "        \n",
    "#         if i>'A' and i<= 'M':\n",
    "#             answer += ord(i) - ord('A')\n",
    "#             name.remove(i)\n",
    "# #             name.pop(0)\n",
    "#         elif i>'M':\n",
    "#             answer += ord('Z') - ord(i) + 1\n",
    "#             name.remove(i)\n",
    "# #             name.pop(0)\n",
    "#         elif i == 'A':\n",
    "#             name.remove(i)\n",
    "        \n",
    "#         answer += 1\n",
    "    \n",
    "#     answer -=1\n",
    "        \n",
    "    \n",
    "#     return answer\n",
    "# solution(\"JEROEN\")\n",
    "# solution(\"JAN\")"
   ]
  },
  {
   "cell_type": "code",
   "execution_count": null,
   "metadata": {},
   "outputs": [],
   "source": [
    "## 맞는 풀이\n",
    "def solution(name):\n",
    "\n",
    "            \n",
    "        \n",
    "        "
   ]
  }
 ],
 "metadata": {
  "kernelspec": {
   "display_name": "Python 3",
   "language": "python",
   "name": "python3"
  },
  "language_info": {
   "codemirror_mode": {
    "name": "ipython",
    "version": 3
   },
   "file_extension": ".py",
   "mimetype": "text/x-python",
   "name": "python",
   "nbconvert_exporter": "python",
   "pygments_lexer": "ipython3",
   "version": "3.7.6"
  }
 },
 "nbformat": 4,
 "nbformat_minor": 4
}
