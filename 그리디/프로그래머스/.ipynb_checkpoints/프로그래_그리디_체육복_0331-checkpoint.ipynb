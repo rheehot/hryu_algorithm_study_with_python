{
 "cells": [
  {
   "cell_type": "code",
   "execution_count": null,
   "metadata": {},
   "outputs": [],
   "source": [
    "### 문제 설명\n",
    "체육수업 들을 수 있는 학생 최댓값\n",
    "전체 학생의 수는 2명 이상 30명 이하입니다.\n",
    "체육복을 도난당한 학생의 수는 1명 이상 n명 이하이고 중복되는 번호는 없습니다.\n",
    "여벌의 체육복을 가져온 학생의 수는 1명 이상 n명 이하이고 중복되는 번호는 없습니다.\n",
    "여벌 체육복이 있는 학생만 다른 학생에게 체육복을 빌려줄 수 있습니다.\n",
    "여벌 체육복을 가져온 학생이 체육복을 도난당했을 수 있습니다.   \n",
    "이때 이 학생은 체육복을 하나만 도난당했다고 가정하며,   \n",
    "남은 체육복이 하나이기에 다른 학생에게는 체육복을 빌려줄 수 없습니다.  \n",
    "\n",
    "~~~\n",
    "n\tlost\treserve\treturn\n",
    "5\t[2, 4]\t[1, 3, 5]\t5\n",
    "5\t[2, 4]\t[3]\t4\n",
    "3\t[3]\t[1]\t2\n",
    "~~~\n",
    "\n",
    "### 포인트\n",
    "- 중복 제거 위해 set\n",
    "- remove 사용 -> 인덱스 아닌 값을 지우려면 이것을 사용\n"
   ]
  },
  {
   "cell_type": "code",
   "execution_count": 2,
   "metadata": {},
   "outputs": [
    {
     "data": {
      "text/plain": [
       "5"
      ]
     },
     "execution_count": 2,
     "metadata": {},
     "output_type": "execute_result"
    }
   ],
   "source": [
    "def solution(n, lost, reserve):\n",
    "    # 여벌 체육복을 가져온 학생이 체육복을 도난당했을 가능성 제외하기 위해 차집합\n",
    "    reserve_list =set(reserve)-set(lost)\n",
    "    lost_list = set(lost) - set(reserve)\n",
    "    \n",
    "    for i in reserve_list:\n",
    "        if i-1 in lost_list:\n",
    "            lost_list.remove(i-1)\n",
    "        elif i+1 in lost_list:\n",
    "            lost_list.remove(i+1)\n",
    "            \n",
    "    return n-len(lost_list)\n",
    "solution(5, [2, 4], [1, 3, 5])"
   ]
  }
 ],
 "metadata": {
  "kernelspec": {
   "display_name": "Python 3",
   "language": "python",
   "name": "python3"
  },
  "language_info": {
   "codemirror_mode": {
    "name": "ipython",
    "version": 3
   },
   "file_extension": ".py",
   "mimetype": "text/x-python",
   "name": "python",
   "nbconvert_exporter": "python",
   "pygments_lexer": "ipython3",
   "version": "3.7.6"
  }
 },
 "nbformat": 4,
 "nbformat_minor": 4
}
