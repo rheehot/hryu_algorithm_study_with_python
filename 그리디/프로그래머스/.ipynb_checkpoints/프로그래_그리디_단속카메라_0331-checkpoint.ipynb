{
 "cells": [
  {
   "cell_type": "code",
   "execution_count": 2,
   "metadata": {},
   "outputs": [
    {
     "name": "stdout",
     "output_type": "stream",
     "text": [
      "[[-20, 15], [-18, -13], [-14, -5], [-5, -3]]\n"
     ]
    },
    {
     "data": {
      "text/plain": [
       "2"
      ]
     },
     "execution_count": 2,
     "metadata": {},
     "output_type": "execute_result"
    }
   ],
   "source": [
    "def solution(routes):\n",
    "    # 결국에 교집합 갯수 구하는 문제\n",
    "    # 앞자리 기준으로 오름차순으로 정렬한다.\n",
    "    routes.sort(key=lambda x:x[0])\n",
    "    # 무조건 1개는 들어갈 수 밖에 없으니 1개부터 시작한다.\n",
    "    print(routes)\n",
    "    answer = 1\n",
    "    endpoint = routes[0][1]\n",
    "    routes.pop(0)\n",
    "    for route in routes:\n",
    "        if route[0] <= endpoint:\n",
    "            endpoint = min(route[1], endpoint)\n",
    "        else:\n",
    "            answer += 1\n",
    "    return answer         \n",
    "solution([[-20,15], [-14,-5], [-18,-13], [-5,-3]])"
   ]
  }
 ],
 "metadata": {
  "kernelspec": {
   "display_name": "Python 3",
   "language": "python",
   "name": "python3"
  },
  "language_info": {
   "codemirror_mode": {
    "name": "ipython",
    "version": 3
   },
   "file_extension": ".py",
   "mimetype": "text/x-python",
   "name": "python",
   "nbconvert_exporter": "python",
   "pygments_lexer": "ipython3",
   "version": "3.7.6"
  }
 },
 "nbformat": 4,
 "nbformat_minor": 4
}
