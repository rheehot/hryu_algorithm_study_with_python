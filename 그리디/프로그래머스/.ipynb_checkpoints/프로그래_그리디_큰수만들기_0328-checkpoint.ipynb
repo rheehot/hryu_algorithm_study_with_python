{
 "cells": [
  {
   "cell_type": "markdown",
   "metadata": {},
   "source": [
    "### 문제 설명\n",
    "- k개의 수를 제거했을 때 얻을 수 있는 가장 큰 숫자\n",
    "- 1924 -> [19, 12, 14, 92, 94, 24]\n",
    "\n",
    "~~~\n",
    "number\tk\treturn\n",
    "\"1924\"\t2\t\"94\"\n",
    "\"1231234\"\t3\t\"3234\"\n",
    "\"4177252841\"\t4\t\"775841\"\n",
    "~~~\n",
    "\n",
    "\n",
    "### 포인트\n",
    "- 스택을 활용한 그리디 문제\n",
    "- 스택에 최대한 k만큼 제거하여 큰 수 만들어 보자\n",
    "- while 문 사용 -> 스택의 원소들 중 현재 비교하는 number의 원소보다 작은 값들은 모두 제거해주려고\n",
    "### 풀이 \n",
    "1. stack을 생성하고 number의 첫번째 원소 삽입\n",
    "2. number 두번째원소부터 끝까지 탐색\n",
    "    - stack이 비어있지 않고, 스택의 맨 끝 원소< number 현재 원소, k가 0이 아닌경우 (while문 사용)\n",
    "        - stack 마지막 원소 제거, k는 1씩 빼기\n",
    "    - number의 현재 원소 stack에 삽입\n",
    "3. 반복문 끝나면, k가 0이 아닌 경우(탐색 끝났지만, 숫자가 내림차순st라면 제거 잘 안됨) k크기 만큼 뒤에서 자른다\n",
    "4. 조인해서 문자열로 반환해준다"
   ]
  },
  {
   "cell_type": "code",
   "execution_count": 5,
   "metadata": {},
   "outputs": [
    {
     "data": {
      "text/plain": [
       "'775841'"
      ]
     },
     "execution_count": 5,
     "metadata": {},
     "output_type": "execute_result"
    }
   ],
   "source": [
    "def solution(number, k):\n",
    "    answer = ''\n",
    "    stack = [number[0]]\n",
    "    for i in number[1:]:\n",
    "        while len(stack) >0 and stack[-1] < i and k>0:\n",
    "            stack.pop()\n",
    "            k-=1\n",
    "                      \n",
    "        stack.append(i)\n",
    "    if k:\n",
    "        stack = stack[:-k]\n",
    "    return ''.join(stack) \n",
    "\n",
    "solution('4177252841', 4)\n",
    "        \n",
    "    \n",
    "    "
   ]
  }
 ],
 "metadata": {
  "kernelspec": {
   "display_name": "Python 3",
   "language": "python",
   "name": "python3"
  },
  "language_info": {
   "codemirror_mode": {
    "name": "ipython",
    "version": 3
   },
   "file_extension": ".py",
   "mimetype": "text/x-python",
   "name": "python",
   "nbconvert_exporter": "python",
   "pygments_lexer": "ipython3",
   "version": "3.7.6"
  }
 },
 "nbformat": 4,
 "nbformat_minor": 4
}
