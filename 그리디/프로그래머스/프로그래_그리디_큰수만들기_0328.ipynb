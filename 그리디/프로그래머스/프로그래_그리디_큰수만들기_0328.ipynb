{
 "cells": [
  {
   "cell_type": "code",
   "execution_count": 1,
   "metadata": {},
   "outputs": [
    {
     "ename": "SyntaxError",
     "evalue": "invalid syntax (<ipython-input-1-82905f995255>, line 2)",
     "output_type": "error",
     "traceback": [
      "\u001b[1;36m  File \u001b[1;32m\"<ipython-input-1-82905f995255>\"\u001b[1;36m, line \u001b[1;32m2\u001b[0m\n\u001b[1;33m    - k개의 수를 제거했을 때 얻을 수 있는 가장 큰 숫자\u001b[0m\n\u001b[1;37m           ^\u001b[0m\n\u001b[1;31mSyntaxError\u001b[0m\u001b[1;31m:\u001b[0m invalid syntax\n"
     ]
    }
   ],
   "source": [
    "### 문제 설명\n",
    "- k개의 수를 제거했을 때 얻을 수 있는 가장 큰 숫자\n",
    "- 1924 -> [19, 12, 14, 92, 94, 24]\n",
    "\n",
    "~~~\n",
    "number\tk\treturn\n",
    "\"1924\"\t2\t\"94\"\n",
    "\"1231234\"\t3\t\"3234\"\n",
    "\"4177252841\"\t4\t\"775841\"\n",
    "~~~"
   ]
  },
  {
   "cell_type": "code",
   "execution_count": 11,
   "metadata": {},
   "outputs": [
    {
     "ename": "SyntaxError",
     "evalue": "invalid syntax (<ipython-input-11-dbf279e19d75>, line 9)",
     "output_type": "error",
     "traceback": [
      "\u001b[1;36m  File \u001b[1;32m\"<ipython-input-11-dbf279e19d75>\"\u001b[1;36m, line \u001b[1;32m9\u001b[0m\n\u001b[1;33m    return number_list\u001b[0m\n\u001b[1;37m         ^\u001b[0m\n\u001b[1;31mSyntaxError\u001b[0m\u001b[1;31m:\u001b[0m invalid syntax\n"
     ]
    }
   ],
   "source": [
    "def solution(number, k):\n",
    "    answer = ''\n",
    "    \n",
    "    \n",
    "    return answer"
   ]
  }
 ],
 "metadata": {
  "kernelspec": {
   "display_name": "Python 3",
   "language": "python",
   "name": "python3"
  },
  "language_info": {
   "codemirror_mode": {
    "name": "ipython",
    "version": 3
   },
   "file_extension": ".py",
   "mimetype": "text/x-python",
   "name": "python",
   "nbconvert_exporter": "python",
   "pygments_lexer": "ipython3",
   "version": "3.7.6"
  }
 },
 "nbformat": 4,
 "nbformat_minor": 4
}
