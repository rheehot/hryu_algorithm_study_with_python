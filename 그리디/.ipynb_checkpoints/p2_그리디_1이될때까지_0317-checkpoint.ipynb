{
 "cells": [
  {
   "cell_type": "markdown",
   "metadata": {},
   "source": [
    "## 1이 될때까지\n",
    "- n이 1될때까지 -1 or /k 중 선택하여 반복 수행한 최소 횟수\n",
    "- 최대한 많이 나눈다\n",
    "- k가 2이상이면 나눌 수 있음 나누고, 아니면 -1\n",
    "\n",
    "- 조건\n",
    "- 입력 : 첫째 줄에 N(2<= N <= 100000)과 K(2 <= K <= 100000)\n",
    "- 출력 : 횟수 최솟값\n",
    "~~~\n",
    "25 3\n",
    "6\n",
    "~~~"
   ]
  },
  {
   "cell_type": "markdown",
   "metadata": {},
   "source": [
    "### 포인트\n",
    "1. while True: => while문 사용"
   ]
  },
  {
   "cell_type": "code",
   "execution_count": 3,
   "metadata": {},
   "outputs": [
    {
     "name": "stdout",
     "output_type": "stream",
     "text": [
      "25 3\n",
      "6\n"
     ]
    }
   ],
   "source": [
    "## n,k 공백을 기준을 구분하여 입력\n",
    "n, k = map(int, input().split())\n",
    "\n",
    "result = 0\n",
    "\n",
    "while True:\n",
    "    # n이 k로 나누어떨어지는 수가 될 때까지 1빼기\n",
    "    target = (n//k)*k\n",
    "    result += (n-target)\n",
    "    n = target\n",
    "    \n",
    "    # n이 k보다 작을때 반복문 탈출 (더이상 못나눠)\n",
    "    if n<k:\n",
    "        break\n",
    "    result += 1\n",
    "    n//= k\n",
    "# 마지막으로 남은 수에 대해 1씩 빼기 ,1로 만들어야 하니까 n-1한 수를 결과값에 더해\n",
    "result += (n-1)\n",
    "print(result)"
   ]
  },
  {
   "cell_type": "code",
   "execution_count": 1,
   "metadata": {},
   "outputs": [
    {
     "name": "stdout",
     "output_type": "stream",
     "text": [
      "25 3\n",
      "6\n"
     ]
    }
   ],
   "source": [
    "n, k = map(int, input().split())\n",
    "\n",
    "cnt = 0\n",
    "\n",
    "while True:\n",
    "    if n == 1 :\n",
    "        break\n",
    "    if n %k == 0:\n",
    "        n= n//k\n",
    "    else:\n",
    "        n -= 1\n",
    "    cnt+= 1\n",
    "print(cnt)"
   ]
  }
 ],
 "metadata": {
  "kernelspec": {
   "display_name": "Python 3",
   "language": "python",
   "name": "python3"
  },
  "language_info": {
   "codemirror_mode": {
    "name": "ipython",
    "version": 3
   },
   "file_extension": ".py",
   "mimetype": "text/x-python",
   "name": "python",
   "nbconvert_exporter": "python",
   "pygments_lexer": "ipython3",
   "version": "3.7.6"
  }
 },
 "nbformat": 4,
 "nbformat_minor": 4
}
