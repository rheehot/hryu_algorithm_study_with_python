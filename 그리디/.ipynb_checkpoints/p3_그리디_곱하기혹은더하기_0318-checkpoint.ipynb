{
 "cells": [
  {
   "cell_type": "markdown",
   "metadata": {},
   "source": [
    "## 문제설명\n",
    "- 두수중 하나라도 1이하인 경우 +, 2이상인 경우 x\n",
    "- 입력수 : 20억 이하 정수\n",
    "- 가장 큰 수를 출력해라\n",
    "- 시간제한 1초\n",
    "- 02984  -> (0+2)*9*8*4  = 576"
   ]
  },
  {
   "cell_type": "markdown",
   "metadata": {},
   "source": [
    "순서\n",
    "- 1. 문자열로 받는다\n",
    "- 2. 첫번째 인덱스를 숫자로 바꿔 변수에 넣는다, 이변수는 최종 리턴할 값으로 쓸 변수\n",
    "- 3. for문으로 두번째~마지막 인덱스까지 체킹\n",
    "- 3-1. for문으로 얻은 인덱스 마찬가지로 숫자로 바꿔\n",
    "- 3.2. 조건문주고 result update"
   ]
  },
  {
   "cell_type": "markdown",
   "metadata": {},
   "source": [
    "### 포인트 \n",
    "문자열로 받아서 int형으로 바꾸는 부분 \n",
    "~~~\n",
    "result = int(data[0])\n",
    "~~~"
   ]
  },
  {
   "cell_type": "code",
   "execution_count": 2,
   "metadata": {},
   "outputs": [
    {
     "name": "stdout",
     "output_type": "stream",
     "text": [
      "02984\n",
      "576\n"
     ]
    }
   ],
   "source": [
    "data = input() # 문자열 , 숫자 아님\n",
    "\n",
    "result = int(data[0])\n",
    "for i in range(1, len(data)):\n",
    "    num = int(data[i])\n",
    "    if num <=1 or result <=1:\n",
    "        result += num\n",
    "    else:\n",
    "        result *= num\n",
    "print(result)"
   ]
  }
 ],
 "metadata": {
  "kernelspec": {
   "display_name": "Python 3",
   "language": "python",
   "name": "python3"
  },
  "language_info": {
   "codemirror_mode": {
    "name": "ipython",
    "version": 3
   },
   "file_extension": ".py",
   "mimetype": "text/x-python",
   "name": "python",
   "nbconvert_exporter": "python",
   "pygments_lexer": "ipython3",
   "version": "3.7.6"
  }
 },
 "nbformat": 4,
 "nbformat_minor": 4
}
