{
 "cells": [
  {
   "cell_type": "markdown",
   "metadata": {},
   "source": [
    "### 문제설명\n",
    "- n개의 공\n",
    "- a, b는 서로 다른 무게 공 고른다\n",
    "- 두 사람의 볼링공 조합 경우의수\n",
    "\n",
    "~~~\n",
    "5 3\n",
    "1 3 2 3 2       ->  8\n",
    "~~~\n",
    "\n",
    "- 입력 : n(1~1000 ) , m(1~10), k자연수:공의 최대 무게\n"
   ]
  },
  {
   "cell_type": "markdown",
   "metadata": {},
   "source": [
    "### 포인트\n",
    "- 1. 볼링공의 무게 별로 집계 \n",
    "- 2. 볼링공의 최소무게 1부터 최대무게 10까지 반복문\n",
    "- 2.1 무게가 i인 볼링공 개수 * (전체볼링공개수- 무게i인볼링공개수)\n",
    "- 2.2 2.1에서 구한거 변수에 누적시켜"
   ]
  },
  {
   "cell_type": "markdown",
   "metadata": {},
   "source": [
    "### 시간복잡도\n",
    "- O(N^N) 1000000 시간 초과 NO!"
   ]
  },
  {
   "cell_type": "code",
   "execution_count": 3,
   "metadata": {},
   "outputs": [
    {
     "name": "stdout",
     "output_type": "stream",
     "text": [
      "5 3\n",
      "1 3 2 3 2\n",
      "8\n"
     ]
    }
   ],
   "source": [
    "n, m= map(int, input().split())\n",
    "data = list(map(int, input().split()))\n",
    "\n",
    "# 1부터 10가지의 무게 담을 리스트\n",
    "array = [0]*11\n",
    "result = 0 # 조합 수\n",
    "\n",
    "for x in data:\n",
    "    # 각 무게 해당하는 볼링공 개수 세기\n",
    "    array[x] += 1\n",
    "    \n",
    "for i in range(1, m+1):\n",
    "    n-= array[i] # 무게가 i인 볼링공의 개수 제외, n이 계속 작아지는 것은 앞에서 선택한거 뒤에서 선택할필요 없으니까\n",
    "    result += n* array[i] # B가 선택하는 경우의 수와 곱해주기\n",
    "print(result)"
   ]
  }
 ],
 "metadata": {
  "kernelspec": {
   "display_name": "Python 3",
   "language": "python",
   "name": "python3"
  },
  "language_info": {
   "codemirror_mode": {
    "name": "ipython",
    "version": 3
   },
   "file_extension": ".py",
   "mimetype": "text/x-python",
   "name": "python",
   "nbconvert_exporter": "python",
   "pygments_lexer": "ipython3",
   "version": "3.7.6"
  }
 },
 "nbformat": 4,
 "nbformat_minor": 4
}
