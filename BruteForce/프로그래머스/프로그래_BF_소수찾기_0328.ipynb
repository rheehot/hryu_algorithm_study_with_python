{
 "cells": [
  {
   "cell_type": "markdown",
   "metadata": {},
   "source": [
    "### 파이썬 순열과 조합\n",
    "----\n",
    "#### 순열 : n개의 원소를 사용해서 순서를 정하여 r개의 배열 만듦\n",
    "- 파이썬 permutation \n",
    "\n",
    "~~~\n",
    "from itertools import permutations\n",
    "\n",
    "a = [1, 2, 3]\n",
    "permute = permutations(a, 2)\n",
    "print(list(permute))\n",
    "~~~\n",
    "> [(1,2),(1,3),(2,1),(2,3),(3,1),(3,2)]\n",
    "\n",
    "#### 조합 : n개의 원소 사용해서 순서와 관계없이 r개의 배열 나타내는 것\n",
    "\n",
    "~~~\n",
    "from itertools import combinations\n",
    "\n",
    "a = [1, 2, 3]\n",
    "combi = combinations(a, 2)\n",
    "print(list(combi))\n",
    "~~~\n",
    "> [(1, 2), (1, 3), (2, 3)]\n",
    "\n",
    "#### 예시\n",
    "- 1,2,3의 숫자가 적힌 카드가 있을 때, 이 중 두 장을 꺼내는 경우의 수 -> 12, 13, 21, 23, 31, 32\n",
    "- 'A', 'B', 'C'로 만들 수 있는 경우의 수 -> 'ABC', 'ACB', 'BAC', 'BCA', 'CAB', 'CBA'\n",
    "\n",
    "~~~\n",
    "import itertools\n",
    "\n",
    "pool = ['A', 'B', 'C']\n",
    "print(list(map(''.join, itertools.permutations(pool)))) # 3개의 원소로 수열 만들기\n",
    "print(list(map(''.join, itertools.permutations(pool, 2)))) # 2개의 원소로 수열 만들기\n",
    "~~~\n",
    "> ['ABC', 'ACB', 'BAC', 'BCA', 'CAB', 'CBA']  \n",
    "  ['AB', 'AC', 'BA', 'BC', 'CA', 'CB']\n"
   ]
  },
  {
   "cell_type": "markdown",
   "metadata": {},
   "source": [
    "### set\n",
    "- 중복 허용 x ->  필터 역할\n",
    "- 순서 없음\n",
    "\n",
    "~~~\n",
    ">>> s1 = set([1,2,3])\n",
    ">>> s1\n",
    "{1, 2, 3}\n",
    "~~~\n",
    "\n",
    "~~~\n",
    ">>> s2 = set(\"Hello\")\n",
    ">>> s2\n",
    "{'e', 'H', 'l', 'o'}\n",
    "~~~"
   ]
  },
  {
   "cell_type": "code",
   "execution_count": 9,
   "metadata": {},
   "outputs": [
    {
     "data": {
      "text/plain": [
       "3"
      ]
     },
     "execution_count": 9,
     "metadata": {},
     "output_type": "execute_result"
    }
   ],
   "source": [
    "from itertools import permutations\n",
    "import math\n",
    "\n",
    "def check(n):\n",
    "    k = math.sqrt(n)\n",
    "    if n <2 :\n",
    "        return False\n",
    "    for i in range(2, int(k)+1):\n",
    "        if n % i == 0:\n",
    "            return False\n",
    "    return True\n",
    "\n",
    "def solution(numbers):\n",
    "    answer = []\n",
    "    \n",
    "    for k in range(1, len(numbers)+1):\n",
    "        perlist = list(map(''.join, permutations(list(numbers), k )))\n",
    "#         print(perlist) # ['1', '7']  , ['17', '71']\n",
    "        for i in list(set(perlist)):\n",
    "            if check(int(i)):\n",
    "                answer.append(int(i))\n",
    "                \n",
    "    answer = len(set(answer))\n",
    "    return answer\n",
    "        \n",
    "solution(\"17\")"
   ]
  },
  {
   "cell_type": "markdown",
   "metadata": {},
   "source": [
    "### 순서\n",
    "1. check 함수  -> 소수 판정  \n",
    "->  math.sqrt를 사용하는 이유는 제곱수의 경우 소수가 아니기 때문에 이를 통해 판정\n",
    "2. permutaions 이용해 경우의수 -> set으로 중복 제거"
   ]
  }
 ],
 "metadata": {
  "kernelspec": {
   "display_name": "Python 3",
   "language": "python",
   "name": "python3"
  },
  "language_info": {
   "codemirror_mode": {
    "name": "ipython",
    "version": 3
   },
   "file_extension": ".py",
   "mimetype": "text/x-python",
   "name": "python",
   "nbconvert_exporter": "python",
   "pygments_lexer": "ipython3",
   "version": "3.7.6"
  }
 },
 "nbformat": 4,
 "nbformat_minor": 4
}
