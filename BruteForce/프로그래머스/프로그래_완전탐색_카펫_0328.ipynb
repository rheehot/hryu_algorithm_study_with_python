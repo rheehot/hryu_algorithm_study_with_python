{
 "cells": [
  {
   "cell_type": "code",
   "execution_count": 1,
   "metadata": {},
   "outputs": [
    {
     "ename": "SyntaxError",
     "evalue": "invalid syntax (<ipython-input-1-efabc14b69a2>, line 2)",
     "output_type": "error",
     "traceback": [
      "\u001b[1;36m  File \u001b[1;32m\"<ipython-input-1-efabc14b69a2>\"\u001b[1;36m, line \u001b[1;32m2\u001b[0m\n\u001b[1;33m    - 펫의 가로, 세로 크기를 순서대로 배열에 담아 return 하도록 solution 함수를 작성\u001b[0m\n\u001b[1;37m          ^\u001b[0m\n\u001b[1;31mSyntaxError\u001b[0m\u001b[1;31m:\u001b[0m invalid syntax\n"
     ]
    }
   ],
   "source": [
    "### 문제설명\n",
    "- 펫의 가로, 세로 크기를 순서대로 배열에 담아 return 하도록 solution 함수를 작성\n",
    "- 카펫의 가로 길이는 세로 길이와 같거나, 세로 길이보다 길다\n",
    "\n",
    "### 포인트\n",
    "- yellow  약수 구하기\n",
    "- 약수라면 x * y = yellow -> (x+2) * (y+2) = brown+yellow 일때 리턴\n"
   ]
  },
  {
   "cell_type": "code",
   "execution_count": 12,
   "metadata": {},
   "outputs": [
    {
     "data": {
      "text/plain": [
       "[8, 6]"
      ]
     },
     "execution_count": 12,
     "metadata": {},
     "output_type": "execute_result"
    }
   ],
   "source": [
    "import math\n",
    "def solution(brown, yellow):\n",
    "    yel = int(math.sqrt(yellow)//1) # 약수 개수 구하는 법 -> 루트 n까지 돌리기\n",
    "    for i in range(1, yel+1):\n",
    "        if yellow % i == 0:\n",
    "            if (i+2) * (yellow//i+2) == brown+yellow:\n",
    "                return [yellow//i+2, i+2]\n",
    "            \n",
    "            \n",
    "solution(24, 24)"
   ]
  }
 ],
 "metadata": {
  "kernelspec": {
   "display_name": "Python 3",
   "language": "python",
   "name": "python3"
  },
  "language_info": {
   "codemirror_mode": {
    "name": "ipython",
    "version": 3
   },
   "file_extension": ".py",
   "mimetype": "text/x-python",
   "name": "python",
   "nbconvert_exporter": "python",
   "pygments_lexer": "ipython3",
   "version": "3.7.6"
  }
 },
 "nbformat": 4,
 "nbformat_minor": 4
}
