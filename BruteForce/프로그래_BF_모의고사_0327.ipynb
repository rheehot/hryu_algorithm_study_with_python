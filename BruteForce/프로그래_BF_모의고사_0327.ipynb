{
 "cells": [
  {
   "cell_type": "markdown",
   "metadata": {},
   "source": [
    "### 문제 설명\n",
    "\n",
    "- 가장 높은 점수를 받은 사람이 여럿일 경우, return하는 값을 오름차순\n",
    "\n",
    "~~~\n",
    "1번 수포자가 찍는 방식: 1, 2, 3, 4, 5, 1, 2, 3, 4, 5, ...\n",
    "2번 수포자가 찍는 방식: 2, 1, 2, 3, 2, 4, 2, 5, 2, 1, 2, 3, 2, 4, 2, 5, ...\n",
    "3번 수포자가 찍는 방식: 3, 3, 1, 1, 2, 2, 4, 4, 5, 5, 3, 3, 1, 1, 2, 2, 4, 4, 5, 5, ...\n",
    "~~~\n",
    "\n",
    "~~~\n",
    "answers\treturn\n",
    "[1,2,3,4,5]\t[1]\n",
    "[1,3,2,4,2]\t[1,2,3]\n",
    "~~~\n",
    "\n",
    "### 문제 순서\n",
    "1. answers 사이즈 \n",
    "2. 수포자들 3명 답안 배열 만들기\n",
    "3. answers 사이즈 만큼 돌면서 수포자와 답 확인 -> 카운트 증가\n",
    "4. 세 카운트의 맥스값 구해놓고\n",
    "5. 그 맥스 값과 동일하다면 반환할 리스트에 추가해주기"
   ]
  },
  {
   "cell_type": "code",
   "execution_count": 2,
   "metadata": {},
   "outputs": [
    {
     "data": {
      "text/plain": [
       "[1, 2, 3]"
      ]
     },
     "execution_count": 2,
     "metadata": {},
     "output_type": "execute_result"
    }
   ],
   "source": [
    "def solution(answers):\n",
    "    answer = []\n",
    "    \n",
    "    n1 = [1, 2, 3, 4,5] # 5\n",
    "    n2 = [2, 1, 2, 3, 2, 4, 2, 5] # 8\n",
    "    n3 = [3, 3, 1, 1, 2, 2, 4, 4, 5, 5] # 10\n",
    "    length = len(answers)\n",
    "    c1 =c2 = c3=0\n",
    "    for i in range(length):\n",
    "        if answers[i] == n1[i % 5]:\n",
    "            c1 += 1\n",
    "        if answers[i] == n2[i % 8]:\n",
    "            c2 += 1\n",
    "        if answers[i] == n3[i % 10]:\n",
    "            c3 += 1\n",
    "    max_num = max(c1, c2, c3)\n",
    "    #  --------------\n",
    "    if max_num == c1: answer.append(1)\n",
    "    if max_num == c1: answer.append(2)\n",
    "    if max_num == c1: answer.append(3)\n",
    "    return answer\n",
    "solution([1,3,2,4,2])"
   ]
  },
  {
   "cell_type": "code",
   "execution_count": 4,
   "metadata": {},
   "outputs": [
    {
     "data": {
      "text/plain": [
       "[1, 2, 3]"
      ]
     },
     "execution_count": 4,
     "metadata": {},
     "output_type": "execute_result"
    }
   ],
   "source": [
    "### 다른  사람의 풀이 \n",
    "\n",
    "def solution(answers):\n",
    "    n1 = [1, 2, 3, 4,5] # 5\n",
    "    n2 = [2, 1, 2, 3, 2, 4, 2, 5] # 8\n",
    "    n3 = [3, 3, 1, 1, 2, 2, 4, 4, 5, 5] # 10\n",
    "    score = [0, 0, 0]\n",
    "    result = []\n",
    "    \n",
    "    for idx, answer in enumerate(answers):\n",
    "        if answer == n1[idx % len(n1)]:\n",
    "            score[0]+= 1\n",
    "        if answer == n2[idx % len(n2)]:\n",
    "            score[1]+= 1\n",
    "        if answer == n3[idx % len(n3)]:\n",
    "            score[2]+= 1\n",
    "    for idx, s in enumerate(score):\n",
    "        if s == max(score):\n",
    "            result.append(idx+1)\n",
    "            \n",
    "    return result\n",
    "solution([1,3,2,4,2])\n"
   ]
  }
 ],
 "metadata": {
  "kernelspec": {
   "display_name": "Python 3",
   "language": "python",
   "name": "python3"
  },
  "language_info": {
   "codemirror_mode": {
    "name": "ipython",
    "version": 3
   },
   "file_extension": ".py",
   "mimetype": "text/x-python",
   "name": "python",
   "nbconvert_exporter": "python",
   "pygments_lexer": "ipython3",
   "version": "3.7.6"
  }
 },
 "nbformat": 4,
 "nbformat_minor": 4
}
