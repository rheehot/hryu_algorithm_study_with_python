{
 "cells": [
  {
   "cell_type": "markdown",
   "metadata": {},
   "source": [
    "## 떡볶이떡만들기\n",
    "### 문제\n",
    "- 손님이 요청한 길이 m일때, 높이의 최댓값\n",
    "~~~\n",
    "4 6 (n: 1~1000000   // m: 1~ 2억)\n",
    "19 15 10 17   -> 15  \n",
    "~~~\n",
    "### 해결\n",
    "- 적절한 높이 찾을 때까지 이진탐색 수행\n",
    "- 높이 만족 ? yes or no\n",
    "- 큰 탐색범위 -> 이진탐색\n",
    "\n",
    "![KakaoTalk_20210311_214135735](https://user-images.githubusercontent.com/38436013/110788964-a80ac600-82b2-11eb-998c-2c5f1243cc47.jpg)"
   ]
  },
  {
   "cell_type": "code",
   "execution_count": 2,
   "metadata": {},
   "outputs": [
    {
     "name": "stdout",
     "output_type": "stream",
     "text": [
      "4 6\n",
      "19 15 10 17\n",
      "15\n"
     ]
    }
   ],
   "source": [
    "n, m = list(map(int, input().split(' ')))\n",
    "array = list(map(int, input().split()))\n",
    "\n",
    "start = 0\n",
    "end = max(array)\n",
    "\n",
    "# 이진 탐색 수행\n",
    "result = 0\n",
    "while(start <=end):\n",
    "    total = 0\n",
    "    mid = (start + end)//2\n",
    "    \n",
    "    for x in array:\n",
    "        if x > mid:\n",
    "            total += x-mid\n",
    "            \n",
    "    if total < m:\n",
    "            end = mid -1\n",
    "    else :\n",
    "        result = mid # 최대한 덜 잘랐을때가 정답이고, 여기에서 result에 기록\n",
    "        start = mid+1\n",
    "        \n",
    "print(result)"
   ]
  },
  {
   "cell_type": "code",
   "execution_count": null,
   "metadata": {},
   "outputs": [],
   "source": []
  }
 ],
 "metadata": {
  "kernelspec": {
   "display_name": "Python 3",
   "language": "python",
   "name": "python3"
  },
  "language_info": {
   "codemirror_mode": {
    "name": "ipython",
    "version": 3
   },
   "file_extension": ".py",
   "mimetype": "text/x-python",
   "name": "python",
   "nbconvert_exporter": "python",
   "pygments_lexer": "ipython3",
   "version": "3.7.6"
  }
 },
 "nbformat": 4,
 "nbformat_minor": 4
}
