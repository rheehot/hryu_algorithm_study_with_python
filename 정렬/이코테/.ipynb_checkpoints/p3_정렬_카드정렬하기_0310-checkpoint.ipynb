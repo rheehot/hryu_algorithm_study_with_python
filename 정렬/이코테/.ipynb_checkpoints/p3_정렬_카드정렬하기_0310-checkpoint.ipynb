{
 "cells": [
  {
   "cell_type": "markdown",
   "metadata": {},
   "source": [
    "## 카드 정렬하기\n",
    "\n",
    "1. 문제\n",
    "- 예를 들어 10 ,20 ,40 카드가 있다\n",
    "- 비교 횟수 (10+20) + (30+40) = 100 또는 (10+40) + (50+20) = 120\n",
    "- 최소 몇번의 비교가 필요한가\n",
    "\n",
    "2. 조건\n",
    "- 입력 n(1~100,000)\n",
    "\n",
    "~~~\n",
    "3\n",
    "10\n",
    "20\n",
    "40\n",
    "\n",
    "100\n",
    "~~~"
   ]
  },
  {
   "cell_type": "code",
   "execution_count": 1,
   "metadata": {},
   "outputs": [
    {
     "name": "stdout",
     "output_type": "stream",
     "text": [
      "4\n"
     ]
    }
   ],
   "source": []
  }
 ],
 "metadata": {
  "kernelspec": {
   "display_name": "Python 3",
   "language": "python",
   "name": "python3"
  },
  "language_info": {
   "codemirror_mode": {
    "name": "ipython",
    "version": 3
   },
   "file_extension": ".py",
   "mimetype": "text/x-python",
   "name": "python",
   "nbconvert_exporter": "python",
   "pygments_lexer": "ipython3",
   "version": "3.7.6"
  }
 },
 "nbformat": 4,
 "nbformat_minor": 4
}
