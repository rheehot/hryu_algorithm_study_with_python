{
 "cells": [
  {
   "cell_type": "markdown",
   "metadata": {},
   "source": [
    "## 국영수\n",
    "### n명의 이름과 국영수 점수\n",
    "1. 국어 점수 감소 순서\n",
    "2. 국어 같으면, 영어 증가 순서\n",
    "3. 국, 영 같으면, 수학 감소 순서\n",
    "4. 모든 점수 같으면, 이름이 사전순 증가(아스키 코드에서 대문자는 소문자보다 작으므로 앞에옴)\n",
    "\n",
    "\n",
    "- n(1~ 100,000)\n",
    "- 점수 1~100\n",
    "- 이름 알파벳 대소문자, 길이 10 넘지 않음\n",
    "\n",
    "~~~\n",
    "3\n",
    "aa 50 60 100\n",
    "dd 80 60 50\n",
    "cc 80 70 100\n",
    "\n",
    "dd\n",
    "cc \n",
    "aa\n",
    "~~~\n"
   ]
  },
  {
   "cell_type": "code",
   "execution_count": 2,
   "metadata": {},
   "outputs": [
    {
     "name": "stdout",
     "output_type": "stream",
     "text": [
      "3\n",
      "aa 50 60 100\n",
      "dd 80 60 50\n",
      "cc 80 70 100\n",
      "dd\n",
      "cc\n",
      "aa\n"
     ]
    }
   ],
   "source": [
    "n = int(input())\n",
    "\n",
    "students=[]\n",
    "\n",
    "for _ in range(n):\n",
    "    students.append(input().split())\n",
    "    \n",
    "'''\n",
    "[ 정렬 기준 ]\n",
    "1) 두 번째 원소를 기준으로 내림차순 정렬\n",
    "2) 두 번째 원소가 같은 경우, 세 번째 원소를 기준으로 오름차순 정렬\n",
    "3) 세 번째 원소가 같은 경우, 네 번째 원소를 기준으로 내림차순 정렬\n",
    "4) 네 번째 원소가 같은 경우, 첫 번째 원소를 기준으로 오름차순 정렬\n",
    "'''\n",
    "\n",
    "students.sort(key=lambda x : (-int(x[1]), int(x[2]), -int(x[3]), x[0]))\n",
    "\n",
    "for student in students:\n",
    "    print(student[0])"
   ]
  }
 ],
 "metadata": {
  "kernelspec": {
   "display_name": "Python 3",
   "language": "python",
   "name": "python3"
  },
  "language_info": {
   "codemirror_mode": {
    "name": "ipython",
    "version": 3
   },
   "file_extension": ".py",
   "mimetype": "text/x-python",
   "name": "python",
   "nbconvert_exporter": "python",
   "pygments_lexer": "ipython3",
   "version": "3.7.6"
  }
 },
 "nbformat": 4,
 "nbformat_minor": 4
}
