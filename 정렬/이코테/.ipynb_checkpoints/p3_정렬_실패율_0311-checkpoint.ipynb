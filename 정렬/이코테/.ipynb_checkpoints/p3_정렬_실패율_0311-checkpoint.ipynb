{
 "cells": [
  {
   "cell_type": "code",
   "execution_count": 6,
   "metadata": {},
   "outputs": [
    {
     "data": {
      "text/plain": [
       "[3, 2, 4, 1, 5]"
      ]
     },
     "execution_count": 6,
     "metadata": {},
     "output_type": "execute_result"
    }
   ],
   "source": [
    "## 잘못된 코드\n",
    "def solution(N, stages):\n",
    "    answer = []\n",
    "    length = len(stages)\n",
    "    count = 0\n",
    "    arr = [0] * (max(stages)+1)\n",
    "    for i in stages:\n",
    "        arr[stages[i]] += 1\n",
    "        \n",
    "            \n",
    "    for i in range(1, N+1):\n",
    "        if arr[i] == 0:\n",
    "            arr[i] = 0\n",
    "            \n",
    "        else :\n",
    "            count = arr[i]\n",
    "            arr[i] = arr[i]/length\n",
    "        \n",
    "        # (스태이지번호: 1번부터니까, 실패율) 삽입\n",
    "        answer.append((i, arr[i])) # 인자 두개 => 리스트,튜플형식으로 추가,  보통 한가지만 추가\n",
    "        length -= count\n",
    "        \n",
    "    \n",
    "    answer = sorted(answer, key=lambda x : x[1], reverse=True)\n",
    "    \n",
    "    answer = [i[0] for i in answer]\n",
    "    return answer"
   ]
  },
  {
   "cell_type": "code",
   "execution_count": 8,
   "metadata": {},
   "outputs": [],
   "source": [
    "## 실패율\n",
    "def solution(N, stages):\n",
    "    answer = []\n",
    "    length = len(stages)\n",
    "     \n",
    "    # 스테이지 번호를 1부터 n까지 증가\n",
    "    for i in range(1, N+1):\n",
    "        # 해당 스테이지에 머물러 있는 사람의 수 계산\n",
    "        count = stages.count(i)\n",
    "        \n",
    "        # 실패율 계산\n",
    "        \n",
    "        # 스테이지에 도달한 유저 없는 경우\n",
    "        if length == 0:\n",
    "            fail = 0\n",
    "        else :\n",
    "            fail = count / length\n",
    "            \n",
    "        # 리스트에 (스테이지 번호, 실패율 )원소 삽입\n",
    "        answer.append((i, fail))\n",
    "        length -= count\n",
    "        \n",
    "    # 실패율을 기준으로 각 스테이지 내림차순 정렬\n",
    "    answer = sorted(answer, key = lambda x : x[1], reverse=True)\n",
    "    \n",
    "    # 정렬된 스테이지 번호 반환\n",
    "    answer = [i[0] for i in answer]\n",
    "    return answer\n",
    "        "
   ]
  }
 ],
 "metadata": {
  "kernelspec": {
   "display_name": "Python 3",
   "language": "python",
   "name": "python3"
  },
  "language_info": {
   "codemirror_mode": {
    "name": "ipython",
    "version": 3
   },
   "file_extension": ".py",
   "mimetype": "text/x-python",
   "name": "python",
   "nbconvert_exporter": "python",
   "pygments_lexer": "ipython3",
   "version": "3.7.6"
  }
 },
 "nbformat": 4,
 "nbformat_minor": 4
}
