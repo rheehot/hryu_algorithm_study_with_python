{
 "cells": [
  {
   "cell_type": "markdown",
   "metadata": {},
   "source": [
    "## 두 배열의 원소교체\n",
    "\n",
    "1. 문제 \n",
    "- 배열 a와 b 가지고 있다\n",
    "- 둘다 n개의 원소 , 자연수\n",
    "- a,b 최대 k번의 바꿔치기로 a리스트 원소의 합 최대\n",
    "\n",
    "~~~\n",
    "n=5 k=3\n",
    "a = [1, 2, 5, 4, 3]    -> [6, 6, 5, 4, 5]\n",
    "b = [5, 5, 6, 6 ,5]    -> [3, 5, 1, 2, 5]     a 최댓값 26\n",
    "~~~\n",
    "\n",
    "2. sol\n",
    "- a 오름차순 1 2 3 4 5 \n",
    "- b 내림차순 6 6 5 5 5\n",
    "- a<=b이면 바꿔치기"
   ]
  },
  {
   "cell_type": "code",
   "execution_count": 5,
   "metadata": {},
   "outputs": [
    {
     "name": "stdout",
     "output_type": "stream",
     "text": [
      "5 3\n",
      "1 2 5 4 3\n",
      "5 5 6 6 5\n",
      "26\n"
     ]
    }
   ],
   "source": [
    "n,k = map(int, input().split())\n",
    "a = list(map(int, input().split()))\n",
    "b = list(map(int, input().split()))\n",
    "\n",
    "a.sort()\n",
    "b.sort(reverse=True)\n",
    "\n",
    "for i in range(3):\n",
    "    if a[i] < b[i]:\n",
    "        a[i], b[i] = b[i], a[i]\n",
    "    else :\n",
    "          break\n",
    "          \n",
    "print(sum(a))"
   ]
  }
 ],
 "metadata": {
  "kernelspec": {
   "display_name": "Python 3",
   "language": "python",
   "name": "python3"
  },
  "language_info": {
   "codemirror_mode": {
    "name": "ipython",
    "version": 3
   },
   "file_extension": ".py",
   "mimetype": "text/x-python",
   "name": "python",
   "nbconvert_exporter": "python",
   "pygments_lexer": "ipython3",
   "version": "3.7.6"
  }
 },
 "nbformat": 4,
 "nbformat_minor": 4
}
