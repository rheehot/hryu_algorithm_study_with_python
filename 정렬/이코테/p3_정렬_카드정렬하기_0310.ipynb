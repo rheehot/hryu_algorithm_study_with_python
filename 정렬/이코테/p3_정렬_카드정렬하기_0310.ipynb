{
 "cells": [
  {
   "cell_type": "markdown",
   "metadata": {},
   "source": [
    "## 카드 정렬하기\n",
    "\n",
    "1. 문제\n",
    "- 예를 들어 10 ,20 ,40 카드가 있다\n",
    "- 비교 횟수 (10+20) + (30+40) = 100 또는 (10+40) + (50+20) = 120\n",
    "- 최소 몇번의 비교가 필요한가\n",
    "\n",
    "2. 조건\n",
    "- 입력 n(1~100,000)\n",
    "\n",
    "~~~\n",
    "3\n",
    "10\n",
    "20\n",
    "40\n",
    "\n",
    "100\n",
    "~~~"
   ]
  },
  {
   "cell_type": "code",
   "execution_count": 2,
   "metadata": {},
   "outputs": [
    {
     "name": "stdout",
     "output_type": "stream",
     "text": [
      "3\n",
      "10\n",
      "20\n",
      "50\n",
      "110\n"
     ]
    }
   ],
   "source": [
    "import heapq\n",
    "\n",
    "n = int(input())\n",
    "\n",
    "# 힙에 초기 카드 묶음을 몯 삽입\n",
    "\n",
    "heap = []\n",
    "for i in range(n):\n",
    "    data = int(input())\n",
    "    heapq.heappush(heap, data)\n",
    "    \n",
    "result = 0\n",
    "\n",
    "# 힙에 원소가 1개 남을때까지\n",
    "while len(heap) != 1:\n",
    "    # 가장 작은 2개 카드 묶음 꺼내기\n",
    "    one = heapq.heappop(heap)\n",
    "    two = heapq.heappop(heap)\n",
    "    \n",
    "    # 카드 묶음 합쳐서 다시 삽입\n",
    "    sum_value = one + two\n",
    "    result += sum_value\n",
    "    heapq.heappush(heap, sum_value)\n",
    "    \n",
    "print(result)"
   ]
  },
  {
   "cell_type": "code",
   "execution_count": null,
   "metadata": {},
   "outputs": [],
   "source": []
  }
 ],
 "metadata": {
  "kernelspec": {
   "display_name": "Python 3",
   "language": "python",
   "name": "python3"
  },
  "language_info": {
   "codemirror_mode": {
    "name": "ipython",
    "version": 3
   },
   "file_extension": ".py",
   "mimetype": "text/x-python",
   "name": "python",
   "nbconvert_exporter": "python",
   "pygments_lexer": "ipython3",
   "version": "3.7.6"
  }
 },
 "nbformat": 4,
 "nbformat_minor": 4
}
