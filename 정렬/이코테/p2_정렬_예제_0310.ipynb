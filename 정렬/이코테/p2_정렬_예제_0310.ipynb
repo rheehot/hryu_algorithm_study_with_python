{
 "cells": [
  {
   "cell_type": "markdown",
   "metadata": {},
   "source": [
    "## 정렬\n",
    "\n",
    "- 데이터를 특정한 기준에 따라 순서대로 나열\n",
    "\n",
    "  \n",
    "\n",
    "#### 선택정렬\n",
    "\n",
    "- 처리되지 않은 데이터 중 // 가장 작은 데이터를 선택해 맨 앞에 있는 데이터와 바꾸는 것을 반복\n",
    "- 탐색 범위는 점점 작아지고, 탐색범위 만큼 가장 작은 데이터를 찾아야 하기 때문에 선형 탐색 - 이중 반복문\n",
    "\n",
    "- 시간복잡도 O(N*N)\n",
    "\n",
    "#### 삽입정렬\n",
    "\n",
    "- 처리되지 않은 데이터를 하나씩 골라 적절한 위치에 삽입\n",
    "- 선택 정렬 보다 효율적\n",
    "- 시간복잡도 O(N*N), but 데이터가 거의 정렬된 상태라면  O(N)\n",
    "\n",
    "#### 퀵정렬\n",
    "\n",
    "- 기존 데이터를 설정하고// 그 기준보다 큰 데이터와 작은 데이터의 위치를 바꾸는 방법\n",
    "\n",
    "- 가장 많이 사용\n",
    "\n",
    "- 병합 정렬과 더불어 근간이 되는 정렬 알고리즘\n",
    "\n",
    "- 첫 번째 데이터를 기준 데이터(PIVOT)로 설정\n",
    "\n",
    "- 시간복잡도 이상적인 경우, N* O(logN) = 너비 * 높이 => 분할이 절반씩 일어난다면, 최악의 경우  O(N*N) => 0 1 2 3 4 5 6 7 8 9  인경우 피벗이 N개를 기준으로 정렬하기 때문 \n",
    "\n",
    "  \n",
    "\n",
    "#### 계수 정렬\n",
    "\n",
    "- 매우 빠르게 동작\n",
    "\n",
    "- 데이터의 크기 범위가 제한되어 정수형태로 표현할 수 있을때 사용\n",
    "\n",
    "- 데이터 개수 N, 데이터 중 최댓값 K일 대 , 최악의경우에도 수행시간(n+k)\n",
    "\n",
    "- 동일한 값을 가지는 데이터가 여러개 존재할때 사용\n",
    "\n",
    "  \n",
    "\n",
    "| 정렬 알고리즘 | 평균시간 복잡도 | 공간 복잡도 | 특징                                    |\n",
    "| :------------ | --------------- | ----------- | --------------------------------------- |\n",
    "| 선택 정렬     | O(N*N)          | O(N)        | 간단                                    |\n",
    "| 삽입 정렬     | O(N*N)          | O(N)        | 정렬되어 있을 때 효율                   |\n",
    "| 퀵 정렬       | O(N*logN)       | O(N)        | 충분히 빠름                             |\n",
    "| 계수 정렬     | O(N+k)          | O(N+k)      | 데이터 크기 한정되어 있을 때 효율, 빠름 |\n",
    "\n",
    "~~~\n",
    "선택, 스와프, 삽입, 퀵, 계수, 기본예제, \n",
    "키 기준정렬, 위에서 아래로, 성적낮은순서대로, 두배열의 원소교체\n",
    "~~~\n",
    "\n",
    "- 공간복잡도 : 메모리 사용량\n",
    "\n",
    "#### 그림으로 이해하기\n",
    "![KakaoTalk_20210125_140741708](https://user-images.githubusercontent.com/38436013/105663948-c68d4b80-5f16-11eb-8a71-130f13736ece.jpg)\n",
    "![KakaoTalk_20210125_140741708_01](https://user-images.githubusercontent.com/38436013/105663959-cf7e1d00-5f16-11eb-9361-51a6891e91bf.jpg)\n",
    "\n"
   ]
  },
  {
   "cell_type": "code",
   "execution_count": 2,
   "metadata": {},
   "outputs": [
    {
     "name": "stdout",
     "output_type": "stream",
     "text": [
      "[0, 1, 2, 3, 4, 5, 6, 7, 8, 9]\n"
     ]
    }
   ],
   "source": [
    "### 선택 정렬\n",
    "# 처리되지 않은 가장 작은데이터를 맨앞의 데이터와 교체 \n",
    "# for문에서 i는 기준데이터(1,2,3,4.. 순), j는 처리되지 않은 나머지데이터\n",
    "# 기준 min_index(기준)보다 작은 데이터 발견하면, j를 min_index(기준)으로\n",
    "# 그리고 데이터 서로 스와프\n",
    "\n",
    "\n",
    "array = [7, 5, 9, 0, 3, 1, 6, 2, 4, 8 ]\n",
    "\n",
    "for i in range(len(array)):\n",
    "    min_index = i # 가장 작은 원소의 인덱스\n",
    "    for j in range(i+1, len(array)):\n",
    "        if array[min_index] > array[j]:\n",
    "            min_index = j\n",
    "    array[i], array[min_index] = array[min_index], array[i] # 스와프\n",
    "\n",
    "print(array)"
   ]
  },
  {
   "cell_type": "code",
   "execution_count": 3,
   "metadata": {},
   "outputs": [
    {
     "name": "stdout",
     "output_type": "stream",
     "text": [
      "[0, 1, 2, 3, 4, 5, 6, 7, 8, 9]\n"
     ]
    }
   ],
   "source": [
    "### 삽입 정렬\n",
    "\n",
    "array = [7, 5, 9, 0, 3, 1, 6, 2, 4, 8]\n",
    "\n",
    "for i in range(1, len(array)):\n",
    "    for j in range(i, 0, -1): # 인덱스 1~i부터 i까지 1씩 감소하며 반복되는 문법\n",
    "        if array[j] < array[j-1]: # 한 칸씩 왼쪽으로 이동\n",
    "            array[j], array[j-1] = array[j-1], array[j]\n",
    "        else: # 자기보다 작은 데이터를 만나면, 그 위치에서 멈춤\n",
    "            break\n",
    "        \n",
    "print(array)"
   ]
  },
  {
   "cell_type": "code",
   "execution_count": 4,
   "metadata": {},
   "outputs": [
    {
     "name": "stdout",
     "output_type": "stream",
     "text": [
      "[0, 1, 2, 3, 4, 5, 6, 7, 8, 9]\n"
     ]
    }
   ],
   "source": [
    "## 퀵 정렬\n",
    "# 왼쪽 데이터는 피봇보다 크고, 오른쪽 데이터는 피봇보다 작아야\n",
    "# 퀵 정렬은 재귀로 -> 계속분할이 일어남\n",
    "# 분할은 pivot과 right의 원소가 바뀌는것\n",
    "\n",
    "array= [5, 7, 9, 0, 3, 1 ,6 ,2 ,4 ,8]\n",
    "\n",
    "def quick_sort(array, start, end):\n",
    "    if start >= end : # 원소 1개인 경우 종료\n",
    "        return\n",
    "    pivot = start # 피봇 첫번째 원소\n",
    "    left = start +1\n",
    "    right = end\n",
    "    \n",
    "    # 분할 기준 왼 < 오 위치 안바뀌는 경우\n",
    "    while(left <= right):\n",
    "        # 피봇보다 큰 데이터 찾을 때까지 , \n",
    "        while(left<= end and array[left] <= array[pivot]):\n",
    "            left += 1\n",
    "            \n",
    "        # 피봇보다 작은 데이터 찾을 때까지\n",
    "        while (right>start and array[right]>= array[pivot]):\n",
    "            right -= 1\n",
    "        \n",
    "        # 엇갈렸다면, 작은 데이터와 피봇 교체\n",
    "        if(left > right):\n",
    "            array[right], array[pivot] = array[pivot], array[right]\n",
    "        else: # 엇갈리지 않았다면 작은 데이터와 큰 데이터를 교체\n",
    "            array[left], array[right] = array[right], array[left]\n",
    "     \n",
    "    # 분할 이후 왼쪽 부분과 오른쪽 부분에서 각각 정렬 수행 , pivot <-> right\n",
    "    quick_sort(array, start, right-1)\n",
    "    quick_sort(array, right+1, end)\n",
    "    \n",
    "quick_sort(array , 0, len(array)-1)\n",
    "print(array)"
   ]
  },
  {
   "cell_type": "code",
   "execution_count": 5,
   "metadata": {},
   "outputs": [
    {
     "name": "stdout",
     "output_type": "stream",
     "text": [
      "[0, 1, 2, 3, 4, 5, 6, 7, 8, 9]\n"
     ]
    }
   ],
   "source": [
    "## 퀵정렬 2 \n",
    "# 파이써닉하게 ~ \n",
    "\n",
    "array = [5, 7, 9, 0, 3, 1, 6, 2, 4, 8]\n",
    "\n",
    "def quick_sort(array):\n",
    "    # 리스트가 하나 이하의 원소만을 담고 있다면 종료\n",
    "    if len(array) <= 1:\n",
    "        return array\n",
    "    \n",
    "    pivot = array[0] # 피봇은 첫 번째 원소\n",
    "    tail = array[1:] # 피봇ㅇ르 제외한 리스트\n",
    "    \n",
    "    # 기존 방법과 다르게 \n",
    "    left_side = [x for x in tail if x<= pivot]  # 분할된 왼쪽\n",
    "    right_side = [x for x in tail if x> pivot]\n",
    "    \n",
    "    # 분할 이후 왼쪽 부분과 오른쪽 부분에서 각각 정렬, 전체 리스트 반화\n",
    "    return quick_sort(left_side)+ [pivot] + quick_sort(right_side)\n",
    "\n",
    "print(quick_sort(array))\n",
    "    "
   ]
  },
  {
   "cell_type": "code",
   "execution_count": 7,
   "metadata": {},
   "outputs": [
    {
     "name": "stdout",
     "output_type": "stream",
     "text": [
      "0 0 1 1 2 2 3 4 5 5 6 7 8 9 9 "
     ]
    }
   ],
   "source": [
    "## 계수정렬\n",
    "\n",
    "# 모든 원소의 값이 0보다 크거나 같다고 가정\n",
    "array = [7, 5, 9, 0, 3, 1, 6, 2, 9, 1, 4, 8, 0, 5, 2 ]\n",
    "\n",
    "# 모든 범위를 포함하는 리스트 선언(모든 값은 0으로 초기화)\n",
    "count = [0]  * (max(array)+1)\n",
    "\n",
    "for i in range(len(array)):\n",
    "    count[array[i]] += 1\n",
    "    \n",
    "for i in range(len(count)):\n",
    "    for j in range(count[i]):\n",
    "        print(i, end=' ')"
   ]
  },
  {
   "cell_type": "code",
   "execution_count": 8,
   "metadata": {},
   "outputs": [
    {
     "name": "stdout",
     "output_type": "stream",
     "text": [
      "[('당근', 1), ('바나나', 2), ('사과', 3)]\n"
     ]
    }
   ],
   "source": [
    "## 키 기준 정렬 예제\n",
    "array = [('바나나', 2), ('사과', 3), ('당근', 1)]\n",
    "\n",
    "def setting(data):\n",
    "    return data[1]\n",
    "\n",
    "result = sorted(array, key=setting)\n",
    "print(result)"
   ]
  }
 ],
 "metadata": {
  "kernelspec": {
   "display_name": "Python 3",
   "language": "python",
   "name": "python3"
  },
  "language_info": {
   "codemirror_mode": {
    "name": "ipython",
    "version": 3
   },
   "file_extension": ".py",
   "mimetype": "text/x-python",
   "name": "python",
   "nbconvert_exporter": "python",
   "pygments_lexer": "ipython3",
   "version": "3.7.6"
  }
 },
 "nbformat": 4,
 "nbformat_minor": 4
}
