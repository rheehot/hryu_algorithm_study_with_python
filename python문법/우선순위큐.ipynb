{
 "cells": [
  {
   "cell_type": "markdown",
   "metadata": {},
   "source": [
    "## 우선순위큐\n",
    "- fifo 구조의 큐와 달리, 데이터 추가는 상관 없지만 제거될때는 가장 작은 값을 제거하는 자료구조\n",
    "- 내부적으로 데이터 정렬된 상태로 보관하는 매커니즘이 있다\n",
    "- heapq 모듈 통해 구현\n",
    "\n"
   ]
  },
  {
   "cell_type": "code",
   "execution_count": 2,
   "metadata": {},
   "outputs": [],
   "source": [
    "from queue import PriorityQueue \n",
    "\n",
    "# 우선순위 큐 생성 및 초기화\n",
    "que = PriorityQueue()\n",
    "# que = PriorityQueue(maxsize=8)\n"
   ]
  },
  {
   "cell_type": "markdown",
   "metadata": {},
   "source": [
    "#### 우선순위 큐에 원소 추가"
   ]
  },
  {
   "cell_type": "code",
   "execution_count": 4,
   "metadata": {},
   "outputs": [
    {
     "name": "stdout",
     "output_type": "stream",
     "text": [
      "<queue.PriorityQueue object at 0x000002967765CB88>\n"
     ]
    }
   ],
   "source": [
    "que.put(4)\n",
    "que.put(1)\n",
    "que.put(7)\n",
    "que.put(3)"
   ]
  },
  {
   "cell_type": "markdown",
   "metadata": {},
   "source": [
    "#### 우선순위 큐에 원소 삭제 : 크기 순서대로 삭제됨"
   ]
  },
  {
   "cell_type": "code",
   "execution_count": null,
   "metadata": {},
   "outputs": [],
   "source": [
    "print(que.get())  # 1\n",
    "print(que.get())  # 3\n",
    "print(que.get())  # 4\n",
    "print(que.get())  # 7"
   ]
  },
  {
   "cell_type": "markdown",
   "metadata": {},
   "source": [
    "#### 정렬기준 변경 : (우선순위, 값) 튜플의 형태로 정렬 "
   ]
  },
  {
   "cell_type": "code",
   "execution_count": null,
   "metadata": {},
   "outputs": [],
   "source": [
    "que.put((3, 'Apple'))\n",
    "que.put((1, 'Banana'))\n",
    "que.put((2, 'Cherry'))\n",
    "\n",
    "print(que.get()[1])  # Banana\n",
    "print(que.get()[1])  # Cherry\n",
    "print(que.get()[1])  # Apple"
   ]
  },
  {
   "cell_type": "markdown",
   "metadata": {},
   "source": []
  }
 ],
 "metadata": {
  "kernelspec": {
   "display_name": "Python 3",
   "language": "python",
   "name": "python3"
  },
  "language_info": {
   "codemirror_mode": {
    "name": "ipython",
    "version": 3
   },
   "file_extension": ".py",
   "mimetype": "text/x-python",
   "name": "python",
   "nbconvert_exporter": "python",
   "pygments_lexer": "ipython3",
   "version": "3.7.6"
  }
 },
 "nbformat": 4,
 "nbformat_minor": 4
}
