{
 "cells": [
  {
   "cell_type": "markdown",
   "metadata": {},
   "source": [
    "## remove()\n",
    "지우고자 하는 인덱스가 아닌, 값을 입력하는 방식  \n",
    "지우고자 하는 값이 리스트 내에 2개 이상 있다면, 순서상 가장 앞에 있는 값을 지우게 된다  \n",
    "해당 값을 삭제 후, 리스트를 재조정  \n",
    "\n",
    "~~~\n",
    "a = [1, 2, 1, 3]\n",
    "a.remove(1)\n",
    "\n",
    "print(a)\n",
    "# [2, 1, 3]\n",
    "~~~\n",
    "\n",
    "## pop(), del\n",
    "지우고자 하는 리스트의 인덱스를 받아서 지우는 방식, pop()은 지워진 인덱스의 값을 반환\n",
    "del은 반환 안함  \n",
    "그래서 del이 pop()보다 빠르다  \n",
    "해당 값을 삭제 후, 리스트를 재조정 \n",
    "~~~\n",
    "a = [1, 2, 1, 3]\n",
    "removed = a.pop(1)\n",
    "\n",
    "print(removed)\n",
    "print(a)\n",
    "# 2\n",
    "# [1, 1, 3]\n",
    "\n",
    "del a[1]\n",
    "print(a)\n",
    "# [1, 3]\n",
    "~~~\n",
    "\n",
    "## slice\n",
    "제거 말고, 원하는 값 범위를 출력  \n",
    "원본 리스트 그대로, 원하는 범위만큼 새로운 리스트 생성  \n",
    "\n",
    "~~~\n",
    "a = [1, 2, 1, 3, 4, 5, 1]\n",
    "b = a[1:]\n",
    "\n",
    "print(b)\n",
    "# [2, 1, 3, 4, 5, 1]\n",
    "print(a)\n",
    "# [1, 2, 1, 3, 4, 5, 1]\n",
    "~~~\n"
   ]
  }
 ],
 "metadata": {
  "kernelspec": {
   "display_name": "Python 3",
   "language": "python",
   "name": "python3"
  },
  "language_info": {
   "codemirror_mode": {
    "name": "ipython",
    "version": 3
   },
   "file_extension": ".py",
   "mimetype": "text/x-python",
   "name": "python",
   "nbconvert_exporter": "python",
   "pygments_lexer": "ipython3",
   "version": "3.7.6"
  }
 },
 "nbformat": 4,
 "nbformat_minor": 4
}
