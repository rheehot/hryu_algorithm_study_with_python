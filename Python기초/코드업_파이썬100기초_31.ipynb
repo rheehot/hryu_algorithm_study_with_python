{
 "cells": [
  {
   "cell_type": "code",
   "execution_count": null,
   "metadata": {},
   "outputs": [],
   "source": [
    "# 6025 정수 2개 입력받아 합 계산하기\n",
    "a , b = input().split()\n",
    "c = int(a) + int(b)\n",
    "print(c)"
   ]
  },
  {
   "cell_type": "code",
   "execution_count": null,
   "metadata": {},
   "outputs": [],
   "source": [
    "# 6026 실수 2개 입력받아 합 계산하기 **\n",
    "a = float(input())\n",
    "b = float(input())\n",
    "print(a+b)"
   ]
  },
  {
   "cell_type": "code",
   "execution_count": 2,
   "metadata": {},
   "outputs": [
    {
     "name": "stdout",
     "output_type": "stream",
     "text": [
      "255\n",
      "ff\n"
     ]
    }
   ],
   "source": [
    "# 6027 -> 소문자 %x 형식지정자를 사용하면 16진수로 출력할 수 있다. **\n",
    "a = int(input())\n",
    "print(\"%x\" %a)"
   ]
  },
  {
   "cell_type": "code",
   "execution_count": 3,
   "metadata": {},
   "outputs": [
    {
     "name": "stdout",
     "output_type": "stream",
     "text": [
      "255\n",
      "FF\n"
     ]
    }
   ],
   "source": [
    "# 6028 -> 대문자 %x 형식지정자를 사용하면 16진수로 출력할 수 있다. **\n",
    "a = int(input())\n",
    "print(\"%X\" %a)"
   ]
  },
  {
   "cell_type": "code",
   "execution_count": 4,
   "metadata": {},
   "outputs": [
    {
     "name": "stdout",
     "output_type": "stream",
     "text": [
      "f\n",
      "17\n"
     ]
    }
   ],
   "source": [
    "# 6029 16진 정수 입력받아 8진수로 출력하기 **\n",
    "a = input()\n",
    "n = int(a, 16)\n",
    "print('%o' %n)"
   ]
  },
  {
   "cell_type": "code",
   "execution_count": 5,
   "metadata": {},
   "outputs": [
    {
     "name": "stdout",
     "output_type": "stream",
     "text": [
      "d\n",
      "100\n"
     ]
    }
   ],
   "source": [
    "# 6030 영문자 1개 입력받아 10진수로 변환하기 **\n",
    "# ord : answkfmf 10진수 유니코드 값으로 변환한 값\n",
    "# 유니코드 : 세계여러나라의 문자를 공통된 코드 값으로 저장할때 사용하는표준코드\n",
    "# 컴퓨터로 저장되고 처리되는 모든 데이터들은 2진수 형태로 정수화 되어야 하는데\n",
    "# 컴퓨터에 문자 저장하는 방법으로 아스키코드, 유니코드 사용\n",
    "\n",
    "# d영문 A는 65 로 표현하고, 2진수 1000001로 컴퓨터에 저장됨\n",
    "n = ord(input())\n",
    "print(n)"
   ]
  },
  {
   "cell_type": "code",
   "execution_count": 7,
   "metadata": {},
   "outputs": [
    {
     "name": "stdout",
     "output_type": "stream",
     "text": [
      "65\n",
      "A\n"
     ]
    }
   ],
   "source": [
    "# 6031 정수 입력받아 유니코드 문자로 변환하기\n",
    "n = int(input())\n",
    "print(chr(n))"
   ]
  },
  {
   "cell_type": "code",
   "execution_count": null,
   "metadata": {},
   "outputs": [],
   "source": []
  },
  {
   "cell_type": "code",
   "execution_count": null,
   "metadata": {},
   "outputs": [],
   "source": []
  },
  {
   "cell_type": "code",
   "execution_count": null,
   "metadata": {},
   "outputs": [],
   "source": []
  },
  {
   "cell_type": "code",
   "execution_count": null,
   "metadata": {},
   "outputs": [],
   "source": []
  }
 ],
 "metadata": {
  "kernelspec": {
   "display_name": "Python 3",
   "language": "python",
   "name": "python3"
  },
  "language_info": {
   "codemirror_mode": {
    "name": "ipython",
    "version": 3
   },
   "file_extension": ".py",
   "mimetype": "text/x-python",
   "name": "python",
   "nbconvert_exporter": "python",
   "pygments_lexer": "ipython3",
   "version": "3.7.6"
  }
 },
 "nbformat": 4,
 "nbformat_minor": 4
}
