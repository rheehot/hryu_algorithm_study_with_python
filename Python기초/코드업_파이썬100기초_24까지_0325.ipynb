{
 "cells": [
  {
   "cell_type": "code",
   "execution_count": null,
   "metadata": {},
   "outputs": [],
   "source": [
    "# 6017\n",
    "data = input()\n",
    "print(data, data, data)"
   ]
  },
  {
   "cell_type": "code",
   "execution_count": null,
   "metadata": {},
   "outputs": [],
   "source": [
    "# 6018 24시간 시:분 형식으로 시간이 입력될 때, 그대로 출력하는 연습\n",
    "a, b= input().split(':')\n",
    "print(a, b, sep=':')"
   ]
  },
  {
   "cell_type": "code",
   "execution_count": null,
   "metadata": {},
   "outputs": [],
   "source": [
    "# 6019 *\n",
    "# 연월일 입력받아 순서 바꿔 출력하기(py)\n",
    "a, b,c = input().split('.')\n",
    "print(c, b, a, sep='-')\n"
   ]
  },
  {
   "cell_type": "code",
   "execution_count": null,
   "metadata": {},
   "outputs": [],
   "source": [
    "# 6020\n",
    "# 주민번호 입력받아 형태 바꿔 출력하기(py) **\n",
    "data = [str(x) for x in input().strip().split('-')]\n",
    "print(data) # ['000907', '1121112']\n",
    "print(data[0]+data[1] )\n"
   ]
  },
  {
   "cell_type": "code",
   "execution_count": null,
   "metadata": {},
   "outputs": [],
   "source": [
    "# 6020 2번째\n",
    "data = input()\n",
    "data2 = data.replace(\"-\", \"\")\n",
    "print(data2)"
   ]
  },
  {
   "cell_type": "markdown",
   "metadata": {},
   "source": [
    "### String strip(), rstrip(), lstrip() 사용 방법\n",
    "strip[(chars)] : 인자로 전달된 문자를 왼쪽과 오른쪽에서 제거\n",
    "lstrip[(chars)] : 인자로 전달된 문자를 왼쪽에서 제거\n",
    "rstrip[(chars)] : 인자로 전달된 문자를 오른쪽에서 제거\n",
    "    \n",
    "- 공백제거 : strip()\n",
    "- 동일한 문자 제거 \n",
    "\n",
    "~~~\n",
    "text = '0000000Water boils at 100 degrees 000'\n",
    "print(text.lstrip('0'))\n",
    "print(text.rstrip('0'))\n",
    "print(text.strip('0'))\n",
    "~~~\n",
    "\n",
    "> Water boils at 100 degrees 000  \n",
    "0000000Water boils at 100 degrees  \n",
    "Water boils at 100 degrees  \n",
    "- 여러 문자 제거 : 그 문자와 동일한 것들은 다 제거\n",
    "\n",
    "### 문자열 치환 replace\n",
    "- 대상 문자열에서 검색 문자 지정하여 일치하는 문자 있으면 다른 문자로 바꿔줌\n",
    "- 문자열.replace(“검색 문자”, “치환 문자” [, 치환 횟수])\n",
    "- 리스트 치환 예제 : 리스트에 저장한 문자열 치환\n",
    "\n",
    "~~~\n",
    "list1 = [\"apple\", \"orange\", \"melon\", \"banana\"]\n",
    "list2 = []\n",
    "\n",
    "print(\"치환전：{0}\".format(list1))\n",
    "\n",
    "for item in list1:\n",
    "\n",
    "    #문자열 치환\n",
    "    item_mod = item.replace(\"apple\", \"orange\")\n",
    "\n",
    "    # 새로운 리스트에 추가\n",
    "    list2.append(item_mod)\n",
    "\n",
    "print(\"치환후：{0}\".format(list2))\n",
    "~~~\n",
    "\n",
    "print(\"{0}, {1}, {2}\".format(x, y, z))\n",
    "\n",
    "이렇게 하면 x 변수의 값은 {0} 자리에, y 변수의 값은 {1} 자리에, z 변수의 값은 {2} 자리에 출력됩니다. 아래의 코드는 이해를 돕기 위한 소스 코드입니다.\n",
    "\n",
    "\n",
    "> 치환전：['apple', 'orange', 'melon', 'banana']  \n",
    "  치환후：['orange', 'orange', 'melon', 'banana']\n"
   ]
  },
  {
   "cell_type": "code",
   "execution_count": null,
   "metadata": {},
   "outputs": [],
   "source": [
    "# 6021 ** => 파이써닉하게 해보기 할수 있는데 생각 안난다있는데 생각 안난다\n",
    "s = input()\n",
    "for i in range(len(s)):\n",
    "    print(s[i], sep='\\n')"
   ]
  },
  {
   "cell_type": "code",
   "execution_count": null,
   "metadata": {},
   "outputs": [],
   "source": []
  },
  {
   "cell_type": "code",
   "execution_count": null,
   "metadata": {},
   "outputs": [],
   "source": [
    "# 6022 ** 연월일 입력 받아 나누어 출력하기\n",
    "s = input()\n",
    "print(s[0:2], s[2:4], s[4:])\n",
    "\n",
    "\n",
    "# sol 2\n",
    "d = input()\n",
    "result = []\n",
    "cnt = 0\n",
    "for _ in range(len(d)):\n",
    "    result.append(d[cnt:cnt+2])\n",
    "    cnt+=2\n",
    "print(\" \".join(result))"
   ]
  },
  {
   "cell_type": "code",
   "execution_count": 2,
   "metadata": {},
   "outputs": [
    {
     "name": "stdout",
     "output_type": "stream",
     "text": [
      "12:23:34\n",
      "23\n"
     ]
    }
   ],
   "source": [
    "# 6023 시분초 입력받아 분만 출력하기 ** 시:분:초 형식으로 입력된다.\n",
    "hour, minute, second = map(str, input().split(\":\"))\n",
    "print(minute)"
   ]
  },
  {
   "cell_type": "code",
   "execution_count": 7,
   "metadata": {},
   "outputs": [
    {
     "name": "stdout",
     "output_type": "stream",
     "text": [
      "df dfd\n",
      "dfdfd\n"
     ]
    }
   ],
   "source": [
    "# 6024 단어 2개 입력받아 이어 붙이기\n",
    "# w1, w2 = input().split()\n",
    "# s = w1 + w2\n",
    "# print(s)\n",
    "# input()은 공백 포함해서 입력 &반환\n",
    "# s = input()\n",
    "s1, s2 = input().split()\n",
    "print(s1+s2)\n",
    "\n",
    "\n",
    "## 나의 궁금증 하나로 입력받은 문자열 공백지우고 출력 어떻게?"
   ]
  },
  {
   "cell_type": "code",
   "execution_count": null,
   "metadata": {},
   "outputs": [],
   "source": []
  }
 ],
 "metadata": {
  "kernelspec": {
   "display_name": "Python 3",
   "language": "python",
   "name": "python3"
  },
  "language_info": {
   "codemirror_mode": {
    "name": "ipython",
    "version": 3
   },
   "file_extension": ".py",
   "mimetype": "text/x-python",
   "name": "python",
   "nbconvert_exporter": "python",
   "pygments_lexer": "ipython3",
   "version": "3.7.6"
  }
 },
 "nbformat": 4,
 "nbformat_minor": 4
}
