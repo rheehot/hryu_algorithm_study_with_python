{
 "cells": [
  {
   "cell_type": "code",
   "execution_count": 3,
   "metadata": {},
   "outputs": [
    {
     "name": "stdout",
     "output_type": "stream",
     "text": [
      "문장1 문장2\n",
      "문장1 문장2\n",
      "Hello World\n"
     ]
    }
   ],
   "source": [
    "#  6002 \n",
    "# 두 경우다 출력하면 공백을 두고 출렴됨\n",
    "print(\"문장1 문장2\")\n",
    "print(\"문장1\", \"문장2\")\n",
    "\n",
    "print(\"Hello World\")"
   ]
  },
  {
   "cell_type": "code",
   "execution_count": 7,
   "metadata": {},
   "outputs": [
    {
     "name": "stdout",
     "output_type": "stream",
     "text": [
      "\"dfdf\"\n"
     ]
    }
   ],
   "source": [
    "# 6005\n",
    "# 큰따옴표(\")(double quotation mark)가 포함된 출력문\n",
    "print('\"dfdf\"')"
   ]
  },
  {
   "cell_type": "code",
   "execution_count": 9,
   "metadata": {},
   "outputs": [
    {
     "name": "stdout",
     "output_type": "stream",
     "text": [
      "\"!@#$%^&*()'\n"
     ]
    }
   ],
   "source": [
    "# 6006 \n",
    "# 특수문자 출력 -> \"!@#$%^&*()'(단, 큰따옴표와 작은따옴표도 함께 출력한다.)\n",
    "# \\\" 또는 \\' 를 이용하여 출력\n",
    "print(\"\\\"!@#$%^&*()\\'\")"
   ]
  },
  {
   "cell_type": "code",
   "execution_count": 17,
   "metadata": {},
   "outputs": [
    {
     "name": "stdout",
     "output_type": "stream",
     "text": [
      "\"C:\\Download\\'hello'.py\"\n"
     ]
    }
   ],
   "source": [
    "# 6007  \n",
    "# \"C:\\Download\\'hello'.py\" 출력하기\n",
    "# \\도 안전하게 출력하려면 \\\\를 사용하는 것이 좋다.\n",
    "# 바깥에 쌍따옴표 필요, \\ 출력 위해 \\\\ \n",
    "print(\"\\\"C:\\Download\\\\'hello'.py\\\"\")\n",
    "# print('\\\"C:\\Download\\'hello'.py\\\"')"
   ]
  },
  {
   "cell_type": "code",
   "execution_count": 21,
   "metadata": {},
   "outputs": [
    {
     "name": "stdout",
     "output_type": "stream",
     "text": [
      "print(\"Hello\\nWorld\")\n"
     ]
    }
   ],
   "source": [
    "# 6008 \n",
    "# print(\"Hello\\nWorld\")  출력하기\n",
    "# print 명령 안에 서식 문자로 \\n을 사용하면 줄 바꿈(new line) 문자로 사용된다.\n",
    "# 어떻게 ?\n",
    "print('print(\"Hello\\\\nWorld\")')"
   ]
  },
  {
   "cell_type": "code",
   "execution_count": 22,
   "metadata": {},
   "outputs": [
    {
     "name": "stdout",
     "output_type": "stream",
     "text": [
      "'Hello'\n"
     ]
    }
   ],
   "source": [
    "# 6003\n",
    "print(\"'Hello'\")"
   ]
  }
 ],
 "metadata": {
  "kernelspec": {
   "display_name": "Python 3",
   "language": "python",
   "name": "python3"
  },
  "language_info": {
   "codemirror_mode": {
    "name": "ipython",
    "version": 3
   },
   "file_extension": ".py",
   "mimetype": "text/x-python",
   "name": "python",
   "nbconvert_exporter": "python",
   "pygments_lexer": "ipython3",
   "version": "3.7.6"
  }
 },
 "nbformat": 4,
 "nbformat_minor": 4
}
