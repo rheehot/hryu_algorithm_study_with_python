{
 "cells": [
  {
   "cell_type": "markdown",
   "metadata": {},
   "source": [
    "### sol 1 (힙 x) 순서"
   ]
  },
  {
   "cell_type": "code",
   "execution_count": null,
   "metadata": {},
   "outputs": [],
   "source": [
    "1. 반환해줄 리스트(answer) 생성 및 초기화\n",
    "2. [\"I 16\",\"D 1\"] 연산 공백 제거 -> [\"I16\",\"D1\"] 이런식으로 !!\n",
    "3. \"I\"를 만나면 삽입\n",
    "4. \"D\"를 만나면 \n",
    "    -> 빈 리스트가 아닐 때,\n",
    "        - \"1\" 일때, MAX POP\n",
    "        - 이게 아닐때, MIN POP\n",
    "    -> 빈 리스트라면, PASS\n",
    "5. 삽입이든 삭제든 연산 수행하고 나면 answer.sort() 오름차순\n",
    "6. answer가 비어있다면 [0,0]반환, 그게 아니라면 [max(answer), min(answer)] 반환"
   ]
  },
  {
   "cell_type": "code",
   "execution_count": 21,
   "metadata": {},
   "outputs": [
    {
     "data": {
      "text/plain": [
       "[7, 5]"
      ]
     },
     "execution_count": 21,
     "metadata": {},
     "output_type": "execute_result"
    }
   ],
   "source": [
    "def solution(operations):\n",
    "    answer = []\n",
    "    for i in operations:\n",
    "        a, b=i.split(\" \")\n",
    "        if a == 'I':\n",
    "            answer.append(int(b))\n",
    "        else:\n",
    "            if len(answer) >0:\n",
    "                if b == '1':\n",
    "                    answer.pop()\n",
    "                    \n",
    "                else:\n",
    "                    answer.pop(0)\n",
    "                    \n",
    "            else:\n",
    "                pass\n",
    "        answer.sort() # 연산 한번 수행하고 나면 리스트 정렬해주기\n",
    "    if not answer:\n",
    "        return [0,0]\n",
    "    else:\n",
    "        return [max(answer), min(answer)] \n",
    "    \n",
    "solution([\"I 7\",\"I 5\",\"I -5\",\"D -1\"])\n",
    "\n",
    "\n",
    "### 왜 ? IndexError: pop index out of range\n"
   ]
  },
  {
   "cell_type": "code",
   "execution_count": 17,
   "metadata": {},
   "outputs": [
    {
     "data": {
      "text/plain": [
       "1"
      ]
     },
     "execution_count": 17,
     "metadata": {},
     "output_type": "execute_result"
    }
   ],
   "source": [
    "# pop()은 데이터 삭제후 반환한다\n",
    "# pop(x)는 리스트의 인덱스임 !!\n",
    "a = [1, 2]\n",
    "a.pop(0)\n",
    "\n",
    "b = [1]\n",
    "b.pop()"
   ]
  },
  {
   "cell_type": "markdown",
   "metadata": {},
   "source": [
    "### sol 2 (힙 o) 순서"
   ]
  },
  {
   "cell_type": "code",
   "execution_count": 24,
   "metadata": {},
   "outputs": [
    {
     "data": {
      "text/plain": [
       "[7, 5]"
      ]
     },
     "execution_count": 24,
     "metadata": {},
     "output_type": "execute_result"
    }
   ],
   "source": [
    "import heapq\n",
    "\n",
    "def solution(operations):\n",
    "    answer = []\n",
    "    for i in operations:\n",
    "        a,b = i.split(' ')\n",
    "        if a == \"I\":\n",
    "            heapq.heappush(answer, int(b))\n",
    "        else :\n",
    "            if len(answer) == 0:\n",
    "                pass\n",
    "            elif b == '1':\n",
    "                answer.pop(answer.index(heapq.nlargest(1, answer)[0]))\n",
    "            else:\n",
    "                heapq.heappop(answer) # 힙은 최솟값을 우선순위로 삭제함\n",
    "        answer.sort()\n",
    "    if not answer:\n",
    "        return [0,0]\n",
    "    else:\n",
    "        return [heapq.nlargest(1,answer )[0], heapq.nsmallest(1, answer)[0]]\n",
    "solution([\"I 7\",\"I 5\",\"I -5\",\"D -1\"])    "
   ]
  }
 ],
 "metadata": {
  "kernelspec": {
   "display_name": "Python 3",
   "language": "python",
   "name": "python3"
  },
  "language_info": {
   "codemirror_mode": {
    "name": "ipython",
    "version": 3
   },
   "file_extension": ".py",
   "mimetype": "text/x-python",
   "name": "python",
   "nbconvert_exporter": "python",
   "pygments_lexer": "ipython3",
   "version": "3.7.6"
  }
 },
 "nbformat": 4,
 "nbformat_minor": 4
}
