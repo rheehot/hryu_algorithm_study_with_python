{
 "cells": [
  {
   "cell_type": "markdown",
   "metadata": {},
   "source": [
    "### 문제 설명\n",
    "- 하드디스크 한번에 하나의 작업만 수행\n",
    "- 사례 1 : 요청 들어온 순서대로 처리한다 : 10ms(= (3 + 11 + 16) / 3\n",
    "\n",
    "~~~\n",
    "0ms 시점에 3ms가 소요되는 A작업 요청\n",
    "1ms 시점에 9ms가 소요되는 B작업 요청\n",
    "2ms 시점에 6ms가 소요되는 C작업 요청\n",
    "\n",
    "- A: 3ms 시점에 작업 완료 (요청에서 종료까지 : 3ms)\n",
    "- B: 1ms부터 대기하다가, 3ms 시점에 작업을 시작해서 12ms 시점에 작업 완료(요청에서 종료까지 : 11ms)\n",
    "- C: 2ms부터 대기하다가, 12ms 시점에 작업을 시작해서 18ms 시점에 작업 완료(요청에서 종료까지 : 16ms)\n",
    "~~~\n",
    "  \n",
    "- 사례 2: 9ms(= (3 + 7 + 17) / 3)\n",
    "\n",
    "~~~\n",
    "- A: 3ms 시점에 작업 완료(요청에서 종료까지 : 3ms)\n",
    "- C: 2ms부터 대기하다가, 3ms 시점에 작업을 시작해서 9ms 시점에 작업 완료(요청에서 종료까지 : 7ms)\n",
    "- B: 1ms부터 대기하다가, 9ms 시점에 작업을 시작해서 18ms 시점에 작업 완료(요청에서 종료까지 : 17ms)\n",
    "~~~\n",
    "\n",
    "- 제한사항\n",
    "~~~\n",
    "jobs의 길이는 1 이상 500 이하입니다.\n",
    "jobs의 각 행은 하나의 작업에 대한 [작업이 요청되는 시점, 작업의 소요시간] 입니다.\n",
    "각 작업에 대해 작업이 요청되는 시간은 0 이상 1,000 이하입니다.\n",
    "각 작업에 대해 작업의 소요시간은 1 이상 1,000 이하입니다.\n",
    "하드디스크가 작업을 수행하고 있지 않을 때에는 먼저 요청이 들어온 작업부터 처리합니다.\n",
    "~~~\n",
    "\n",
    "- 결론 : 평균 시간 최소 return"
   ]
  },
  {
   "cell_type": "code",
   "execution_count": null,
   "metadata": {},
   "outputs": [],
   "source": [
    "### 포인트\n",
    "- 자료구조 : 힙을 이용하자  => 가장 작은 작업시간이 루트에 위치하게 \n",
    "\n",
    "### 순서 \n"
   ]
  },
  {
   "cell_type": "code",
   "execution_count": 20,
   "metadata": {},
   "outputs": [
    {
     "data": {
      "text/plain": [
       "5"
      ]
     },
     "execution_count": 20,
     "metadata": {},
     "output_type": "execute_result"
    }
   ],
   "source": [
    "### 대실패\n",
    "def solution(jobs):\n",
    "    answer = 0\n",
    "#     heapq.heapify(jobs)\n",
    "    jobs.sort(key = lambda x : x[1])\n",
    "    temp = jobs[0][1] + jobs[0][0]\n",
    "    if len(jobs) > 1 :\n",
    "        for i in range(1, len(jobs)):\n",
    "            if jobs[i][1] > jobs[i-1][0] and jobs[i][1] >= jobs[i][1]:\n",
    "                jobs[i][1] += jobs[i-1][1]\n",
    "#                 print(jobs[i][1])\n",
    "                jobs[i][0] = jobs[i][1] - jobs[i][0]\n",
    "                temp += jobs[i][0]\n",
    "            else:\n",
    "        answer=temp//len(jobs)     \n",
    "    else:\n",
    "        return temp\n",
    "    \n",
    "    return answer\n",
    "# solution([[0, 3], [1, 9], [2, 6]])\n",
    "solution([[4,3], [2,8], [0,4]])"
   ]
  },
  {
   "cell_type": "code",
   "execution_count": null,
   "metadata": {},
   "outputs": [],
   "source": [
    "### 포인트\n",
    "- 자료구조 : 힙을 이용하자  => 가장 작은 작업시간이 루트에 위치하게 \n",
    "\n"
   ]
  }
 ],
 "metadata": {
  "kernelspec": {
   "display_name": "Python 3",
   "language": "python",
   "name": "python3"
  },
  "language_info": {
   "codemirror_mode": {
    "name": "ipython",
    "version": 3
   },
   "file_extension": ".py",
   "mimetype": "text/x-python",
   "name": "python",
   "nbconvert_exporter": "python",
   "pygments_lexer": "ipython3",
   "version": "3.7.6"
  }
 },
 "nbformat": 4,
 "nbformat_minor": 4
}
