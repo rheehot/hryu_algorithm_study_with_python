{
 "cells": [
  {
   "cell_type": "markdown",
   "metadata": {},
   "source": [
    "### 문제설명\n",
    "-  모든 음식의 스코빌 지수를 K 이상 하고자\n",
    "- 섞은 음식의 스코빌 지수 =가장 맵지 않은 음식의 스코빌 지수 +(두 번째로 맵지 않은 음식의 스코빌 지수 * 2)\n",
    "-  모든 음식의 스코빌 지수가 K 이상이 될 때까지 반복\n",
    "-  섞어야 하는 최소 횟수를 return\n",
    "\n",
    "### 예시\n",
    "~~~\n",
    "scoville\tK\treturn\n",
    "[1, 2, 3, 9, 10, 12]\t7\t2\n",
    "~~~\n",
    "\n",
    "### 조건\n",
    "- scoville 2 ~ 1,000,000\n",
    "- k 0~1억\n",
    "- scoville 원소 0 ~1,000,000\n",
    "- 모든 음식의 스코빌지수 k이상 만들 수 없는 경우 -1\n"
   ]
  },
  {
   "cell_type": "markdown",
   "metadata": {},
   "source": [
    "### 포인트\n",
    "1. sort() 구현\n",
    "---\n",
    "- 조건 보면 k가 1억이라면 계산을 1억번 하는 수가 있어 -> 그냥 구현은 안됨\n",
    "- 최솟값 2개만 찾아내면 되는데 매번 전체 정렬하는 것은 비효율적     \n",
    "\n",
    "</br>\n",
    "\n",
    "2. 최소 힙트리\n",
    "---  \n",
    "- 부모노드 < 자식 노드, 루트의 숫자가 항상 최솟값 유지하는 트리형 자료구조     \n",
    "- 최소 힙트리는 우선순위큐 or 파이썬의 힙큐모듈 이용  \n",
    "- 최소 힙트리는 완전 정렬된 형태 아님, 다만 값 반환할때 루트값 최솟값 반환해줌  \n",
    "- 그래서 sort()보다 빠르다  "
   ]
  },
  {
   "cell_type": "code",
   "execution_count": null,
   "metadata": {},
   "outputs": [],
   "source": []
  },
  {
   "cell_type": "code",
   "execution_count": null,
   "metadata": {},
   "outputs": [],
   "source": []
  }
 ],
 "metadata": {
  "kernelspec": {
   "display_name": "Python 3",
   "language": "python",
   "name": "python3"
  },
  "language_info": {
   "codemirror_mode": {
    "name": "ipython",
    "version": 3
   },
   "file_extension": ".py",
   "mimetype": "text/x-python",
   "name": "python",
   "nbconvert_exporter": "python",
   "pygments_lexer": "ipython3",
   "version": "3.7.6"
  }
 },
 "nbformat": 4,
 "nbformat_minor": 4
}
