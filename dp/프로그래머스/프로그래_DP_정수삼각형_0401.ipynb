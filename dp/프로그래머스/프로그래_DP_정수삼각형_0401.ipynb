{
 "cells": [
  {
   "cell_type": "markdown",
   "metadata": {},
   "source": [
    "### 포인트\n",
    "- 위에서 아래로 최댓값 누적시킨다\n",
    "- 반복문 -> 위에서 아래로 내려오는, 같은 행에서 좌우로 확인하는\n",
    "\n",
    "~~~\n",
    "triangle\tresult\n",
    "[[7], [3, 8], [8, 1, 0], [2, 7, 4, 4], [4, 5, 2, 6, 5]]\t30\n",
    "~~~\n",
    "\n",
    "0\n",
    "0 1\n",
    "0 1 2 \n",
    "0 1 2 3 \n",
    "0 1 2 3 4\n",
    "\n",
    "### 풀이\n",
    "1. 둘째행부터 마지막행까지 반복 탐색\n",
    "    - 각 행 길이만큼 반복 탐색\n",
    "        - 가장 왼쪽이라면 -> 앞행가장왼쪽 원소 더해주기\n",
    "        - 가장 오른쪽이라면 -> 앞행가장오른쪽 원소 더해주기\n",
    "        - 중간에 위치한다면 -> 앞행 왼쪽, 오른쪽 원소크기 비교해서 큰값 더해주기\n"
   ]
  },
  {
   "cell_type": "code",
   "execution_count": 5,
   "metadata": {},
   "outputs": [
    {
     "data": {
      "text/plain": [
       "30"
      ]
     },
     "execution_count": 5,
     "metadata": {},
     "output_type": "execute_result"
    }
   ],
   "source": [
    "def solution(triangle):\n",
    "    # 둘째 줄 부터 계산\n",
    "    for row in range(1, len(triangle)):\n",
    "        # 행만큼 for 문\n",
    "        for idx in range(row+1):\n",
    "            # 가장 왼쪽\n",
    "            if idx ==0:\n",
    "                triangle[row][idx] += triangle[row-1][idx]\n",
    "            # 가장 오른쪽\n",
    "            elif idx==row:\n",
    "                triangle[row][idx] += triangle[row-1][idx-1]\n",
    "            # 중간\n",
    "            else:\n",
    "                triangle[row][idx] += max(triangle[row-1][idx-1], triangle[row-1][idx])\n",
    "    return max(triangle[-1])\n",
    "solution([[7], [3, 8], [8, 1, 0], [2, 7, 4, 4], [4, 5, 2, 6, 5]])    "
   ]
  }
 ],
 "metadata": {
  "kernelspec": {
   "display_name": "Python 3",
   "language": "python",
   "name": "python3"
  },
  "language_info": {
   "codemirror_mode": {
    "name": "ipython",
    "version": 3
   },
   "file_extension": ".py",
   "mimetype": "text/x-python",
   "name": "python",
   "nbconvert_exporter": "python",
   "pygments_lexer": "ipython3",
   "version": "3.7.6"
  }
 },
 "nbformat": 4,
 "nbformat_minor": 4
}
