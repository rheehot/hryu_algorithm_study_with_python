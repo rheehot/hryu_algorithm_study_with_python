{
 "cells": [
  {
   "cell_type": "code",
   "execution_count": 1,
   "metadata": {},
   "outputs": [
    {
     "ename": "SyntaxError",
     "evalue": "invalid syntax (<ipython-input-1-d907fef7706c>, line 2)",
     "output_type": "error",
     "traceback": [
      "\u001b[1;36m  File \u001b[1;32m\"<ipython-input-1-d907fef7706c>\"\u001b[1;36m, line \u001b[1;32m2\u001b[0m\n\u001b[1;33m    - dp의 적용\u001b[0m\n\u001b[1;37m           ^\u001b[0m\n\u001b[1;31mSyntaxError\u001b[0m\u001b[1;31m:\u001b[0m invalid syntax\n"
     ]
    }
   ],
   "source": [
    "## 포인트\n",
    "- dp의 적용\n",
    "1. 숫자 1개 사용 -> n 하나\n",
    "2. 숫자 2개 사용 -> nn( 이어붙임), 1개표현가능한숫자들 + 1개사칙연산결과\n",
    "3. 숫자 3개 사용 -> nnn(이어붙임), 1개표현가능한숫자들 + 2개사칙연산결과 and   \n",
    "2개표현가능한숫자들 + 1개사칙연산결과 "
   ]
  },
  {
   "cell_type": "code",
   "execution_count": null,
   "metadata": {},
   "outputs": [],
   "source": [
    "def solution(N, number):\n",
    "    answer = 0\n",
    "    \n",
    "    if N == number:\n",
    "        return 1\n",
    "    # 1. set *8 초기화\n",
    "    s = [set() for x in range(8)]\n",
    "    \n",
    "    # 2. 각 set마다 기본 수 \"N\" \n",
    "    return answer"
   ]
  }
 ],
 "metadata": {
  "kernelspec": {
   "display_name": "Python 3",
   "language": "python",
   "name": "python3"
  },
  "language_info": {
   "codemirror_mode": {
    "name": "ipython",
    "version": 3
   },
   "file_extension": ".py",
   "mimetype": "text/x-python",
   "name": "python",
   "nbconvert_exporter": "python",
   "pygments_lexer": "ipython3",
   "version": "3.7.6"
  }
 },
 "nbformat": 4,
 "nbformat_minor": 4
}
