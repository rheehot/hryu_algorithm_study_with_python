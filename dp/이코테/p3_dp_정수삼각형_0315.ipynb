{
 "cells": [
  {
   "cell_type": "markdown",
   "metadata": {},
   "source": [
    "## 정수삼각형\n",
    "- 위에서 아래로 이동\n",
    "- 아래층까지 이동했을때 선택된 수의 합\n",
    "- 아래층 수는 현재층에서 대각선 왼쪽 or 오른쪽으로 이동 가능\n",
    "- 삼각형 크기 1~ 500, 삼각형을 이루고 있는 각 수는 모두 정수, 0~9999\n",
    "- sol\n",
    "- 최댓값 최솟값 나오면 보통 dp로 해결\n",
    "- 이런문제는 점화식을 알려준다 문제에서\n",
    "- 이차원 배열에 삼각형 저장\n",
    "- 시간복잡도\n",
    "- 높이 500 o(500*500) 1억 안넘으니까 가능\n",
    "\n",
    "~~~\n",
    "5\n",
    "7\n",
    "3 8\n",
    "8 1 0\n",
    "2 7 4 4\n",
    "4 5 2 6 5      -> 30\n",
    "~~~"
   ]
  },
  {
   "cell_type": "code",
   "execution_count": 2,
   "metadata": {},
   "outputs": [
    {
     "name": "stdout",
     "output_type": "stream",
     "text": [
      "5\n",
      "7\n",
      "3 8\n",
      "8 1 0\n",
      "2 7 4 4\n",
      "4 5 2 6 5\n",
      "30\n"
     ]
    }
   ],
   "source": [
    "n = int(input())\n",
    "dp = []\n",
    "\n",
    "for _ in range(n):\n",
    "    dp.append(list(map(int, input().split())))\n",
    "    \n",
    "# 두번째 줄부터 내려가면서 확인\n",
    "for i in range(1, n):\n",
    "    for j in range(i+1):\n",
    "        # 왼쪽 위에서 내려오는 경우\n",
    "        if j == 0:\n",
    "            dp[i][j] += dp[i-1][j]\n",
    "        elif j ==i:\n",
    "            dp[i][j] += dp[i-1][j-1]\n",
    "        else:\n",
    "            dp[i][j] += max(dp[i-1][j-1], dp[i-1][j])\n",
    "print(max(dp[n-1]))"
   ]
  }
 ],
 "metadata": {
  "kernelspec": {
   "display_name": "Python 3",
   "language": "python",
   "name": "python3"
  },
  "language_info": {
   "codemirror_mode": {
    "name": "ipython",
    "version": 3
   },
   "file_extension": ".py",
   "mimetype": "text/x-python",
   "name": "python",
   "nbconvert_exporter": "python",
   "pygments_lexer": "ipython3",
   "version": "3.7.6"
  }
 },
 "nbformat": 4,
 "nbformat_minor": 4
}
