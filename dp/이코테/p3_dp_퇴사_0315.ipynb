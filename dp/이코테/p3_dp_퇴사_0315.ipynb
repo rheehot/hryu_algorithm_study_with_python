{
 "cells": [
  {
   "cell_type": "markdown",
   "metadata": {},
   "source": [
    "## 퇴사\n",
    "- 회의 시작 시간, 회의 시간이 정해지 타임 테이블에서 최대한 회의 많이 잡기와 비슷한 dp 문제\n",
    "- 순서\n",
    "1. dp는 해당 날에 받을 수 있는 최대 보상 저장\n",
    "2. dp는 현재 보상과 낼일 받을 보상 비교\n",
    "3. 현재 기준으로 t일 후에 받게 될 보상 < 상담수행해서 받게 될 p => 현재 금액 dp + 상담 금액 p로 저장\n",
    "\n",
    "~~~\n",
    "0번째 인덱스(1일) : dp[0] = 0, T[0] = 3, P[0] = 10 이므로 dp[0+3] = dp[3] = dp[0]+P[0] = 0 + 10\n",
    "\n",
    "1번째 인덱스(2일) : dp[1] = 0,T[1] = 5, P[1] =20 이므로 dp[1+5] = dp[6] = dp[1]+P[1] = 0  + 20\n",
    "\n",
    "3번째 인덱스(4일) : dp[3] = 10, T[3] = 1, P[3] = 20이므로, \n",
    " - 첫 번째 조건에서 dp[4] = 10으로 저장\n",
    " - 두 번째 조건에서 상담을 수행하면 dp[3+1] = dp[4] =  dp[3] + P[3] = 10 + 20 = 30 \n",
    "\n",
    " - 따라서, dp = [0, 0, 0, 10, 30, 0, 20, …]\n",
    "\n",
    "4번째 인덱스(5일) : dp[4] = 30, T[4] = 2, P[4] = 15\n",
    "\n",
    " - 첫 번째 조건에서 dp[5] = 30\n",
    "\n",
    " - 두 번째 조건에서 dp[4+2] = dp[6] = dp[4] + P[4] = 45  \n",
    "\n",
    " - 따라서, dp = [0, 0, 0, 10, 30, 30, 45, …]\n",
    "\n",
    "5번째 인덱스(6일) : dp[5] = 30, T[5] = 4, P[5] = 40\n",
    "\n",
    " - 첫 번째 조건에서는 현재가 다음날 보상보다 적습니다.\n",
    "\n",
    " - 두 번째 조건에서는 dp[5+4] = dp[9] = dp[5] + P[5] = 70\n",
    "\n",
    "6번째 인덱스(7일): dp[6] = 45, T[6] = 2, P[6] = 200\n",
    "\n",
    " - 첫 번째 조건에서 dp[7]은 0이기 때문에 dp[7]에 현재 보상인 45가 저장 dp[7] = 45\n",
    " - 두 번째 조건에서 dp[6+2] = dp[8] = dp[6] + P[6] = 45 + 200 = 245\n",
    "~~~"
   ]
  },
  {
   "cell_type": "code",
   "execution_count": null,
   "metadata": {},
   "outputs": [],
   "source": [
    "n = int(input())\n",
    "t,p = [0]*n, [0]*n\n",
    "\n",
    "for i in  range(n):\n",
    "    t[i], p[i] = map(int, input().split())\n",
    "    \n",
    "d= [0]*20\n",
    "for i in range(n):\n",
    "    # 현재가 다음날보다 보상이 높다면\n",
    "    if d[i] > d[i+1]:\n",
    "        d[i+1]= d[i]\n",
    "    # 현재 기준으로 t일 후에 받게 될 금액이 상담 수행해서 받게 될 금액보다 적다면\n",
    "    if d[i+t[i]] < d[i] + p[i]:\n",
    "        d[i+t[i]] = d[i] + p[i]\n",
    "        \n",
    "print(d[n])"
   ]
  }
 ],
 "metadata": {
  "kernelspec": {
   "display_name": "Python 3",
   "language": "python",
   "name": "python3"
  },
  "language_info": {
   "codemirror_mode": {
    "name": "ipython",
    "version": 3
   },
   "file_extension": ".py",
   "mimetype": "text/x-python",
   "name": "python",
   "nbconvert_exporter": "python",
   "pygments_lexer": "ipython3",
   "version": "3.7.6"
  }
 },
 "nbformat": 4,
 "nbformat_minor": 4
}
