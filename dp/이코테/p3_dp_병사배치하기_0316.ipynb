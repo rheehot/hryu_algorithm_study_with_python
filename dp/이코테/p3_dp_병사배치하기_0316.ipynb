{
 "cells": [
  {
   "cell_type": "markdown",
   "metadata": {},
   "source": [
    "## LIS(Longest increasing Subsequence\n",
    "\n",
    "- 가장 긴 증가하는 부분 수열\n",
    "\n",
    "- 앞 -> 뒤로 숫자 선택할때 증가하는 순서대로 숫자 고르면서 고른 부분수열의 길이가 최대 되도록\n",
    "\n",
    "- 예를 들어, { 6, **2**, **5**, 1, **7**, 4, **8**, 3} 이라는 배열이 있을 경우, LIS는 { 2, 5, 7, 8 } \n",
    "\n",
    "- { 2, 5 }, { 2, 7 } 등 증가하는 부분 수열은 많지만 그 중에서 가장 긴 것이 { 2, 5, 7, 8 } \n",
    "\n",
    "- DP O(N*N), O(lonN)\n",
    "\n",
    "- DP O(N*N) 방법\n",
    "\n",
    "  - **length[i] 는 i번째 인덱스에서 끝나는 최장 증가 부분 수열의 길이**\n",
    "\n",
    "  - 내부 반복문으로 k보다 작은 인덱스들을 하나씩 살펴 보면서 arr[i] < arr[k]인 것이 있을 경우, length[k] 를 업데이트\n",
    "\n",
    "    ~~~\n",
    "    for (int k = 0; k < n; k++){\n",
    "    \tlength[k] = 1;\n",
    "        for (int i = 0; i < k; i++){\n",
    "            if(arr[i] < arr[k]){\n",
    "                length[k] = max(length[k], length[i] + 1);\n",
    "            }        \n",
    "        }\n",
    "    }\n",
    "    ~~~\n",
    "~~~\n",
    "7\n",
    "15 11 4 8 5 2 4\n",
    "~~~"
   ]
  },
  {
   "cell_type": "code",
   "execution_count": 7,
   "metadata": {},
   "outputs": [
    {
     "name": "stdout",
     "output_type": "stream",
     "text": [
      "7\n",
      "15 11 4 8 5 2 4\n",
      "2\n"
     ]
    }
   ],
   "source": [
    "n = int(input())\n",
    "\n",
    "arr = list(map(int, input().split()))\n",
    "\n",
    "arr.reverse()\n",
    "\n",
    "dp = [1] * n # 최소 한개 길이는 가짐\n",
    "\n",
    "for i in range(1, n): # arr[i]가 마지막 항일때\n",
    "    for j in range(0, i): # i보다 작은 것들 중\n",
    "        if arr[j] < arr[i]: # i가 마지막 항이 가능한 경우\n",
    "            dp[i] = max(dp[i], dp[j]+1) # 현재 길이와 이전길이+1의 큰 값 중 선택\n",
    "\n",
    "# 열외해야 하는 병사의 최소 수\n",
    "print(n - max(dp))"
   ]
  }
 ],
 "metadata": {
  "kernelspec": {
   "display_name": "Python 3",
   "language": "python",
   "name": "python3"
  },
  "language_info": {
   "codemirror_mode": {
    "name": "ipython",
    "version": 3
   },
   "file_extension": ".py",
   "mimetype": "text/x-python",
   "name": "python",
   "nbconvert_exporter": "python",
   "pygments_lexer": "ipython3",
   "version": "3.7.6"
  }
 },
 "nbformat": 4,
 "nbformat_minor": 4
}
