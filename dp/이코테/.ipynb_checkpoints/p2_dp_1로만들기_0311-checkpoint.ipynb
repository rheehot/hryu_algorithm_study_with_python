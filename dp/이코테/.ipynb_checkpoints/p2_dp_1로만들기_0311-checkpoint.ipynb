{
 "cells": [
  {
   "cell_type": "markdown",
   "metadata": {},
   "source": [
    "## 연산 4개를 통해 1로 만들기\n",
    "1. x%5 == 0이면 x/5\n",
    "2.  %3\n",
    "3.  %2\n",
    "4. x-1\n",
    "~~~\n",
    "26 -> 25 -> 5 -> 1    => 3번 \n",
    "~~~\n",
    "최소횟수 구해라\n",
    "\n",
    "- 최적 부분 구조 + 중복 부분 "
   ]
  },
  {
   "cell_type": "code",
   "execution_count": 1,
   "metadata": {},
   "outputs": [
    {
     "name": "stdout",
     "output_type": "stream",
     "text": [
      "26\n",
      "3\n"
     ]
    }
   ],
   "source": [
    "x = int(input())\n",
    "\n",
    "d = [0] * 10000001\n",
    "\n",
    "# 보텀업\n",
    "for i in range(2, x+1):\n",
    "    # 현재의 수에서 1 뺴는 경우\n",
    "    d[i] = d[i-1] +1\n",
    "    if i % 2 == 0:\n",
    "        # +1은 연산 쵯수다.. 우리가 구하고자하는거 연산횟수d[x]\n",
    "        d[i] == min(d[i], d[i//2]+1)\n",
    "    # 현재의 수가 3으로 나누어 떨어지는 경우\n",
    "    if i % 3 == 0:\n",
    "        d[i] = min(d[i], d[i // 3] + 1)\n",
    "    # 현재의 수가 5로 나누어 떨어지는 경우\n",
    "    if i % 5 == 0:\n",
    "        d[i] = min(d[i], d[i // 5] + 1)     \n",
    "        \n",
    "        \n",
    "print(d[x])"
   ]
  }
 ],
 "metadata": {
  "kernelspec": {
   "display_name": "Python 3",
   "language": "python",
   "name": "python3"
  },
  "language_info": {
   "codemirror_mode": {
    "name": "ipython",
    "version": 3
   },
   "file_extension": ".py",
   "mimetype": "text/x-python",
   "name": "python",
   "nbconvert_exporter": "python",
   "pygments_lexer": "ipython3",
   "version": "3.7.6"
  }
 },
 "nbformat": 4,
 "nbformat_minor": 4
}
