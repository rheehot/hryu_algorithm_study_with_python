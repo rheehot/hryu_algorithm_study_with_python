{
 "cells": [
  {
   "cell_type": "markdown",
   "metadata": {},
   "source": [
    "## 다이나믹 프로그래밍\n",
    "\n",
    "- 메모리를 적절히 사용하여 수행 시간 효율성을 비약적으로 향상\n",
    "- 계산된 결과는 별도의 메모리 영역에 저장, 다시 계산x\n",
    "- 탑다운, 보텀업 \n",
    "- 동적 할당 : 프로그램이 실행되는 도중에 실행에 필요한 메모리 할당하는 기법\n",
    "- 동적 할당과 관련 없음\n",
    "\n",
    "#### 조건\n",
    "\n",
    "- 1. 최적 부분 구조 : 큰 문제 -> 작은 문제 , 작은 문제 모아 답 도출\n",
    "  2. 중복되는 부분 문제 : 동일한 작은 문제\n",
    "\n",
    "#### 피보나치 수열\n",
    "\n",
    "- 1, 1, 2, 3, 5, 8, 13, 21, 34, 55, 89 ...\n",
    "- A(n) = A(n-1)+ A(n+2), A1=1, A2=1  \n",
    "- 단순 재귀함수로 구하면 지수 시간 복잡도를 가지게 됨\n",
    "- 중복되는 부분 문제가 생김\n",
    "- F(30) 구현 위해 10억가량 연산 수행 O(2의 30승)\n",
    "- 다이나믹 이용하기\n",
    "  1. 최적 부분 \n",
    "  2. 중복 부분\n"
   ]
  },
  {
   "cell_type": "markdown",
   "metadata": {},
   "source": [
    "### 피보나치 함수를 재귀로"
   ]
  },
  {
   "cell_type": "code",
   "execution_count": 2,
   "metadata": {},
   "outputs": [
    {
     "name": "stdout",
     "output_type": "stream",
     "text": [
      "3\n"
     ]
    }
   ],
   "source": [
    "def fibo(x):\n",
    "    if x ==1 or x ==2 :\n",
    "        return 1\n",
    "    return fibo(x-1) + fibo(x-2)\n",
    "\n",
    "print(fibo(4))"
   ]
  },
  {
   "cell_type": "markdown",
   "metadata": {},
   "source": [
    "### 피보나치 탑다운"
   ]
  },
  {
   "cell_type": "code",
   "execution_count": 3,
   "metadata": {},
   "outputs": [
    {
     "name": "stdout",
     "output_type": "stream",
     "text": [
      "218922995834555169026\n"
     ]
    }
   ],
   "source": [
    "#한번 계싼된 겨로가를 메모이제이션 하기 위한 리스트 초기화\n",
    "d = [0]* 100\n",
    "\n",
    "def fibo(x):\n",
    "    # 종료 조건\n",
    "    if x ==1 or x ==2:\n",
    "        return 1\n",
    "     #이미 계산한 적 있는 문제라면 그대로 반환\n",
    "    if d[x] != 0:\n",
    "        return d[x]\n",
    "    \n",
    "    d[x] = fibo(x-1) + fibo(x-2)\n",
    "    return d[x]\n",
    "\n",
    "print(fibo(99))\n",
    "    "
   ]
  },
  {
   "cell_type": "markdown",
   "metadata": {},
   "source": [
    "### 피보나치 보텀업"
   ]
  },
  {
   "cell_type": "code",
   "execution_count": 4,
   "metadata": {},
   "outputs": [
    {
     "name": "stdout",
     "output_type": "stream",
     "text": [
      "218922995834555169026\n"
     ]
    }
   ],
   "source": [
    "  \n",
    "#앞서 계산된 결과를 저장하기 위한 DP 테이블 초기화\n",
    "d = [0] * 100\n",
    "\n",
    "#첫 번째 피보나치 수와 두 번째 피보나치 수는 1\n",
    "d[1] = 1\n",
    "d[2] = 1\n",
    "n = 99\n",
    "\n",
    "for i in range(3, n+1):\n",
    "    d[i] = d[i-1] + d[i-2]\n",
    "    \n",
    "print(d[n])"
   ]
  }
 ],
 "metadata": {
  "kernelspec": {
   "display_name": "Python 3",
   "language": "python",
   "name": "python3"
  },
  "language_info": {
   "codemirror_mode": {
    "name": "ipython",
    "version": 3
   },
   "file_extension": ".py",
   "mimetype": "text/x-python",
   "name": "python",
   "nbconvert_exporter": "python",
   "pygments_lexer": "ipython3",
   "version": "3.7.6"
  }
 },
 "nbformat": 4,
 "nbformat_minor": 4
}
