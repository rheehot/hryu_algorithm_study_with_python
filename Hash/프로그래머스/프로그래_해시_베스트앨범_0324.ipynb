{
 "cells": [
  {
   "cell_type": "markdown",
   "metadata": {},
   "source": [
    "### 문제 설명\n",
    "- 장르별 가장 많이 재생된 노래 두개씩 \n",
    "- 노래는 고유번호로 구분\n",
    "- 1. 속한 노래가 많이 재생된 장르를 먼저 수록합니다.\n",
    "- 2. 장르 내에서 많이 재생된 노래를 먼저 수록합니다.\n",
    "- 3. 장르 내에서 재생 횟수가 같은 노래 중에서는 고유 번호가 낮은 노래를 먼저 수록합니다.\n",
    "- 노래의 장르를 나타내는 문자열 배열 genres와 노래별 재생 횟수를 나타내는 정수 배열 plays가\n",
    "주어질 때, 베스트 앨범에 들어갈 노래의 고유 번호를 순서대로 return\n",
    "\n",
    "~~~\n",
    "genres\tplays\treturn\n",
    "[\"classic\", \"pop\", \"classic\", \"classic\", \"pop\"]\t[500, 600, 150, 800, 2500]\t[4, 1, 3, 0]\n",
    "~~~"
   ]
  },
  {
   "cell_type": "markdown",
   "metadata": {},
   "source": [
    "### 남의 아이디어 ,, 유지나 휴 힘내자\n",
    "1. {장르: 총 재생횟수} 해시, {장르 : [{플레이횟수 : 고유 번호}]} 해시 만들기\n",
    "2. 음악 개수 만큼 장르와, 플레이 횟수들어있는 배열 순회하여 해시 초기화\n",
    "3. {장르 : 총 재생횟수} 해시를 기초로 총 재생횟수 내림차순으로 장르 정렬\n",
    "4. 3번에 정렬된 장르에 대해 순회  \n",
    "    1. 장르 내에서도 플레이 횟수 내림차순, 고유 번호 오름차순 별로 정렬  \n",
    "    2. 장르 내에서 최대 2개 뽑자  "
   ]
  },
  {
   "cell_type": "markdown",
   "metadata": {},
   "source": [
    "### 문법\n",
    "- 딕셔너리 : key로 value얻기 (get)\n",
    "- get(x) : x라는 key에 대응하는 value 돌려줌\n",
    "- get(키, 기본값) : 키가 있을 때는 해당 키의 값을 반환, 키가 없을때는 기본 값 반환\n",
    "~~~\n",
    "a = {'name': 'pey',  'phone':'0119993323', 'birth': '1118'}\n",
    "a.get('name')\n",
    ">>> 'pey'\n",
    "~~~"
   ]
  },
  {
   "cell_type": "code",
   "execution_count": 7,
   "metadata": {},
   "outputs": [
    {
     "data": {
      "text/plain": [
       "[4, 1, 3, 0]"
      ]
     },
     "execution_count": 7,
     "metadata": {},
     "output_type": "execute_result"
    }
   ],
   "source": [
    "# 장르 재생수 > 장르 내 곡 재생수 > 곡 재생수 같다면 고유번호 오름차순\n",
    "def solution(genres, plays):\n",
    "    answer = [] \n",
    "    # {장르 : 총 재생 횟수 }\n",
    "    plays_dict = {} \n",
    "    # {장르 : [(플레이 횟수, 고유 번호)]}\n",
    "    d = {}\n",
    "    \n",
    "    # 사전 초기화\n",
    "    for i in range(len(genres)):\n",
    "        genre = genres[i]\n",
    "        play = plays[i]\n",
    "        plays_dict[genre] = plays_dict.get(genre, 0)+ play # play는 숫자 => 총 횟수구핳라고\n",
    "        #  {장르 : 총 재생 횟수 }\n",
    "        d[genre] = d.get(genre, []) + [(play, i)]\n",
    "        #  {장르 : [(플레이 횟수, 고유 번호)]}\n",
    "        \n",
    "    # 재생 횟수 내림차순 장르별로 정렬\n",
    "    genre_sort = sorted(plays_dict.items(), key=lambda x : x[1],reverse=True )\n",
    "    \n",
    "    # 재생 횟수 내림차순, 인덱스 오름차순 정렬\n",
    "    # 장르별로 최대 2개 선택\n",
    "    for(genre, total_play) in genre_sort:\n",
    "        d[genre] = sorted(d[genre], key= lambda x : (-x[0], x[1]))\n",
    "        answer += [idx for (play, idx) in  d[genre][:2]]\n",
    "    \n",
    "    return answer\n",
    "\n",
    "solution([\"classic\", \"pop\", \"classic\", \"classic\", \"pop\"],[500, 600, 150, 800, 2500])"
   ]
  }
 ],
 "metadata": {
  "kernelspec": {
   "display_name": "Python 3",
   "language": "python",
   "name": "python3"
  },
  "language_info": {
   "codemirror_mode": {
    "name": "ipython",
    "version": 3
   },
   "file_extension": ".py",
   "mimetype": "text/x-python",
   "name": "python",
   "nbconvert_exporter": "python",
   "pygments_lexer": "ipython3",
   "version": "3.7.6"
  }
 },
 "nbformat": 4,
 "nbformat_minor": 4
}
