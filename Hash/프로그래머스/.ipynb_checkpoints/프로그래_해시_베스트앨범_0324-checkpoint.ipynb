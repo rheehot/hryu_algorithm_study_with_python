{
 "cells": [
  {
   "cell_type": "markdown",
   "metadata": {},
   "source": [
    "### 문제 설명\n",
    "- 장르별 가장 많이 재생된 노래 두개씩 \n",
    "- 노래는 고유번호로 구분\n",
    "- 1. 속한 노래가 많이 재생된 장르를 먼저 수록합니다.\n",
    "- 2. 장르 내에서 많이 재생된 노래를 먼저 수록합니다.\n",
    "- 3. 장르 내에서 재생 횟수가 같은 노래 중에서는 고유 번호가 낮은 노래를 먼저 수록합니다.\n",
    "- 노래의 장르를 나타내는 문자열 배열 genres와 노래별 재생 횟수를 나타내는 정수 배열 plays가\n",
    "주어질 때, 베스트 앨범에 들어갈 노래의 고유 번호를 순서대로 return\n",
    "\n",
    "~~~\n",
    "genres\tplays\treturn\n",
    "[\"classic\", \"pop\", \"classic\", \"classic\", \"pop\"]\t[500, 600, 150, 800, 2500]\t[4, 1, 3, 0]\n",
    "~~~"
   ]
  },
  {
   "cell_type": "code",
   "execution_count": null,
   "metadata": {},
   "outputs": [],
   "source": [
    "# 장르 재생수 > 장르 내 곡 재생수 > 곡 재생수 같다면 고유번호 오름차순\n",
    "def solution(genres, plays):\n",
    "    answer = []\n",
    "    player = {}\n",
    "    \n",
    "    for i in range(len(genres)):\n",
    "        key = genres[i]\n",
    "        value = plays[i]\n",
    "        if key in player:\n",
    "            palyer[key].append(value)\n",
    "        else:\n",
    "            player[key] = [value]\n",
    "    \n",
    "    for key in player.keys:\n",
    "        \n",
    "        \n",
    "    \n",
    "    \n",
    "    return answer"
   ]
  }
 ],
 "metadata": {
  "kernelspec": {
   "display_name": "Python 3",
   "language": "python",
   "name": "python3"
  },
  "language_info": {
   "codemirror_mode": {
    "name": "ipython",
    "version": 3
   },
   "file_extension": ".py",
   "mimetype": "text/x-python",
   "name": "python",
   "nbconvert_exporter": "python",
   "pygments_lexer": "ipython3",
   "version": "3.7.6"
  }
 },
 "nbformat": 4,
 "nbformat_minor": 4
}
