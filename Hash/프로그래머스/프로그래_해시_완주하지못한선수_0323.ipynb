{
 "cells": [
  {
   "cell_type": "markdown",
   "metadata": {},
   "source": [
    "### 문제설명\n",
    "- 완주하지 못한 선수 이름 출력하기\n",
    "### 제한사항\n",
    "- 마라톤 경기에 참여한 선수의 수는 1명 이상 100,000명 이하입니다\n",
    "- completion의 길이는 participant의 길이보다 1 작습니다.\n",
    "- 참가자의 이름은 1개 이상 20개 이하의 알파벳 소문자로 이루어져 있습니다.\n",
    "- 참가자 중에는 동명이인이 있을 수 있습니다.\n",
    "\n",
    "~~~\n",
    "participant         \tcompletion\t      return\n",
    "1. [\"leo\", \"kiki\", \"eden\"]\t[\"eden\", \"kiki\"]\t\"leo\"\n",
    "2. [\"marina\", \"josipa\", \"nikola\", \"vinko\", \"filipa\"]\t[\"josipa\", \"filipa\", \"marina\", \"nikola\"]\t\"vinko\"\n",
    "3. [\"mislav\", \"stanko\", \"mislav\", \"ana\"]\t[\"stanko\", \"ana\", \"mislav\"]\t\"mislav\"\n",
    "~~~"
   ]
  },
  {
   "cell_type": "code",
   "execution_count": 6,
   "metadata": {},
   "outputs": [
    {
     "data": {
      "text/plain": [
       "'leo'"
      ]
     },
     "execution_count": 6,
     "metadata": {},
     "output_type": "execute_result"
    }
   ],
   "source": [
    "### 잘못된 초기 풀이\n",
    "def solution(participant, completion):\n",
    "    participant.sort()\n",
    "    completion.sort()\n",
    "    for i in range(len(participant)):\n",
    "        if participant[i] != completion[i]:\n",
    "            return participant[i]\n",
    "            break\n",
    "        else:\n",
    "            return participant[-1]\n",
    "            \n",
    "solution([\"leo\", \"kiki\", \"eden\"], [\"eden\", \"kiki\"])"
   ]
  },
  {
   "cell_type": "markdown",
   "metadata": {},
   "source": [
    "### 포인트\n",
    "1. zip 활용\n",
    "    - 내장함수로 같은 길이의 리스트를 같은 인덱스끼리 잘라 리스트로 반환\n",
    "    - 만약 배열의 길이가 다를 경우 같은 인덱스끼리만 짝지어주고, zip 객체에서 나머지 인덱스는 제외된다.\n",
    "\n",
    "\n",
    "2. zip 사용법  \n",
    "\n",
    "    1) 기본 zip\n",
    "    - 여러개의 iterator객체를 인자로 받고\n",
    "    - 각 객체의 원소를 튜플 형태로 접근할 수 있는 반복자(iterator) 반환\n",
    "    - 아래를 보면 numbers와 letters 리스트를 -> zip() 함수에 인자로 넘겨서 호출 \n",
    "    - for문으로 zip() 함수의 반환값을 대상으로 루프를 돌면서 튜플을 차례로 출력 \n",
    "\n",
    "    ~~~\n",
    "    numbers = [1, 2, 3]\n",
    "    letters = [\"A\", \"B\", \"C\"]\n",
    "    for pair in zip(numbers, letters):\n",
    "            print(pair)\n",
    "    \n",
    "    (1, 'A')\n",
    "    (2, 'B')\n",
    "    (3, 'C')\n",
    "    ~~~\n",
    "  "
   ]
  },
  {
   "cell_type": "markdown",
   "metadata": {},
   "source": [
    "\n",
    "   2) 병렬처리 \n",
    "   - 여러 그룹 데이터를 루프 한번만 돌면서 처리 가능\n",
    "   - 2개 이상 인자 받기 가능    \n",
    "\n",
    "\n",
    "    ~~~\n",
    "     for number, upper, lower in zip(\"12345\", \"ABCDE\", \"abcde\"):\n",
    "         print(number, upper, lower)\n",
    "\n",
    "    1 A a\n",
    "    2 B b\n",
    "    3 C c\n",
    "    4 D d\n",
    "    5 E e\n",
    "    ~~~\n",
    "    "
   ]
  },
  {
   "cell_type": "markdown",
   "metadata": {},
   "source": [
    "   3) 사전변환\n",
    "   - 두개의 리스트나 튜플로부터 딕셔너리 변환\n",
    "    \n",
    "    ~~~\n",
    "    keys = [1, 2, 3]\n",
    "    values = [\"A\", \"B\", \"C\"]\n",
    "    dict(zip(keys, values))\n",
    "    {1: 'A', 2: 'B', 3: 'C'}\n",
    "    ~~~\n",
    "    \n",
    "    ~~~\n",
    "    >>> dict(zip([\"year\", \"month\", \"date\"], [2001, 1, 31]))\n",
    "    {'year': 2001, 'month': 1, 'date': 31}\n",
    "    ~~~"
   ]
  },
  {
   "cell_type": "code",
   "execution_count": 7,
   "metadata": {},
   "outputs": [],
   "source": [
    "### 좋은 풀이\n",
    "def solution(participant, completion):\n",
    "    participant.sort()\n",
    "    completion.sort()\n",
    "    for i, j in zip(participant, completion):\n",
    "        if i!= j:\n",
    "            \n",
    "            return i\n",
    "    return participant.pop()"
   ]
  }
 ],
 "metadata": {
  "kernelspec": {
   "display_name": "Python 3",
   "language": "python",
   "name": "python3"
  },
  "language_info": {
   "codemirror_mode": {
    "name": "ipython",
    "version": 3
   },
   "file_extension": ".py",
   "mimetype": "text/x-python",
   "name": "python",
   "nbconvert_exporter": "python",
   "pygments_lexer": "ipython3",
   "version": "3.7.6"
  }
 },
 "nbformat": 4,
 "nbformat_minor": 4
}
