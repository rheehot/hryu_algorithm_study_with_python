{
 "cells": [
  {
   "cell_type": "markdown",
   "metadata": {},
   "source": [
    "~~~\n",
    "5 7\n",
    "1 2\n",
    "1 3 \n",
    "1 4\n",
    "2 4\n",
    "3 4\n",
    "3 5\n",
    "4 5\n",
    "4 5   --> 3\n",
    "~~~\n",
    "- 양방향\n",
    "- 플로이드 워셜로 해결\n",
    "- n<500 이므로 플로이드로 해결 가능 "
   ]
  },
  {
   "cell_type": "code",
   "execution_count": 2,
   "metadata": {},
   "outputs": [
    {
     "name": "stdout",
     "output_type": "stream",
     "text": [
      "5 7\n",
      "1 2\n",
      "1 3\n",
      "1 4\n",
      "2 4\n",
      "3 4\n",
      "3 5\n",
      "4 5\n",
      "4 5\n",
      "3\n"
     ]
    }
   ],
   "source": [
    "INF = int(1e9) # 무한을 의미하는 값으로 10억을 설정\n",
    "\n",
    "# 노드의 개수 및 간선의 개수 입력 받기\n",
    "n,m = map(int, input().split())\n",
    "# 2차원 리스트\n",
    "graph = [[INF] * (n+1) for _ in range(n+1)]\n",
    "\n",
    "for a in range(1, n+1):\n",
    "    for b in range(1, n+1):\n",
    "        if a==b:\n",
    "            graph[a][b] = 0\n",
    "# 간선 정보\n",
    "for _ in range(m):\n",
    "    # a->b 가는 비용은 모두 1\n",
    "    a, b = map(int, input().split())\n",
    "    graph[a][b] = graph[b][a] = 1\n",
    "    \n",
    "# 거쳐 갈 노드 k와 최종 목적지 노드 x 입력 받기\n",
    "x, k = map(int, input().split())\n",
    "\n",
    "for k in range(1, n+1):\n",
    "    for a in range(1, n+1):\n",
    "        for b in range(1, n+1):\n",
    "            graph[a][b] = min(graph[a][b], graph[a][k] + graph[k][b])\n",
    "\n",
    "distance = graph[1][k] + graph[k][x]\n",
    "\n",
    "# 도달할 수 없는 경우, -1 출력\n",
    "if distance >= INF:\n",
    "    print(\"-1\")\n",
    "else:\n",
    "    print(distance)"
   ]
  }
 ],
 "metadata": {
  "kernelspec": {
   "display_name": "Python 3",
   "language": "python",
   "name": "python3"
  },
  "language_info": {
   "codemirror_mode": {
    "name": "ipython",
    "version": 3
   },
   "file_extension": ".py",
   "mimetype": "text/x-python",
   "name": "python",
   "nbconvert_exporter": "python",
   "pygments_lexer": "ipython3",
   "version": "3.7.6"
  }
 },
 "nbformat": 4,
 "nbformat_minor": 4
}
