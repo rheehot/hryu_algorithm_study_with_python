{
 "cells": [
  {
   "cell_type": "code",
   "execution_count": null,
   "metadata": {},
   "outputs": [],
   "source": [
    "# 도시의 총 개수와 총 걸리는 시간\n",
    "# 다익스트라 이용하면 될 것, 힙\n",
    "~~~\n",
    "3 2 1\n",
    "1 2 4\n",
    "1 3 2        -> 2 4\n",
    "~~~\n",
    "\n"
   ]
  },
  {
   "cell_type": "code",
   "execution_count": 3,
   "metadata": {},
   "outputs": [
    {
     "name": "stdout",
     "output_type": "stream",
     "text": [
      "3 2 1\n",
      "1 2 4\n",
      "1 3 2\n",
      "2 4\n"
     ]
    }
   ],
   "source": [
    "import heapq\n",
    "\n",
    "INF = int(1e9)\n",
    "\n",
    "n, m, c = map(int, input().split())\n",
    "graph = [[]for i in range(n+1)]\n",
    "distance = [INF]*(n+1)\n",
    "\n",
    "for _ in range(m):\n",
    "    x, y, z = map(int, input().split())\n",
    "    # x에서 y로 가는 시간이 z\n",
    "    graph[x].append((y, z))\n",
    "    \n",
    "def dijkstra(c):\n",
    "    q = []\n",
    "    # 시작 노드로 가기 위한 최단 경로는 0으로 설정하여, 큐에 삽입\n",
    "    heapq.heappush(q, (0, c))\n",
    "    distance[c] = 0\n",
    "    \n",
    "    while q:\n",
    "        # 가장 최단 거리가 짧은 노드에 대한 정보 꺼내기\n",
    "        dist, now = heapq.heappop(q)\n",
    "        # 현재 노드가 이미 처리된 적이 있는 노드라면 무시\n",
    "        if distance[now] < dist:\n",
    "            continue\n",
    "        # 현재 노드와 연결된 다른 노드 확인\n",
    "        for i in graph[now]:\n",
    "            cost = dist+ i[1]\n",
    "            # 현재 노드 거쳐서, 다른 노드로 이동하는 거리 더 짧은 경우\n",
    "            if cost < distance[i[0]]: # i[0] : 도착 노드임, \n",
    "                distance[i[0]] = cost\n",
    "                heapq.heappush(q, (cost, i[0]))\n",
    "dijkstra(c)\n",
    "total_node = 0\n",
    "total_cost = 0\n",
    "for i in range(1, n+1):\n",
    "    if distance[i] != INF and distance[i] != 0: # 시작노드 제외\n",
    "        total_node += 1\n",
    "        total_cost = max(total_cost, distance[i])\n",
    "        \n",
    "print(total_node, total_cost)\n"
   ]
  }
 ],
 "metadata": {
  "kernelspec": {
   "display_name": "Python 3",
   "language": "python",
   "name": "python3"
  },
  "language_info": {
   "codemirror_mode": {
    "name": "ipython",
    "version": 3
   },
   "file_extension": ".py",
   "mimetype": "text/x-python",
   "name": "python",
   "nbconvert_exporter": "python",
   "pygments_lexer": "ipython3",
   "version": "3.7.6"
  }
 },
 "nbformat": 4,
 "nbformat_minor": 4
}
