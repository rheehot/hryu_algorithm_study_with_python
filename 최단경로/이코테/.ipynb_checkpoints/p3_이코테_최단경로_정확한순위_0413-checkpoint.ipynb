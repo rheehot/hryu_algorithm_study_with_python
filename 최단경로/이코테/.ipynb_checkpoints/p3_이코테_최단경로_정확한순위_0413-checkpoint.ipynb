{
 "cells": [
  {
   "cell_type": "markdown",
   "metadata": {},
   "source": [
    "## 문제 설명\n",
    "1<5 3<4  4<2 4<6  5<2  5<4 ..\n",
    "\n",
    "1 5 3 | 4 | 2 6\n",
    "\n",
    "입력  \n",
    "n (2 ~ 500), m (2 ~ 10,000)\n",
    "a < b\n",
    "출력\n",
    "성적 순위를 정확히 알 수 있는 학생 몇명인가\n",
    "\n",
    "~~~\n",
    "6 6\n",
    "1 5\n",
    "3 4\n",
    "4 2\n",
    "4 6\n",
    "5 2\n",
    "5 4           ->  1\n",
    "~~~\n",
    "## 문제 포인트\n",
    "A와 B사이의 성적 비교를 위해서는 반드시 A~B나 B~A로 향하는 경로가 존재해야 한다  \n",
    "모든 점에서 모든 점까지 갈 수 있는 경로가 존재하는지를 판단하는 플로이드 알고리즘으로 해결한다  \n",
    "모든 점까지 갈 수 있는 경로가 존재하는 노드가 성적순위를 정확히 알 수 있는 학생수 이다."
   ]
  },
  {
   "cell_type": "code",
   "execution_count": 3,
   "metadata": {},
   "outputs": [
    {
     "name": "stdout",
     "output_type": "stream",
     "text": [
      "6 6\n",
      "1 5\n",
      "3 4\n",
      "4 2\n",
      "4 6\n",
      "5 2\n",
      "5 4\n",
      "1\n"
     ]
    }
   ],
   "source": [
    "INF = int(1e9) # 무한을 의미하는 값으로 10억을 설정\n",
    "\n",
    "n, m = map(int, input().split())\n",
    "# 2차원 리스트를 만들고, 모든 값을 무한으로 초기화\n",
    "graph = [[INF]* (n+1) for _ in range(n+1)]\n",
    "# 자기 자신 0\n",
    "for i in range(1, n+1):\n",
    "    for j in range(1, n+1):\n",
    "        if i ==j:\n",
    "            graph[i][j] = 0\n",
    "            \n",
    "for _ in range(m):\n",
    "    a, b = map(int, input().split())\n",
    "    graph[a][b] = 1\n",
    "    \n",
    "for k in range(1, n+1):\n",
    "    for a in range(1, n+1):\n",
    "        for b in range(1, n+1):\n",
    "            graph[a][b] = min(graph[a][b], graph[a][k]+ graph[k][b])\n",
    "result = 0\n",
    "\n",
    "# 각 학생을 번호에 따라 한 명씩 확인하며 도달 가능한지 체크\n",
    "for i in range(1, n+1):\n",
    "    cnt =0\n",
    "    for j in range(1, n+1):\n",
    "        if graph[i][j] != INF or graph[j][i] != INF:\n",
    "            cnt += 1\n",
    "        if cnt ==n :\n",
    "            result += 1\n",
    "print(result)\n",
    "\n"
   ]
  }
 ],
 "metadata": {
  "kernelspec": {
   "display_name": "Python 3",
   "language": "python",
   "name": "python3"
  },
  "language_info": {
   "codemirror_mode": {
    "name": "ipython",
    "version": 3
   },
   "file_extension": ".py",
   "mimetype": "text/x-python",
   "name": "python",
   "nbconvert_exporter": "python",
   "pygments_lexer": "ipython3",
   "version": "3.7.6"
  }
 },
 "nbformat": 4,
 "nbformat_minor": 4
}
