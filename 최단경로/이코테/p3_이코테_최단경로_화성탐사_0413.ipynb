{
 "cells": [
  {
   "cell_type": "markdown",
   "metadata": {},
   "source": [
    "## 문제 설명\n",
    "\n",
    "0,0 -> n-1,n-1까지의 최소 비용 출력하는 프로그램\n",
    "### 포인트\n",
    "임의의 시작점 , 임의의 도착점까지의 최소비용 구하는 다익스트라 문제"
   ]
  },
  {
   "cell_type": "code",
   "execution_count": null,
   "metadata": {},
   "outputs": [
    {
     "name": "stdout",
     "output_type": "stream",
     "text": [
      "3\n",
      "3\n",
      "5 5 4\n",
      "3 9 1\n",
      "3 2 7\n",
      "20\n",
      "5\n",
      "3 7 2 0 1\n",
      "2 8 0 9 1\n",
      "1 2 1 8 1\n",
      "9 8 9 2 0\n",
      "3 6 5 1 5\n",
      "19\n"
     ]
    }
   ],
   "source": [
    "import heapq\n",
    "import sys\n",
    "INF = int(1e9)\n",
    "\n",
    "dx = [-1, 1, 0, 0]\n",
    "dy = [0, 0, -1, 1]\n",
    "\n",
    "t = int(input())\n",
    "for _ in range(t):\n",
    "    n = int(input())\n",
    "    \n",
    "    graph = []\n",
    "    for i in range(n):\n",
    "        graph.append(list(map(int, input().split())))\n",
    "        \n",
    "    # 최단 거리 테이블 무한으로 초기화\n",
    "    distance = [[INF]* n for _ in range(n)]\n",
    "    \n",
    "    x, y = 0, 0\n",
    "    q = [(graph[x][y] , x, y)]\n",
    "    distance[x][y] = graph[x][y]\n",
    "    \n",
    "    while q:\n",
    "        dist, x, y = heapq.heappop(q)\n",
    "        # 현재 노드가 이미 처리된 적이 있는 노드라면 무시\n",
    "        if distance[x][y] < dist:\n",
    "            continue\n",
    "        \n",
    "        # 현재 노드와 연결돈 다른 인접 노드 확인\n",
    "        for i in range(4):\n",
    "            nx = x + dx[i]\n",
    "            ny = y + dy[i]\n",
    "            \n",
    "            if nx< 0 or nx>= n  or ny < 0 or ny >= n:\n",
    "                continue\n",
    "            cost = dist + graph[nx][ny]\n",
    "            \n",
    "            # 현재 노드 거쳐서 다른 노드로 이동하는 거리가 더 짧은 경우\n",
    "            if cost < distance[nx][ny]:\n",
    "                distance[nx][ny] = cost\n",
    "                heapq.heappush(q, (cost, nx, ny))\n",
    "                \n",
    "    print(distance[n-1][n-1])"
   ]
  }
 ],
 "metadata": {
  "kernelspec": {
   "display_name": "Python 3",
   "language": "python",
   "name": "python3"
  },
  "language_info": {
   "codemirror_mode": {
    "name": "ipython",
    "version": 3
   },
   "file_extension": ".py",
   "mimetype": "text/x-python",
   "name": "python",
   "nbconvert_exporter": "python",
   "pygments_lexer": "ipython3",
   "version": "3.7.6"
  }
 },
 "nbformat": 4,
 "nbformat_minor": 4
}
