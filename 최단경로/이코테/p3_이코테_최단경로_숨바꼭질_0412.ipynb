{
 "cells": [
  {
   "cell_type": "markdown",
   "metadata": {},
   "source": [
    "~~~~\n",
    "6 7 \n",
    "3 6 \n",
    "4 3\n",
    "3 2\n",
    "1 3\n",
    "1 2\n",
    "2 4\n",
    "5 2   ->  4 2 3\n",
    "~~~~ \n",
    "- 숨어야하는 헛간 번호, 그 거리, 그 헛간과 같은 거리 갖는 헛간 개수\n"
   ]
  },
  {
   "cell_type": "code",
   "execution_count": 1,
   "metadata": {},
   "outputs": [
    {
     "name": "stdout",
     "output_type": "stream",
     "text": [
      "6 7\n",
      "3 6\n",
      "4 3\n",
      "3 2\n",
      "1 3\n",
      "1 2\n",
      "2 4\n",
      "5 2\n",
      "4 2 3\n"
     ]
    }
   ],
   "source": [
    "import heapq\n",
    "\n",
    "INF = int(1e9)\n",
    "n,m = map(int, input().split())\n",
    "graph = [[] for _ in range(n+1)]\n",
    "start = 1\n",
    "distance = [INF]*(n+1)\n",
    "\n",
    "for _ in range(m):\n",
    "    a, b = map(int, input().split())\n",
    "    graph[a].append((b, 1))\n",
    "    graph[b].append((a, 1))\n",
    "    \n",
    "def dijkstra(start):\n",
    "    q= []\n",
    "    \n",
    "    heapq.heappush(q, (0, start))\n",
    "    distance[start] = 0\n",
    "    while q:\n",
    "        dist, now = heapq.heappop(q)\n",
    "        # 현재노드가 이미 처리된 적이 있는 노드라면\n",
    "        if distance[now] < dist:\n",
    "            continue\n",
    "        \n",
    "        for i in graph[now]:\n",
    "            cost = dist + i[1]\n",
    "            # 현재 노드를 거쳐서, 다른 노드로 이동하는 거리 더 짧은 경우\n",
    "            if cost < distance[i[0]]:\n",
    "                distance[i[0]] =cost\n",
    "                heapq.heappush(q, (cost, i[0]))\n",
    "                \n",
    "dijkstra(start)\n",
    "# 가장 최단 거리가 먼 노드 \n",
    "remote_node = 0\n",
    "# 가장 거리 먼 노드의 최단 거리\n",
    "remote_distance = 0\n",
    "result = []\n",
    "\n",
    "for i in range(1, n+1):\n",
    "    if remote_distance < distance[i]:\n",
    "        remote_node = i\n",
    "        remote_distance = distance[i]\n",
    "        result = [remote_node]\n",
    "    elif remote_distance == distance[i]:\n",
    "        result.append(i)\n",
    "        \n",
    "print(remote_node, remote_distance, len(result))\n",
    "\n",
    "            \n",
    "    \n"
   ]
  }
 ],
 "metadata": {
  "kernelspec": {
   "display_name": "Python 3",
   "language": "python",
   "name": "python3"
  },
  "language_info": {
   "codemirror_mode": {
    "name": "ipython",
    "version": 3
   },
   "file_extension": ".py",
   "mimetype": "text/x-python",
   "name": "python",
   "nbconvert_exporter": "python",
   "pygments_lexer": "ipython3",
   "version": "3.7.6"
  }
 },
 "nbformat": 4,
 "nbformat_minor": 4
}
