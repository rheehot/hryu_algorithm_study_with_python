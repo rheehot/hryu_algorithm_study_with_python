{
 "cells": [
  {
   "cell_type": "markdown",
   "metadata": {},
   "source": [
    "### 문제 설명\n",
    "\n",
    "- 각 배포마다 몇개의 기능 배포되는가 return\n",
    "\n",
    "~~~\n",
    "| progresses               | speeds             | return    |\n",
    "| ------------------------ | ------------------ | --------- |\n",
    "| [93, 30, 55]             | [1, 30, 5]         | [2, 1]    |\n",
    "| [95, 90, 99, 99, 80, 99] | [1, 1, 1, 1, 1, 1] | [1, 3, 2] |\n",
    "    \n",
    "[1, 2,3] [100, 100,  1] [2, 1]\n",
    "~~~\n",
    "\n",
    "- 첫번째 작업 : [(100-93)//1=7, (100-30)//30+1,  (100-55)//5 ] = [7, 3, 9] answer = [2, 1]\n",
    "- 두번째 작업 : [5, 10, 1, 1, 20, 1]  answer = [1, 3, 2]\n",
    "    \n",
    "- 70 / 30 = 2. xx  => 3\n",
    "- 70 % 30 != 0 -> 몫 +1 \n",
    "\n"
   ]
  },
  {
   "cell_type": "code",
   "execution_count": 31,
   "metadata": {},
   "outputs": [
    {
     "name": "stdout",
     "output_type": "stream",
     "text": [
      "[5, 10, 1, 1, 20, 1]\n"
     ]
    },
    {
     "data": {
      "text/plain": [
       "[1, 3, 2, 1]"
      ]
     },
     "execution_count": 31,
     "metadata": {},
     "output_type": "execute_result"
    }
   ],
   "source": []
  },
  {
   "cell_type": "code",
   "execution_count": 36,
   "metadata": {},
   "outputs": [
    {
     "name": "stdout",
     "output_type": "stream",
     "text": [
      "[5, 10, 1, 1, 20, 1]\n"
     ]
    },
    {
     "data": {
      "text/plain": [
       "[1, 3, 2]"
      ]
     },
     "execution_count": 36,
     "metadata": {},
     "output_type": "execute_result"
    }
   ],
   "source": [
    "### 성공 !!1\n",
    "def solution(progresses, speeds):\n",
    "    answer = []\n",
    "    length = len(progresses)\n",
    "    count = []\n",
    "    \n",
    "\n",
    "    for i in range(length):\n",
    "        if (100-progresses[i]) > speeds[i]: \n",
    "            if (100- progresses[i]) % speeds[i] == 0:\n",
    "                count.append((100- progresses[i])//speeds[i])\n",
    "            else:\n",
    "                count.append((100- progresses[i])//speeds[i]+1)\n",
    "        else: \n",
    "            count.append(1)\n",
    "    print(count)\n",
    "\n",
    "    cnt = 0  #[5 10 1 1 20 1]\n",
    "# ****************************************** 아래 부분 꼭 기억하기     \n",
    "    p = count[0]\n",
    "    for i in range(len(count)):\n",
    "        if p < count[i]:\n",
    "            answer.append(cnt)\n",
    "            p = count[i]\n",
    "            cnt = 0\n",
    "        cnt +=1\n",
    "    answer.append(cnt) # 마지막 값을 여기서 추가해줌\n",
    "    \n",
    "    return answer \n",
    "\n",
    "# solution([93, 30, 55],[1, 30, 5] )\n",
    "solution([95, 90, 99, 99, 80, 99], [1, 1, 1, 1, 1, 1])"
   ]
  },
  {
   "cell_type": "code",
   "execution_count": 40,
   "metadata": {},
   "outputs": [
    {
     "data": {
      "text/plain": [
       "[2, 1]"
      ]
     },
     "execution_count": 40,
     "metadata": {},
     "output_type": "execute_result"
    }
   ],
   "source": [
    "### pop 이용해 풀어보기 !!\n",
    "def solution(progresses, speeds):\n",
    "    answer = []\n",
    "    while progresses: # progresses 모두 배포할때까지 반복\n",
    "        for i in range(len(progresses)):\n",
    "            progresses[i]+= speeds[i]\n",
    "        cnt = 0\n",
    "        while progresses and progresses[0] >= 100: # while progresses 안해주면 리스트 범위 오류\n",
    "            # 그 이유는 여기부터는 pop() -> progresses가 점점 작아짐\n",
    "            progresses.pop(0)\n",
    "            speeds.pop(0)\n",
    "            cnt+=1\n",
    "        if cnt:\n",
    "            answer.append(cnt)\n",
    "    return answer\n",
    "solution([93, 30, 55], [1, 30, 5])"
   ]
  }
 ],
 "metadata": {
  "kernelspec": {
   "display_name": "Python 3",
   "language": "python",
   "name": "python3"
  },
  "language_info": {
   "codemirror_mode": {
    "name": "ipython",
    "version": 3
   },
   "file_extension": ".py",
   "mimetype": "text/x-python",
   "name": "python",
   "nbconvert_exporter": "python",
   "pygments_lexer": "ipython3",
   "version": "3.7.6"
  }
 },
 "nbformat": 4,
 "nbformat_minor": 4
}
