{
 "cells": [
  {
   "cell_type": "markdown",
   "metadata": {},
   "source": [
    "### 문제 설명\n",
    "\n",
    "- 각 배포마다 몇개의 기능 배포되는가 return\n",
    "\n",
    "~~~\n",
    "| progresses               | speeds             | return    |\n",
    "| ------------------------ | ------------------ | --------- |\n",
    "| [93, 30, 55]             | [1, 30, 5]         | [2, 1]    |\n",
    "| [95, 90, 99, 99, 80, 99] | [1, 1, 1, 1, 1, 1] | [1, 3, 2] |\n",
    "    \n",
    "[1, 2,3] [100, 100,  1] [2, 1]\n",
    "~~~\n",
    "\n",
    "- 첫번째 작업 : [(100-93)//1=7, (100-30)//30+1,  (100-55)//5 ] = [7, 3, 9] answer = [2, 1]\n",
    "- 두번째 작업 : [5, 10, 1, 1, 20, 1]  answer = [1, 3, 2]\n",
    "    \n",
    "- 70 / 30 = 2. xx  => 3\n",
    "- 70 % 30 != 0 -> 몫 +1 \n",
    "\n"
   ]
  },
  {
   "cell_type": "code",
   "execution_count": 31,
   "metadata": {},
   "outputs": [
    {
     "name": "stdout",
     "output_type": "stream",
     "text": [
      "[5, 10, 1, 1, 20, 1]\n"
     ]
    },
    {
     "data": {
      "text/plain": [
       "[1, 3, 2, 1]"
      ]
     },
     "execution_count": 31,
     "metadata": {},
     "output_type": "execute_result"
    }
   ],
   "source": [
    "### 실패 -> 문자열 ### 이부분 연구해보기\n",
    "def solution(progresses, speeds):\n",
    "        answer = []\n",
    "        length = len(progresses)\n",
    "        count = []\n",
    "        \n",
    "\n",
    "        for i in range(length):\n",
    "            if (100-progresses[i]) > speeds[i]: \n",
    "                if (100- progresses[i]) % speeds[i] == 0:\n",
    "                    count.append((100- progresses[i])//speeds[i])\n",
    "                else:\n",
    "                    count.append((100- progresses[i])//speeds[i]+1)\n",
    "            else: \n",
    "                count.append(1)\n",
    "        print(count)\n",
    "          \n",
    "         #####   \n",
    "        for i in range(len(count)-1):        # 5 10 1 1 20\n",
    "            cnt = 1\n",
    "            for j in range(i+1, len(count)):# 10 1 1 20 1\n",
    "                if count[i]< count[j]:\n",
    "                    answer.append(cnt)\n",
    "                    break\n",
    "                else: \n",
    "                    cnt +=1\n",
    "          \n",
    "    \n",
    "        return answer \n",
    "\n",
    "# solution([93, 30, 55],[1, 30, 5] )\n",
    "solution([95, 90, 99, 99, 80, 99], [1, 1, 1, 1, 1, 1])"
   ]
  },
  {
   "cell_type": "code",
   "execution_count": 36,
   "metadata": {},
   "outputs": [
    {
     "name": "stdout",
     "output_type": "stream",
     "text": [
      "[5, 10, 1, 1, 20, 1]\n"
     ]
    },
    {
     "data": {
      "text/plain": [
       "[1, 3, 2]"
      ]
     },
     "execution_count": 36,
     "metadata": {},
     "output_type": "execute_result"
    }
   ],
   "source": [
    "### 성공 !!1\n",
    "def solution(progresses, speeds):\n",
    "    answer = []\n",
    "    length = len(progresses)\n",
    "    count = []\n",
    "    \n",
    "\n",
    "    for i in range(length):\n",
    "        if (100-progresses[i]) > speeds[i]: \n",
    "            if (100- progresses[i]) % speeds[i] == 0:\n",
    "                count.append((100- progresses[i])//speeds[i])\n",
    "            else:\n",
    "                count.append((100- progresses[i])//speeds[i]+1)\n",
    "        else: \n",
    "            count.append(1)\n",
    "    print(count)\n",
    "\n",
    "    cnt = 0  #[5 10 1 1 20 1]\n",
    "# ****************************************** 아래 부분 꼭 기억하기     \n",
    "    p = count[0]\n",
    "    for i in range(len(count)):\n",
    "        if p < count[i]:\n",
    "            answer.append(cnt)\n",
    "            p = count[i]\n",
    "            cnt = 0\n",
    "        cnt +=1\n",
    "    answer.append(cnt)\n",
    "    \n",
    "    return answer \n",
    "\n",
    "# solution([93, 30, 55],[1, 30, 5] )\n",
    "solution([95, 90, 99, 99, 80, 99], [1, 1, 1, 1, 1, 1])"
   ]
  }
 ],
 "metadata": {
  "kernelspec": {
   "display_name": "Python 3",
   "language": "python",
   "name": "python3"
  },
  "language_info": {
   "codemirror_mode": {
    "name": "ipython",
    "version": 3
   },
   "file_extension": ".py",
   "mimetype": "text/x-python",
   "name": "python",
   "nbconvert_exporter": "python",
   "pygments_lexer": "ipython3",
   "version": "3.7.6"
  }
 },
 "nbformat": 4,
 "nbformat_minor": 4
}
