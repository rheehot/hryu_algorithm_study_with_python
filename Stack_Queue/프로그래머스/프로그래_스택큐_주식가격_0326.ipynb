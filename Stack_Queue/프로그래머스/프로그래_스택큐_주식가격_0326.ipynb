{
 "cells": [
  {
   "cell_type": "markdown",
   "metadata": {},
   "source": [
    "### 문제 설명\n",
    "- 가격이 떨어지지 않은 기간 몇초?\n",
    "- prices의 각 가격은 1 이상 10,000 이하인 자연수입니다.\n",
    "- prices의 길이는 2 이상 100,000 이하입니다.\n",
    "\n",
    "~~~\n",
    "prices\t            return\n",
    "[1, 2, 3, 2, 3] \t[4, 3, 1, 1, 0]\n",
    "~~~\n",
    "### 순서\n",
    "1. 답을 반환할 리스트 생성 및 초기화\n",
    "2. prices 길이 만큼 반복문\n",
    "    - 가격이 떨어지지않은 기간 cnt = 0 초기화, 여기서 해야 length 길이 만큼\n",
    "        - i, i+1 해당하는 원소 값 비교\n",
    "        - 비교가 가능하다면 cnt 증가 시켜줭, 조건 만족 안하면 break로 빠져나가\n",
    "    - 여기서 answer (반환할 리스트에) append\n",
    "3. 반환"
   ]
  },
  {
   "cell_type": "code",
   "execution_count": 8,
   "metadata": {},
   "outputs": [
    {
     "data": {
      "text/plain": [
       "[4, 3, 1, 1, 0]"
      ]
     },
     "execution_count": 8,
     "metadata": {},
     "output_type": "execute_result"
    }
   ],
   "source": [
    "def solution(prices):\n",
    "    answer = []\n",
    "    \n",
    "    for i in range(len(prices)):\n",
    "        cnt = 0\n",
    "        for j in range(i+1, len(prices)):\n",
    "            cnt += 1\n",
    "            if prices[i]> prices[j]:\n",
    "                break\n",
    "            \n",
    "        answer.append(cnt)\n",
    "    return answer\n",
    "solution([1, 2, 3, 2, 3])"
   ]
  },
  {
   "cell_type": "code",
   "execution_count": null,
   "metadata": {},
   "outputs": [],
   "source": []
  }
 ],
 "metadata": {
  "kernelspec": {
   "display_name": "Python 3",
   "language": "python",
   "name": "python3"
  },
  "language_info": {
   "codemirror_mode": {
    "name": "ipython",
    "version": 3
   },
   "file_extension": ".py",
   "mimetype": "text/x-python",
   "name": "python",
   "nbconvert_exporter": "python",
   "pygments_lexer": "ipython3",
   "version": "3.7.6"
  }
 },
 "nbformat": 4,
 "nbformat_minor": 4
}
