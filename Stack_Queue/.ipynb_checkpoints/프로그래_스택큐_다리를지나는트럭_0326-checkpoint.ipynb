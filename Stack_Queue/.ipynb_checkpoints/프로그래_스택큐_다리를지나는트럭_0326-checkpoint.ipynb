{
 "cells": [
  {
   "cell_type": "markdown",
   "metadata": {},
   "source": [
    "### 문제 설명\n",
    "\n",
    "\n",
    "| bridge_length | weight | truck_weights                   | return |\n",
    "| ------------- | ------ | ------------------------------- | ------ |\n",
    "| 2             | 10     | [7,4,5,6]                       | 8      |\n",
    "| 100           | 100    | [10]                            | 101    |\n",
    "| 100           | 100    | [10,10,10,10,10,10,10,10,10,10] | 110    |\n",
    "\n",
    "- 다리길이 bridge_length\n",
    "- 다리가 견딜 수 있는 무게 weight\n",
    "- 대기 트럭 truck_weights\n",
    "- 트럭이 건너고 있는 다리 상태  bridge \n",
    "\n",
    "### 순서 \n",
    "1. bridge를 다리 길이만큼 생성 및 초기화, answer 생성 및 초기화\n",
    "2. 트럭 이동하는 다리 상태를 bridge, 이것이 빌때까지 반복\n",
    "    - bridge의 맨 앞 원소 pop, 카운트 증가\n",
    "    - truck_weights에 트럭 대기중이라면\n",
    "        - bridge의 합과 truck의 첫번째 원소의 합이 < 다리 무게라면\n",
    "            - bridge에 truck_weights[0] append\n",
    "        - 그게 아니라면\n",
    "            - bridge에 0 append"
   ]
  },
  {
   "cell_type": "code",
   "execution_count": 4,
   "metadata": {},
   "outputs": [
    {
     "data": {
      "text/plain": [
       "8"
      ]
     },
     "execution_count": 4,
     "metadata": {},
     "output_type": "execute_result"
    }
   ],
   "source": [
    "def solution(bridge_length, weight, truck_weights):\n",
    "    \n",
    "    # 다리길이 bridge_length\n",
    "    # 다리가 견딜 수 있는 무게 weight\n",
    "    # 대기 트럭 truck_weights\n",
    "    # 트럭이 건너고 있는 다리 상태 bridge\n",
    "    \n",
    "    bridge = [0] * bridge_length # 다리 길이만큼 초기화 \n",
    "    answer = 0 # 다리 다 건너는 시간\n",
    "    \n",
    "    while bridge:\n",
    "        bridge.pop(0)\n",
    "        answer += 1\n",
    "        \n",
    "        if truck_weights:\n",
    "            if sum(bridge)+ truck_weights[0]< weight:\n",
    "                bridge.append(truck_weights.pop(0))\n",
    "            else:\n",
    "                bridge.append(0)\n",
    "    return answer\n",
    "solution(2, 10, [7,4,5,6]) "
   ]
  }
 ],
 "metadata": {
  "kernelspec": {
   "display_name": "Python 3",
   "language": "python",
   "name": "python3"
  },
  "language_info": {
   "codemirror_mode": {
    "name": "ipython",
    "version": 3
   },
   "file_extension": ".py",
   "mimetype": "text/x-python",
   "name": "python",
   "nbconvert_exporter": "python",
   "pygments_lexer": "ipython3",
   "version": "3.7.6"
  }
 },
 "nbformat": 4,
 "nbformat_minor": 4
}
