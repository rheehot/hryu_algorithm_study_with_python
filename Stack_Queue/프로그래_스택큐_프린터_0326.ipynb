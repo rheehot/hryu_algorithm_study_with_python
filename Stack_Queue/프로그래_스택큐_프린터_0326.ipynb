{
 "cells": [
  {
   "cell_type": "markdown",
   "metadata": {},
   "source": [
    "### 문제 설명\n",
    "\n",
    "| priorities         | location | return |\n",
    "| ------------------ | -------- | ------ |\n",
    "| [2, 1, 3, 2]       | 2        | 1      |\n",
    "| [1, 1, 9, 1, 1, 1] | 0        | 5      |\n",
    "\n",
    "- 0. 새로운 리스트 생성  x\n",
    "- 1. 가장 큰 값과 그 위치를 찾아야 => arr.index(max(arr)), p = location 위치 확인 \n",
    "- 2. 가장 큰 값기준으로 앞의 리스트 자른다 자른 리스트 -> [: max_index] \n",
    "- 3. p가 가장 큰 값보다 앞에 있다면 -> p + (리스트 길이 - 자른 리스트 길이)\n",
    "- 4. p가 가장 큰 값보다 뒤에 있다면 -> p - 자른 리스트 길이 "
   ]
  },
  {
   "cell_type": "code",
   "execution_count": 19,
   "metadata": {},
   "outputs": [
    {
     "data": {
      "text/plain": [
       "5"
      ]
     },
     "execution_count": 19,
     "metadata": {},
     "output_type": "execute_result"
    }
   ],
   "source": [
    "def solution(priorities, location):\n",
    "#     answer = 0\n",
    "    head = []\n",
    "    max_index = priorities.index(max(priorities))\n",
    "    if location < max_index:\n",
    "        return location + (len(priorities) - max_index) +1\n",
    "    elif location > max_index:\n",
    "        return location - max_index +1\n",
    "    else:\n",
    "        return 1\n",
    "solution([2, 1, 3, 2], 2)\n",
    "solution([1,1,9,1,1,1], 0)\n",
    "solution([9,9,9,9,8,9], 5)\n",
    "solution([2, 2, 2, 1, 3, 4], 3)"
   ]
  }
 ],
 "metadata": {
  "kernelspec": {
   "display_name": "Python 3",
   "language": "python",
   "name": "python3"
  },
  "language_info": {
   "codemirror_mode": {
    "name": "ipython",
    "version": 3
   },
   "file_extension": ".py",
   "mimetype": "text/x-python",
   "name": "python",
   "nbconvert_exporter": "python",
   "pygments_lexer": "ipython3",
   "version": "3.7.6"
  }
 },
 "nbformat": 4,
 "nbformat_minor": 4
}
