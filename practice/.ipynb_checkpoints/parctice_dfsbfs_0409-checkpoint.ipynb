{
 "cells": [
  {
   "cell_type": "code",
   "execution_count": 11,
   "metadata": {},
   "outputs": [
    {
     "name": "stdout",
     "output_type": "stream",
     "text": [
      "7\n",
      "0110100\n",
      "0110101\n",
      "1110101\n",
      "0000111\n",
      "0100000\n",
      "0111110\n",
      "0111000\n",
      "3\n",
      "7\n",
      "8\n",
      "9\n"
     ]
    }
   ],
   "source": [
    "# 단지번호붙이기 2667\n",
    "\n",
    "n = int(input())\n",
    "graph = [list(map(int, input()))for _ in range(n)]\n",
    "\n",
    "cnt = 0 # 집 수\n",
    "result = 0 # 단지수\n",
    "num_cnt = [] \n",
    "\n",
    "def dfs(x, y):\n",
    "    global cnt\n",
    "    if x<0 or x>=n or y<0 or y >= n:\n",
    "        return False\n",
    "    \n",
    "    if graph[x][y] ==1:\n",
    "        cnt += 1\n",
    "        graph[x][y] = 0 # 방문 하면 더이상 못지나가\n",
    "        dfs(x-1, y)\n",
    "        dfs(x+1, y)\n",
    "        dfs(x, y-1)\n",
    "        dfs(x, y+1)\n",
    "        return True\n",
    "    return False\n",
    "    \n",
    "for i in range(n):\n",
    "    for j in range(n):\n",
    "        if dfs(i,j)== True:\n",
    "            result+=1\n",
    "            num_cnt.append(cnt)\n",
    "            cnt = 0 # 초기화\n",
    "            \n",
    "num_cnt.sort()\n",
    "\n",
    "print(result)\n",
    "for i in num_cnt:\n",
    "    print(i)\n",
    "    \n"
   ]
  },
  {
   "cell_type": "code",
   "execution_count": 13,
   "metadata": {},
   "outputs": [
    {
     "name": "stdout",
     "output_type": "stream",
     "text": [
      "5 17\n",
      "4\n"
     ]
    }
   ],
   "source": [
    "# 숨바꼭질\n",
    "\n",
    "from collections import deque\n",
    "\n",
    "n,k = map(int, input().split())\n",
    "graph = [0]*100001 # 0 ≤ N,K ≤ 100,000, 위치 \n",
    "\n",
    "queue = deque() \n",
    "queue.append(n) # 탐색할 위치 큐에 삽입할 것임 \n",
    "while queue:\n",
    "    v= queue.popleft()\n",
    "    if v == k:\n",
    "        answer = graph[v]\n",
    "        break\n",
    "    for next_node in (v-1, v+1, v*2):\n",
    "        if 0<= next_node <= 1000000 and graph[next_node] ==0:\n",
    "            graph[next_node] =graph[v] +1  # 위치 value에 횟수 누적시킬것임\n",
    "            queue.append(next_node)\n",
    "print(answer)\n",
    "            \n",
    "        "
   ]
  }
 ],
 "metadata": {
  "kernelspec": {
   "display_name": "Python 3",
   "language": "python",
   "name": "python3"
  },
  "language_info": {
   "codemirror_mode": {
    "name": "ipython",
    "version": 3
   },
   "file_extension": ".py",
   "mimetype": "text/x-python",
   "name": "python",
   "nbconvert_exporter": "python",
   "pygments_lexer": "ipython3",
   "version": "3.7.6"
  }
 },
 "nbformat": 4,
 "nbformat_minor": 4
}
