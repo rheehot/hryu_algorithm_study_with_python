{
 "cells": [
  {
   "cell_type": "code",
   "execution_count": 2,
   "metadata": {},
   "outputs": [
    {
     "name": "stdout",
     "output_type": "stream",
     "text": [
      "1\n",
      "3 3 2\n",
      "1 1\n",
      "2 1\n",
      "[[0, 0, 0], [0, 1, 1], [0, 0, 0]]\n",
      "33\n",
      "33\n",
      "0\n"
     ]
    }
   ],
   "source": [
    "def dfs(x, y):\n",
    "    dx = [1, -1, 0, 0]\n",
    "    dy = [0, 0, 1, -1]\n",
    "    \n",
    "    for i in range(4):\n",
    "        nx = x + dx[i]\n",
    "        ny = y + dy[i]\n",
    "        \n",
    "        #if nx >= 0 and nx < n and ny >= 0 and ny <m :\n",
    "        if (0 <= nx < n) and (0 <= ny < m):\n",
    "            if graph[nx][ny] == 1:\n",
    "                graph[nx][ny] = -1\n",
    "                dfs(nx, ny)\n",
    "            \n",
    "t = int(input())\n",
    "for _ in range(t):\n",
    "    m, n, k = map(int, input().split())\n",
    "    graph = [ [0]*m for _ in range(n) ]\n",
    "    cnt = 0 \n",
    "    \n",
    "    for _ in range(k):\n",
    "        m, n = map(int, input().split())\n",
    "        graph[n][m] = 1 # IndexError: list index out of range 실수 조심\n",
    "    print(graph)\n",
    "    \n",
    "    for i in range(n):\n",
    "        for j in range(m):\n",
    "            print(33)\n",
    "            if graph[i][j] > 0:\n",
    "                print(22)\n",
    "                dfs(i, j)\n",
    "                cnt += 1\n",
    "    print(cnt)"
   ]
  }
 ],
 "metadata": {
  "kernelspec": {
   "display_name": "Python 3",
   "language": "python",
   "name": "python3"
  },
  "language_info": {
   "codemirror_mode": {
    "name": "ipython",
    "version": 3
   },
   "file_extension": ".py",
   "mimetype": "text/x-python",
   "name": "python",
   "nbconvert_exporter": "python",
   "pygments_lexer": "ipython3",
   "version": "3.7.6"
  }
 },
 "nbformat": 4,
 "nbformat_minor": 4
}
