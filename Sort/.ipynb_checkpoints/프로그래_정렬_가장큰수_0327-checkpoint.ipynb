{
 "cells": [
  {
   "cell_type": "markdown",
   "metadata": {},
   "source": [
    "### 문제설명\n",
    "\n",
    "- numbers의 길이는 1 이상 100,000 이하입니다.\n",
    "- numbers의 원소는 0 이상 1,000 이하입니다.\n",
    "- 정답이 너무 클 수 있으니 문자열로 바꾸어 return 합니다.\n",
    "\n",
    "#### 시간복잡도\n",
    "- 10^6 * 10^3 = 10 ^9  1억 넘어 => 다른 방법 모색\n",
    "\n",
    "~~~\n",
    "numbers\t                return\n",
    "[6, 10, 2]          \t\"6210\"\n",
    "[3, 30, 34, 5, 9]\t   \"9534330\"\n",
    "~~~\n",
    "\n",
    "### 포인트\n",
    "- 숫자로 받아서 문자열로 바꿔서 문자열로 반환해줘야함\n",
    "- 문자열은 숫자형과 달리 첫글자가 큰 순서대로 또는 문자열의 길이가 긴 순서대로 크기 비교 가능\n",
    "\n",
    "### 순서\n",
    "1. 정수형으로 문자형으로 바꾼다 numbers = list(map(str, numbers))\n",
    "2. 문자열 정렬 -> 3자리로 만들기 23 ->232 3 -> 333 이런식  , 내림차순 // key를 이용하면 원하는 방식으로 정렬해줌\n",
    "3. 문자형 같은 경우 0345 -> 0 케이스 대비 & 문자들 붙여주기  -> int형으로 바꿔 join\n",
    "4. int형 -> 문자형 (문제조건)"
   ]
  },
  {
   "cell_type": "code",
   "execution_count": 15,
   "metadata": {},
   "outputs": [
    {
     "data": {
      "text/plain": [
       "'6210'"
      ]
     },
     "execution_count": 15,
     "metadata": {},
     "output_type": "execute_result"
    }
   ],
   "source": [
    "def solution(numbers):\n",
    "    numbers = list(map(str, numbers)) # 문자열로 바꾼다\n",
    "    numbers.sort(key = lambda x : x*3, reverse=True)\n",
    "    # 정수형 -> 0의 케이스 대비, [0, 0, 0, 0] -> 0으로 바꾸기, 앞에 0오면 0442 -> 442로 바꾸기\n",
    "    return str(int(''.join(numbers)))\n",
    "solution([6, 10, 2])"
   ]
  }
 ],
 "metadata": {
  "kernelspec": {
   "display_name": "Python 3",
   "language": "python",
   "name": "python3"
  },
  "language_info": {
   "codemirror_mode": {
    "name": "ipython",
    "version": 3
   },
   "file_extension": ".py",
   "mimetype": "text/x-python",
   "name": "python",
   "nbconvert_exporter": "python",
   "pygments_lexer": "ipython3",
   "version": "3.7.6"
  }
 },
 "nbformat": 4,
 "nbformat_minor": 4
}
