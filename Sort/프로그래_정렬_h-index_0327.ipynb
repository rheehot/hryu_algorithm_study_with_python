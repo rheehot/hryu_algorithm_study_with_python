{
 "cells": [
  {
   "cell_type": "markdown",
   "metadata": {},
   "source": [
    "### 문제설명\n",
    "- n편 중 h번 이상 인용된 논문이 h편이상이고 나머지 논문이 h번 이하 인용 -> h의 최댓값\n",
    "-  인용 횟수를 담은 배열 citations가 매개변수로 주어질 때, 이 과학자의 H-Index를 return 하도록 solution 함수\n",
    "\n",
    "- 과학자가 발표한 논문의 수는 1편 이상 1,000편 이하입니다.\n",
    "- 논문별 인용 횟수는 0회 이상 10,000회 이하입니다.\n",
    "\n",
    "~~~\n",
    "citations\treturn\n",
    "[3, 0, 6, 1, 5]\t3\n",
    "~~~\n",
    "- 5편 중 3편이 3회 이상 인용됨, 나머지 3번 이하 인용됨\n",
    "\n",
    "### 포인트\n",
    "- h편 이상의 논문이 h번 이상, n-h편 논문이 h번 이하논문이 h번 이하"
   ]
  },
  {
   "cell_type": "markdown",
   "metadata": {},
   "source": [
    "[3. 0. 6. 1 .5] -> 0 1 3 5 6\n"
   ]
  },
  {
   "cell_type": "code",
   "execution_count": null,
   "metadata": {},
   "outputs": [],
   "source": [
    "def solution(citations):   "
   ]
  }
 ],
 "metadata": {
  "kernelspec": {
   "display_name": "Python 3",
   "language": "python",
   "name": "python3"
  },
  "language_info": {
   "codemirror_mode": {
    "name": "ipython",
    "version": 3
   },
   "file_extension": ".py",
   "mimetype": "text/x-python",
   "name": "python",
   "nbconvert_exporter": "python",
   "pygments_lexer": "ipython3",
   "version": "3.7.6"
  }
 },
 "nbformat": 4,
 "nbformat_minor": 4
}
