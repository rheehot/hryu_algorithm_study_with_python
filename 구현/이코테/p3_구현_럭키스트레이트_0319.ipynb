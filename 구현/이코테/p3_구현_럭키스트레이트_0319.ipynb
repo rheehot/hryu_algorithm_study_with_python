{
 "cells": [
  {
   "cell_type": "markdown",
   "metadata": {},
   "source": [
    "### 문제 설명\n",
    "- 정수 n을 반으로 나눠 왼쪽부분합 == 오른부분합\n",
    "- 동일 상황을 만족하면 럭키\n",
    "- 입력 정수 n (10 ~ 99,999,999) , 짝수\n"
   ]
  },
  {
   "cell_type": "markdown",
   "metadata": {},
   "source": [
    "### 포인트\n",
    "- 문자열로 받음 -> 숫자로 변환 계산 !!"
   ]
  },
  {
   "cell_type": "code",
   "execution_count": 3,
   "metadata": {},
   "outputs": [
    {
     "name": "stdout",
     "output_type": "stream",
     "text": [
      "123321\n",
      "lucky\n"
     ]
    }
   ],
   "source": [
    "n = input()\n",
    "length = len(n)\n",
    "summary =0\n",
    "\n",
    "for i in range(length//2):\n",
    "    summary += int(n[i])\n",
    "for i in range(length//2, length):\n",
    "    summary -= int(n[i])\n",
    "if summary == 0:\n",
    "    print(\"lucky\")\n",
    "else:\n",
    "    print(\"ready\")"
   ]
  }
 ],
 "metadata": {
  "kernelspec": {
   "display_name": "Python 3",
   "language": "python",
   "name": "python3"
  },
  "language_info": {
   "codemirror_mode": {
    "name": "ipython",
    "version": 3
   },
   "file_extension": ".py",
   "mimetype": "text/x-python",
   "name": "python",
   "nbconvert_exporter": "python",
   "pygments_lexer": "ipython3",
   "version": "3.7.6"
  }
 },
 "nbformat": 4,
 "nbformat_minor": 4
}
