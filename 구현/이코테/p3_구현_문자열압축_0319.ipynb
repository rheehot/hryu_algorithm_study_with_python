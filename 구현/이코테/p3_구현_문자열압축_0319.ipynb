{
 "cells": [
  {
   "cell_type": "markdown",
   "metadata": {},
   "source": [
    "### 문제 설명\n",
    "- 같은 값 연속 -> 그 문자의 개수와 반복되는 값으로 표현\n",
    "- 더 짧은 문자열로 줄여서 표현하는 알고리즘\n",
    "- 입력 : s(1~1000), s는 소문자\n",
    "\n",
    "~~~\n",
    "aabbaccc -> 2a2ba3c  7\n",
    "ababcdcdababcdcd -> 2ab2cd2ab2cd  // 2ababcdcd (가장 짧은 압축) 9\n",
    "xababcdcdababcdcd  17\n",
    "abcabcdede -> 2abcdede 8\n",
    "~~~\n",
    "- 문자열은 앞에서 부터 축약된다\n"
   ]
  },
  {
   "cell_type": "markdown",
   "metadata": {},
   "source": [
    "### 해결 순서\n",
    "1. 문자열 자르는 단위를 1부터 시작해서 모두 해본다  \n",
    "    단위가 문자열 길이의 반보다 커지면 안되니까, 1~문자열길이 반까지\n",
    "2. i개로 자른다 했을때, 문자열의 처음부터 i개씩 문자열 끝까지 계속 검사  \n",
    "    (i개로 나누어 떨어지지 않는 부분은 남은 부분은 마지막에 추가적으로 붙여줌)\n",
    "3. i개로 자른 문자열이 바로 이어서 나타난다면 cnt증가  \n",
    "    그렇지 않다면, 압축된 결과를 저장할 문자열에 문자열 단위 붙여주고  \n",
    "    문자열 단위를 새로 j번부터 i개로 업뎃  \n",
    "    이때, 문자열 단위가 cnt > 1이라면, cnt를 문자열 앞에 붙여서  \n",
    "    result에 추가하고 cnt =1 로 다시 초기화  "
   ]
  },
  {
   "cell_type": "code",
   "execution_count": 2,
   "metadata": {},
   "outputs": [],
   "source": [
    "def solution(s):\n",
    "    answer = len(s)\n",
    "    # 1개 단위(step)부터 압축 단위를 늘려가며 확인\n",
    "    for i in range(1, len(s)//2+1):\n",
    "        comp = \"\"\n",
    "        prev = s[0:i] # 앞에서부터 i만큼의 문자열 추출\n",
    "        count =1\n",
    "        # 단위 i 만큼 증가시키며 이전 문자열과 비교\n",
    "        for j in range(i, len(s), i):\n",
    "            \n",
    "            # 이전 상태와 동일하다면 압축 횟수 증가\n",
    "            if prev == s[j: j+i]:\n",
    "                count +=1\n",
    "            else:\n",
    "                comp += str(count)+ prev if count >=2 else prev\n",
    "                prev = s[j:j+i] # 다시초기화, 현재단위를 이전상태에 넣어줌\n",
    "                count =1\n",
    "        # 남아있는 문자열에 대한 처리\n",
    "        comp +=  str(count) + prev if count >=2 else prev\n",
    "            \n",
    "        anwer = min(answer, len(comp))\n",
    "            \n",
    "        return answer                           "
   ]
  }
 ],
 "metadata": {
  "kernelspec": {
   "display_name": "Python 3",
   "language": "python",
   "name": "python3"
  },
  "language_info": {
   "codemirror_mode": {
    "name": "ipython",
    "version": 3
   },
   "file_extension": ".py",
   "mimetype": "text/x-python",
   "name": "python",
   "nbconvert_exporter": "python",
   "pygments_lexer": "ipython3",
   "version": "3.7.6"
  }
 },
 "nbformat": 4,
 "nbformat_minor": 4
}
