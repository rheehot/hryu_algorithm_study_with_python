{
 "cells": [
  {
   "cell_type": "markdown",
   "metadata": {},
   "source": [
    "### 문제설명\n",
    "- 나이트의 이동 L자 모양\n",
    "- 수평 두칸 + 수직 한칸\n",
    "- 수직 두칸 + 수평 한칸\n",
    "- 8 *8 좌표 나이트 이동할 수 있는 경우의수\n",
    "- 행위치 1~8 / 열 위치 a~h\n",
    "\n",
    "~~~\n",
    "입력  출력\n",
    "a1     2\n",
    "c2     6\n",
    "~~~\n",
    "\n",
    "- 문제유형 : 완탐\n",
    "- idea : 8가지 경로를 확인한다"
   ]
  },
  {
   "cell_type": "markdown",
   "metadata": {},
   "source": [
    "#### 포인트\n",
    "##### 아스키코드 변환\n",
    "- ord() : 문자 -> 아스키코드값   A -> 65\n",
    "- chr() : 아스키코드값 -> 문자"
   ]
  },
  {
   "cell_type": "code",
   "execution_count": 4,
   "metadata": {},
   "outputs": [
    {
     "name": "stdout",
     "output_type": "stream",
     "text": [
      "c2\n",
      "6\n"
     ]
    }
   ],
   "source": [
    "data = input()\n",
    "row = int(data[1])\n",
    "col = int(ord(data[0]))- int(ord('a')) + 1 # 열  1~ 숫자로바꿔주려고\n",
    "\n",
    "# 나이트가이동할 수 있는 방향\n",
    "steps = [(-2,-1),(-1,-2),(1,-2),(2,-1),(2,1),(1,2),(-1,2),(-2,1)]\n",
    "\n",
    "# 8가지 방향에 대하여 각 위치로 이동 가능한지 확인\n",
    "result = 0 # 이동할 수 있는 경우의수 \n",
    "for step in steps:\n",
    "    next_r = row + step[0]\n",
    "    next_c = col + step[1]\n",
    "    \n",
    "    if next_r >=1 and next_r <=8 and next_c >=1 and next_c<=8:\n",
    "        result +=1\n",
    "        \n",
    "print(result)\n"
   ]
  }
 ],
 "metadata": {
  "kernelspec": {
   "display_name": "Python 3",
   "language": "python",
   "name": "python3"
  },
  "language_info": {
   "codemirror_mode": {
    "name": "ipython",
    "version": 3
   },
   "file_extension": ".py",
   "mimetype": "text/x-python",
   "name": "python",
   "nbconvert_exporter": "python",
   "pygments_lexer": "ipython3",
   "version": "3.7.6"
  }
 },
 "nbformat": 4,
 "nbformat_minor": 4
}
