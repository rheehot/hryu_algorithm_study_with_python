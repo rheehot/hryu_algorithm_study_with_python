{
 "cells": [
  {
   "cell_type": "markdown",
   "metadata": {},
   "source": [
    "### 문제설명\n",
    "1. 현재 방향기준으로 왼쪽방향 전진\n",
    "2. 왼쪽에 가보지 않은 곳 존재 -> 회전한방향으로 + 한칸 전진\n",
    "3. 존재 안해 -> 회전만하고 1단계\n",
    "4. 네방향 다 가봄 또는 바다 -> 바라보는 방향 유지 + 한칸 ㅜ뒤로 가고 1단계, 뒤쪽이 바다라면 스탑\n",
    "\n",
    "  - 캐릭터가 방문한 칸의 수 출력 \n",
    "  - 0 1 2 3 북 동 남 서\n",
    "  - 처음 캐릭터가 위치한 칸의 상태 -> 항상육지\n",
    "\n",
    "~~~\n",
    "\n",
    "4 4 맵생성\n",
    "1 1 0 캐릭터 1,1에있고 북쪽 바라봄\n",
    "1 1 1 1     1은 바다\n",
    "1 0 0 1\n",
    "1 1 0 1\n",
    "1 1 1 1\n",
    "출력 3\n",
    "\n",
    "~~~\n",
    "\n"
   ]
  },
  {
   "cell_type": "markdown",
   "metadata": {},
   "source": [
    "### 포인트\n",
    "- 너무 어렵\n",
    "- while True 와 break\n",
    "- turn_left 함수\n",
    "- 글로벌 함수"
   ]
  },
  {
   "cell_type": "code",
   "execution_count": 4,
   "metadata": {},
   "outputs": [
    {
     "name": "stdout",
     "output_type": "stream",
     "text": [
      "4 4\n",
      "1 1 0\n",
      "1 1 1 1\n",
      "1 0 0 1\n",
      "1 1 0 1\n",
      "1 1 1 1\n",
      "3\n"
     ]
    }
   ],
   "source": [
    "n,m = map(int, input().split())\n",
    "# 방문 위치 저장 맵\n",
    "d = [[0]*m for _ in range(n)]\n",
    "# 현재 캐릭터 위치 방향 입력\n",
    "x, y, direction = map(int, input().split())\n",
    "d[x][y] = 1\n",
    "\n",
    "array = []\n",
    "for _ in range(n):\n",
    "    array.append(list(map(int, input().split())))\n",
    "    \n",
    "# 북 동 남 서 \n",
    "dx = [-1, 0 ,1, 0]\n",
    "dy = [0, 1, 0, -1]\n",
    "\n",
    "# 북 동 남 서   0 1 2 3\n",
    "def turn_left():\n",
    "    global direction\n",
    "    direction -= 1\n",
    "    if direction == -1:\n",
    "        direction = 3\n",
    "\n",
    "## 시뮬레이션 시작\n",
    "count = 1\n",
    "turn_time = 0\n",
    "while True:\n",
    "    # 왼쪽으로 회전\n",
    "    turn_left()\n",
    "    nx = x +dx[direction]\n",
    "    ny = y + dy[direction]\n",
    "    # 회전한 이후 정면에 가보지 않은 칸 존재하는 경우 이동\n",
    "    if d[nx][ny] == 0 and array[nx][ny] ==0:\n",
    "        d[nx][ny] =1\n",
    "        x = nx\n",
    "        y = ny\n",
    "        count += 1\n",
    "        turn_time = 0\n",
    "        continue\n",
    "    # 회전한 이후 갈 수 없는 경우\n",
    "    else:\n",
    "        turn_time += 1\n",
    "    \n",
    "     # 네방향 모두 갈수 없는 경우\n",
    "    if turn_time == 4:\n",
    "        nx = x-dx[direction]\n",
    "        ny = y-dy[direction]\n",
    "        # 뒤로 갈 수 있다면 이동\n",
    "        if array[nx][ny] == 0:\n",
    "            x= nx\n",
    "            y = ny\n",
    "        # 뒤가 바다로 막혀있는 경우\n",
    "        else:\n",
    "            break\n",
    "        turn_time = 0\n",
    "print(count)"
   ]
  }
 ],
 "metadata": {
  "kernelspec": {
   "display_name": "Python 3",
   "language": "python",
   "name": "python3"
  },
  "language_info": {
   "codemirror_mode": {
    "name": "ipython",
    "version": 3
   },
   "file_extension": ".py",
   "mimetype": "text/x-python",
   "name": "python",
   "nbconvert_exporter": "python",
   "pygments_lexer": "ipython3",
   "version": "3.7.6"
  }
 },
 "nbformat": 4,
 "nbformat_minor": 4
}
