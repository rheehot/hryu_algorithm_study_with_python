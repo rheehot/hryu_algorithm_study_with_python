{
 "cells": [
  {
   "cell_type": "markdown",
   "metadata": {},
   "source": [
    "### 예제_ 상하좌우\n",
    "\n",
    "~~~\n",
    "5 (1~100)\n",
    "R R R U D D(1~100)    -> 3 4\n",
    "~~~\n",
    "\n",
    "- 문제 조건에서 범위벗어나느 값이면 무시한다고 조건 줌"
   ]
  },
  {
   "cell_type": "code",
   "execution_count": 2,
   "metadata": {},
   "outputs": [
    {
     "name": "stdout",
     "output_type": "stream",
     "text": [
      "5\n",
      "R R R U D D\n",
      "3 4\n"
     ]
    }
   ],
   "source": [
    "n = int(input())\n",
    "\n",
    "x, y = 1, 1\n",
    "plans = input().split()\n",
    "\n",
    "# L R U D \n",
    "dx = [0, 0, -1, 1] # 행\n",
    "dy = [-1, 1, 0, 0] # 열\n",
    "move_types = ['L', 'R', 'U', 'D']\n",
    "\n",
    "# 이동 계획 하나씩 확인\n",
    "for plan in plans:\n",
    "    # 이동 후 좌표 구하기\n",
    "    for i in range(len(move_types)):\n",
    "        if plan == move_types[i]:\n",
    "            nx = x +dx[i]\n",
    "            ny = y +dy[i]\n",
    "            \n",
    "    # 공간 벗어나는 경우 무시\n",
    "    if nx < 1 or nx >n or ny <1 or ny >n:\n",
    "        continue\n",
    "    # 이동 수행\n",
    "    x, y =nx, ny\n",
    "print(x, y)\n",
    "    "
   ]
  },
  {
   "cell_type": "markdown",
   "metadata": {},
   "source": [
    "### 문자열 재정렬\n",
    "- 알파벳 오름차순\n",
    "- 숫자는 더해서 출력\n",
    "- K1KA5CB7 -> ABCKK13\n",
    "- 문자하나씩 확인\n",
    "    - 숫자의 경우 합계\n",
    "    - 알파벳은 다른 리소스에 저장"
   ]
  },
  {
   "cell_type": "markdown",
   "metadata": {},
   "source": [
    "### 포인트\n",
    "#### 1. 순서\n",
    "1. 문자열로 받아서 for x in data:로 문자하나하나 확인해보기\n",
    "2. 알파벳 isalpha() 이용하기\n",
    "3. 숫자는 합을 구해야 하므로 문자열 -> int형 변환해서 합 구하기\n",
    "4. 결과리스트에 append할때 숫자는 int형 -> 문자열로 변환해서 붙이기\n",
    "5. 결과리스트이므로 하나의 문자열로 만들기 위해 join함수 이용\n",
    "\n",
    "#### 2. 해결\n",
    "- 문자열 숫자와문자로 뒤섞여있으므로 분리할 생각\n",
    "- 분리해서 알파벳은 sort하고 숫자의 합(변수필요) 각각 따로 구하기\n",
    "- 리스트에 두개를 넣어서 join으로 문자열로 변환해주기"
   ]
  },
  {
   "cell_type": "code",
   "execution_count": 6,
   "metadata": {},
   "outputs": [
    {
     "name": "stdout",
     "output_type": "stream",
     "text": [
      "K1KA5CB7\n",
      "ABCKK13\n"
     ]
    }
   ],
   "source": [
    "data = input()\n",
    "result = []\n",
    "value = 0\n",
    "\n",
    "# 문자 하나씩 확인\n",
    "for x in data:\n",
    "    if x.isalpha():\n",
    "        result.append(x)\n",
    "    else:\n",
    "        value+= int(x)\n",
    "        \n",
    "# 알파벳은 오름차순\n",
    "result.sort()\n",
    "\n",
    "# 숫자가 존재하면 뒤에 붙이기\n",
    "if value != 0:\n",
    "    result.append(str(value))\n",
    "    \n",
    "# 최종 결과 리스트를 문자열로 변환하여 출력\n",
    "print(''.join(result))"
   ]
  },
  {
   "cell_type": "code",
   "execution_count": null,
   "metadata": {},
   "outputs": [],
   "source": []
  }
 ],
 "metadata": {
  "kernelspec": {
   "display_name": "Python 3",
   "language": "python",
   "name": "python3"
  },
  "language_info": {
   "codemirror_mode": {
    "name": "ipython",
    "version": 3
   },
   "file_extension": ".py",
   "mimetype": "text/x-python",
   "name": "python",
   "nbconvert_exporter": "python",
   "pygments_lexer": "ipython3",
   "version": "3.7.6"
  }
 },
 "nbformat": 4,
 "nbformat_minor": 4
}
