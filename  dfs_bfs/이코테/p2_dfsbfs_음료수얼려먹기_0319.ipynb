{
 "cells": [
  {
   "cell_type": "markdown",
   "metadata": {},
   "source": [
    "## dfs bfs 복습\n",
    "\n",
    "- DFS : 다음 분기 넘어가기전에 해당 분기 완벽 탐색\n",
    "- BFS : 인접 노드 탐색\n",
    "\n",
    "### dfs 순서\n",
    "1. 탐색 시작 노드를 스택에 삽입 , 방문 처리\n",
    "2. 스택의 최상단 노드에 방문하지 않은 인접노드 있다면 스택에 넣고 방문처리\n",
    "3. 방문하지 않은 인접노드 없을때까지 재귀 하고 \n",
    "4. 스택에서 최상단 노드 꺼내기\n",
    "5. 이런 로직 계속 반복 2번부터\n",
    "\n",
    "\n",
    "### bfs 순서\n",
    "1. 탐색 시작 노드 큐에 삽입, 방문 처리\n",
    "2. 큐에서 노드 꺼낸 뒤 *** , \n",
    "3. 해당 노드의 인접 노드 중 방문하지 않은 노드 있다면 모두 큐에 삽입 , 방문 처리\n",
    "4. 이런 로직 계속 반복 2번부터"
   ]
  },
  {
   "cell_type": "code",
   "execution_count": 1,
   "metadata": {},
   "outputs": [
    {
     "name": "stdout",
     "output_type": "stream",
     "text": [
      "1 2 7 6 8 3 4 5 "
     ]
    }
   ],
   "source": [
    "### dfs\n",
    "def dfs(graph, v, visited):\n",
    "    # 탐색 노드 방문 처리, \n",
    "    visited[v]= True\n",
    "    print(v, end=' ')# 이 문제는 노드에 삽입된 순서알기 위함이므로 방문처리된걸 확인한다\n",
    "    \n",
    "    # 인접 노드 탐색\n",
    "    for i in graph[v]:\n",
    "        if not visited[i]:\n",
    "            dfs(graph, i, visited)\n",
    "    \n",
    "graph = [\n",
    "  [],\n",
    "  [2, 3, 8],\n",
    "  [1, 7],\n",
    "  [1, 4, 5],\n",
    "  [3, 5],\n",
    "  [3, 4],\n",
    "  [7],\n",
    "  [2, 6, 8],\n",
    "  [1, 7]\n",
    "]\n",
    "visited = [False] * 9\n",
    "dfs(graph, 1, visited)"
   ]
  },
  {
   "cell_type": "code",
   "execution_count": 3,
   "metadata": {},
   "outputs": [
    {
     "name": "stdout",
     "output_type": "stream",
     "text": [
      "1 2 7 6 8 3 4 5 "
     ]
    }
   ],
   "source": [
    "### bfs\n",
    "from collections import deque\n",
    "\n",
    "def bfs(graph, start, visited):\n",
    "    queue = deque([start]) \n",
    "    visited[start] =True\n",
    "    \n",
    "    while queue:\n",
    "        # 방문 처리 직후 꺼내기\n",
    "        v= queue.popleft()\n",
    "        print(v, end=' ')\n",
    "        \n",
    "        # 인접 노드 삽입\n",
    "        for i in graph[v]:\n",
    "            if not visited[i]:\n",
    "                queue.append(i)\n",
    "                visited[i] =True\n",
    "        \n",
    "\n",
    "graph = [\n",
    "  [],\n",
    "  [2, 3, 8],\n",
    "  [1, 7],\n",
    "  [1, 4, 5],\n",
    "  [3, 5],\n",
    "  [3, 4],\n",
    "  [7],\n",
    "  [2, 6, 8],\n",
    "  [1, 7]\n",
    "]\n",
    "visited = [False] * 9\n",
    "dfs(graph, 1, visited)"
   ]
  },
  {
   "cell_type": "markdown",
   "metadata": {},
   "source": [
    "### 음료수 얼려먹기\n",
    "- n*m 구멍뚫려있는 0, 칸막이 1\n",
    "- n,m 1~1000\n",
    "- 한번에 만들수있는 아이스크림개수 \n",
    "\n",
    "~~~\n",
    "00110\n",
    "00011\n",
    "11111\n",
    "00000   -> 3개 가능\n",
    "~~~\n",
    "\n",
    "- 이문제는 dfs로 해결\n",
    "    - 그 이유는 다음 분기 넘어가기전에 해당 분기 완전 탐색 위함\n",
    "    - 재귀 이용하기 위해\n",
    "    - 나 솔직히 햇갈려"
   ]
  },
  {
   "cell_type": "code",
   "execution_count": 1,
   "metadata": {},
   "outputs": [
    {
     "name": "stdout",
     "output_type": "stream",
     "text": [
      "4 5\n",
      "00110\n",
      "00011\n",
      "11111\n",
      "00000\n",
      "3\n"
     ]
    }
   ],
   "source": [
    "# N, M을 공백을 기준으로 구분하여 입력 받기\n",
    "n, m = map(int, input().split())\n",
    "\n",
    "# 2차원 리스트의 맵 \n",
    "graph = []\n",
    "for i in range(n):\n",
    "    graph.append(list(map(int, input())))\n",
    "    \n",
    "# dfs로 특정한 노드 방문한 뒤에 연결된 모든 노드 방문\n",
    "def dfs(x, y):\n",
    "    # 상하좌우 실피기\n",
    "    if x<= -1 or x>=n or  y <= -1 or y >= m:\n",
    "        return False\n",
    "    \n",
    "    # 방문 안했다면\n",
    "    if graph[x][y] == 0:\n",
    "        # 방문 처리\n",
    "        graph[x][y] =1 \n",
    "        # 재귀\n",
    "        dfs(x-1, y)\n",
    "        dfs(x+1, y)\n",
    "        dfs(x, y-1)\n",
    "        dfs(x, y+1)\n",
    "        return True\n",
    "    return False\n",
    "    \n",
    "\n",
    "result = 0\n",
    "for i in range(n):\n",
    "    for j in range(m):\n",
    "        if dfs(i, j) == True:\n",
    "            result += 1\n",
    "            \n",
    "print(result)\n",
    "    "
   ]
  }
 ],
 "metadata": {
  "kernelspec": {
   "display_name": "Python 3",
   "language": "python",
   "name": "python3"
  },
  "language_info": {
   "codemirror_mode": {
    "name": "ipython",
    "version": 3
   },
   "file_extension": ".py",
   "mimetype": "text/x-python",
   "name": "python",
   "nbconvert_exporter": "python",
   "pygments_lexer": "ipython3",
   "version": "3.7.6"
  }
 },
 "nbformat": 4,
 "nbformat_minor": 4
}
