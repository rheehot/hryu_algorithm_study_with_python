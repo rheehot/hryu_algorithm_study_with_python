{
 "cells": [
  {
   "cell_type": "markdown",
   "metadata": {},
   "source": [
    "### 연산자 끼워넣기\n",
    "\n",
    "- 연산자는 opearators라는 4짜리 배열 선언\n",
    "- 그 후 백트래킹 사용하여 재귀로 해결\n",
    "- 매개변수는 여태까지의 연산의 result, 연산을 진행할 수의 인덱스를 입력받도록 하는\n",
    "백트래킹 재귀 함수 정의하여 풀이\n",
    "- 백트래킹 재귀 함수 정의하여 풀이\n",
    "\n",
    "- 이 문제는 재귀의 흐름과 매개변수를 어떤 값을 사용해야 할지 설계하는 능력 중요"
   ]
  },
  {
   "cell_type": "markdown",
   "metadata": {},
   "source": [
    "#### 백트래킹\n",
    "- 해를 찾는 도중 해가 아니어서 막히면, 되돌아가서 다시 해를 찾아가는 기법\n",
    "- 최적화 문제, 결정 문제 푸는 방법\n",
    "\n",
    "#### dfs vs 백트래킹\n",
    "- dfs\n",
    "    - 가능한 모든 경로 탐색\n",
    "    - n! 가지의 경우의 수 문제는 처리 불가\n",
    "    \n",
    "- 백트래킹\n",
    "    - 지금의 경로가 해가 될 것 같지 않으면 되돌아 감\n",
    "    - 가지치기라고 부름\n",
    "    - 모든 경우의 수 중 특정한 조건을 만족하는 경우만 살펴보는 것\n",
    "    \n",
    "    "
   ]
  },
  {
   "cell_type": "markdown",
   "metadata": {},
   "source": [
    "#### 문제 설명\n",
    "- 주어진 수의 순서를 바꾸면 안 된다.\n",
    "-  6개의 수로 이루어진 수열이 1, 2, 3, 4, 5, 6이고, 주어진 연산자가    \n",
    "덧셈(+) 2개, 뺄셈(-) 1개, 곱셈(×) 1개, 나눗셈(÷) 1개인 경우에는 총 60가지의 식\n",
    "- 식의 계산은 연산자 우선 순위를 무시하고 앞에서부터 진행\n",
    "-  음수를 양수로 나눌 때는 =>  양수로 바꾼 뒤 몫을 취하고, 그 몫을 음수로 바꾼 것\n",
    "- N개의 수와 N-1개의 연산자가 주어졌을 때, 만들 수 있는 식의 결과가 최대인 것과 최소인 것\n",
    "\n",
    "- 입력 : 첫째 줄에 수의 개수 N(2 ≤ N ≤ 11),  둘째 줄에는 A1, A2, ..., AN      \n",
    "    (1 ≤ Ai ≤ 100) 셋째 줄에는 합이 N-1인 4개의 정수의 개수   \n",
    "- 출력 : -10억 ~10억\n",
    "~~~\n",
    "2\n",
    "5 6\n",
    "0 0 1 0     \n",
    "~~~\n",
    "- 출력 \n",
    "\n",
    "~~~\n",
    "30\n",
    "30\n",
    "~~~"
   ]
  },
  {
   "cell_type": "code",
   "execution_count": null,
   "metadata": {},
   "outputs": [],
   "source": [
    "n = int(input())\n",
    "\n",
    "data = list(map(int, input().split()))\n",
    "\n",
    "add, sub, mul, div = map(int, input().split())\n",
    "\n",
    "# 최댓값 최솟값 초기화\n",
    "min_value = 1e9\n",
    "max_value = -1e9\n",
    "\n",
    "# dfs\n",
    "def dfs(i, now):\n",
    "    global min_value, max_value, add, sub, mul, div\n",
    "    # 모든 연사자 다 사용 => 최솟값 최댓값 업뎃\n",
    "    if i == n:\n",
    "        min_value = min(min_value, now)\n",
    "        max_value = max(max_value, now)\n",
    "    else:\n",
    "        # 각 연산자에 대하여 재귀 \n",
    "        if add >0:\n",
    "            add -= 1\n",
    "            dfs(i+1, now+data[i])\n",
    "            add += 1\n",
    "        if sub > 0:\n",
    "            sub -= 1\n",
    "            dfs(i+1, now - data[i])\n",
    "            sub += 1\n",
    "        if mul > 0:\n",
    "            mul -= 1\n",
    "            dfs(i + 1, now * data[i])\n",
    "            mul += 1\n",
    "        if div > 0:\n",
    "            div -= 1\n",
    "            dfs(i + 1, int(now / data[i])) # 나눌 때는 나머지를 제거\n",
    "            div += 1        \n",
    "            \n",
    "dfs(1, data[0])\n",
    "\n",
    "print(max_value)\n",
    "print(min_value)\n"
   ]
  }
 ],
 "metadata": {
  "kernelspec": {
   "display_name": "Python 3",
   "language": "python",
   "name": "python3"
  },
  "language_info": {
   "codemirror_mode": {
    "name": "ipython",
    "version": 3
   },
   "file_extension": ".py",
   "mimetype": "text/x-python",
   "name": "python",
   "nbconvert_exporter": "python",
   "pygments_lexer": "ipython3",
   "version": "3.7.6"
  }
 },
 "nbformat": 4,
 "nbformat_minor": 4
}
