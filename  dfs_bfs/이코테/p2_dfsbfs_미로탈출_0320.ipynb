{
 "cells": [
  {
   "cell_type": "markdown",
   "metadata": {},
   "source": [
    "- (1,1) -> (N,M)으로 도착\n",
    "- 괴물o 0, 괴물x 1\n",
    "- 탈출하기 위해 움직여야 하는 최소한의 개수      \n",
    "  \n",
    "  \n",
    "  \n",
    "- n,m 1~200\n",
    "- 수들은 공백없이 주어짐  \n",
    "\n",
    "\n",
    "\n",
    "- bfs => 시작노드에서 가까운노드부터 차례대로 그래프의 모든 노드 탐색  \n",
    "\n",
    "~~~\n",
    "\n",
    "5 6\n",
    "101011\n",
    "111111\n",
    "000001\n",
    "111111\n",
    "111111         -> 10\n",
    "~~~"
   ]
  },
  {
   "cell_type": "code",
   "execution_count": 3,
   "metadata": {},
   "outputs": [
    {
     "name": "stdout",
     "output_type": "stream",
     "text": [
      "5 6\n",
      "101011\n",
      "111111\n",
      "000001\n",
      "111111\n",
      "111111\n",
      "10\n"
     ]
    }
   ],
   "source": [
    "from collections import deque\n",
    "\n",
    "n,m = map(int, input().split())\n",
    "\n",
    "graph = []\n",
    "for i in range(n):\n",
    "    graph.append(list(map(int, input())))\n",
    "    \n",
    "# 상 하 좌 우\n",
    "dx = [-1, 1, 0, 0]\n",
    "dy = [0, 0, -1, 1]\n",
    "\n",
    "def bfs(x, y):\n",
    "    queue = deque()\n",
    "    queue.append((x, y))\n",
    "    \n",
    "    while queue:\n",
    "        x, y = queue.popleft()\n",
    "        \n",
    "        for i in range(4):\n",
    "            nx = x+dx[i]\n",
    "            ny = y+dy[i]\n",
    "            # 무시\n",
    "            if nx <0 or nx>=n or ny<0 or ny>=m:\n",
    "                continue\n",
    "            # 무시\n",
    "            if graph[nx][ny]==0:\n",
    "                continue\n",
    "    \n",
    "            if graph[nx][ny] == 1:\n",
    "                graph[nx][ny] = graph[x][y] +1\n",
    "                queue.append((nx, ny))\n",
    "                \n",
    "    return graph[n-1][m-1]\n",
    "print(bfs(0,0))"
   ]
  }
 ],
 "metadata": {
  "kernelspec": {
   "display_name": "Python 3",
   "language": "python",
   "name": "python3"
  },
  "language_info": {
   "codemirror_mode": {
    "name": "ipython",
    "version": 3
   },
   "file_extension": ".py",
   "mimetype": "text/x-python",
   "name": "python",
   "nbconvert_exporter": "python",
   "pygments_lexer": "ipython3",
   "version": "3.7.6"
  }
 },
 "nbformat": 4,
 "nbformat_minor": 4
}
