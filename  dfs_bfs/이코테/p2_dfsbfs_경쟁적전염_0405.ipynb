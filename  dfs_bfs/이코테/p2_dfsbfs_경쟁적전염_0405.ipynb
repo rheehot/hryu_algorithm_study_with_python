{
 "cells": [
  {
   "cell_type": "markdown",
   "metadata": {},
   "source": [
    "### 요약\n",
    "dfs : 다음 분기로 넘어가기전에 해당 분기 완전 탐색    \n",
    "미로탐색시, 한방향으로 갈 수 있을때까지 가다가 더 이상 갈 수 없게 되면 다시 가까운 갈림길로 돌아와 탐색 \n",
    "모든 노드 방문하고자 할때 사용  \n",
    "bfs보다 느리다  \n",
    "스택\n",
    "\n",
    "bfs : 인접한 노드 먼저 탐색  \n",
    "시작 정점에서 가까운 정점 먼저 방문  \n",
    "두 노드 사이의 최단 경로 찾을때 사용  \n",
    "재귀 x, 큐  \n",
    "\n",
    "### 포인트\n",
    "- bfs 활용 : 바이러스 인접 노드로 증식하기 때문\n",
    "- 바이러스가 1->2->3 순으로 탐색하므로 정렬된 바이러스 큐에 넣고 탐색  \n",
    "\n",
    "### 풀이\n",
    "1. n(n*n시험관), k(바이러스번호) 입력 \n",
    "2. graph(전체 정보), data(바이러스 정보) 리스트 선언 및 초기화\n",
    "3. graph 입력받고, 바이러스데이터(바이러스, 시간, 위치)도 data에 추가\n",
    "4. 타켓 시간, 타켓 위치도 입력 받기 \n",
    "5. 바이러스는 1 -> 2 -> 3.. 순으로 퍼지므로 큐를 만들어서 sort\n",
    "6. 바이러스 증식 방향 설정\n",
    "7. 큐가 빌때까지 반복\n",
    "    - 큐에서 바이러스 pop!\n",
    "    - 만약, 팝한 시간이 타켓 시간이라면 빠져나오기\n",
    "    - 팝한 노드에서 인접 노드 탐색 시작 : 동서남북으로\n",
    "        - 인접노드가 방문하지 않은 위치라면 , 그 위치에 바이러스 넣어주고 해당노드 큐에 삽입"
   ]
  },
  {
   "cell_type": "code",
   "execution_count": 10,
   "metadata": {},
   "outputs": [
    {
     "name": "stdout",
     "output_type": "stream",
     "text": [
      "3 3\n",
      "1 0 2\n",
      "0 0 0\n",
      "3 0 0\n",
      "2 3 2\n",
      "3\n"
     ]
    }
   ],
   "source": [
    "from collections import deque\n",
    "\n",
    "n, k = map(int, input().split())\n",
    "graph = [] # 전체 정보 \n",
    "data = [] # 바이러스 정보\n",
    "\n",
    "for i in range(n):\n",
    "    graph.append(list(map(int, input().split())))\n",
    "    for j in range(n):\n",
    "        # 해당 위치에 바이러스 존재하는 경우\n",
    "        if graph[i][j] != 0:\n",
    "            # 바이러스 종류 , 시간, 위치 \n",
    "            data.append((graph[i][j], 0, i, j))\n",
    "            \n",
    "t_s, t_x, t_y = map(int, input().split())\n",
    "\n",
    "# 낮은 번호 먼저 증식하므로 sort\n",
    "data.sort()\n",
    "q = deque(data)\n",
    "\n",
    "\n",
    "\n",
    "# 바이러스가 퍼지는 방향 위 오 아 왼\n",
    "dx = [-1, 0, 1, 0]\n",
    "dy = [0, 1, 0, -1]\n",
    "\n",
    "# bfs\n",
    "while q:\n",
    "    virus, s, x, y = q.popleft()\n",
    "    if s == target_s:\n",
    "        break\n",
    "        \n",
    "    for i in range(4):\n",
    "        nx = x + dx[i]\n",
    "        ny = y + dy[i]\n",
    "        if 0<= nx and nx < n and 0 <= ny and ny< n:\n",
    "            \n",
    "            # 방문하지 않은 위치라면 그 위치에 바이러스\n",
    "            if graph[nx][ny] == 0:\n",
    "                graph[nx][ny] = virus\n",
    "                q.append((virus, s+1, nx, ny))\n",
    "                \n",
    "print(graph[t_x-1][t_y-1])\n",
    "                \n",
    "        \n"
   ]
  }
 ],
 "metadata": {
  "kernelspec": {
   "display_name": "Python 3",
   "language": "python",
   "name": "python3"
  },
  "language_info": {
   "codemirror_mode": {
    "name": "ipython",
    "version": 3
   },
   "file_extension": ".py",
   "mimetype": "text/x-python",
   "name": "python",
   "nbconvert_exporter": "python",
   "pygments_lexer": "ipython3",
   "version": "3.7.6"
  }
 },
 "nbformat": 4,
 "nbformat_minor": 4
}
