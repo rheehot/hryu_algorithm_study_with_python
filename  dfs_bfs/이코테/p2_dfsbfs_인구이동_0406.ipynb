{
 "cells": [
  {
   "cell_type": "markdown",
   "metadata": {},
   "source": [
    "### 포인트\n",
    "- bfs 탐색 => 조건을 만족한다면, 가능한 국경선 모두 열어야 함\n",
    "- \n",
    "### 풀이\n",
    "1. 연합 가능한 나라 찾기\n",
    "2. 연합 가능하다면, 각 칸의 인구수 변환\n",
    "3. 연합이 이루어지지 않은 나라 있다면, 연합 가능한지 다시 탐색 2번 반복"
   ]
  },
  {
   "cell_type": "code",
   "execution_count": 6,
   "metadata": {},
   "outputs": [
    {
     "name": "stdout",
     "output_type": "stream",
     "text": [
      "2 20 50\n",
      "50 30\n",
      "20 40\n",
      "1\n"
     ]
    }
   ],
   "source": [
    "from collections import deque\n",
    "n, l, r = map(int, input().split())\n",
    "graph = [list(map(int, input().split())) for _ in range(n)]\n",
    "\n",
    "dx = [-1, 1, 0, 0]\n",
    "dy = [0, 0, -1, 1]\n",
    "\n",
    "def bfs(x, y, idx):\n",
    "    group = [(x,y)] # 연합 그룹\n",
    "    q = deque() # bfs할 큐\n",
    "    q.append((x, y))\n",
    "    union[x][y] = idx # 현재 연합 번호 추가\n",
    "    total_people = graph[x][y] # 현재 연합 누적 인구 수\n",
    "    cnt = 1 # 현재 연합 국가 수\n",
    "    while q:\n",
    "        x, y = q.popleft()\n",
    "        # 현재 위치에서 4가지 방향 확인\n",
    "        for i in range(4):\n",
    "            nx = x +dx[i]\n",
    "            ny = y +dy[i]\n",
    "            if 0 <= nx < n and 0 <= ny < n and union[nx][ny] == -1:\n",
    "                #  L명 이상, R명 이하라면 \n",
    "                if l <= abs(graph[nx][ny] - graph[x][y]) <= r:\n",
    "                    q.append((nx, ny))\n",
    "                    union[nx][ny] = idx # 연합에 추가\n",
    "                    total_people += graph[nx][ny]\n",
    "                    cnt += 1\n",
    "                    group.append((nx, ny))\n",
    "    # 연합 국가끼리 인구 분배\n",
    "    for i, j in group:\n",
    "        graph[i][j] = total_people// cnt\n",
    "\n",
    "total_count=0\n",
    "while True:\n",
    "    union =  [[-1] * n for _ in range(n)]\n",
    "    idx = 0\n",
    "    for i in range(n):\n",
    "        for j in range(n):\n",
    "            if union[i][j] == -1: # 해당 나라 처리 안됨\n",
    "                bfs(i, j, idx)\n",
    "                idx += 1\n",
    "    if idx == n*n: # 모든 인구 이동이 끝난 경우\n",
    "        break\n",
    "    total_count += 1 \n",
    "print(total_count)\n",
    "        \n",
    "# https://deok2kim.tistory.com/163            \n",
    "    \n",
    "    \n"
   ]
  },
  {
   "cell_type": "code",
   "execution_count": null,
   "metadata": {},
   "outputs": [],
   "source": [
    "\n",
    "from collections import deque\n",
    "\n",
    "def move_population():\n",
    "    \n",
    "def find_group():\n",
    "    \n",
    "\n",
    "# 상하좌우\n",
    "dx = [-1, 1, 0, 0]\n",
    "dy = [0, 0, -1, 1]\n",
    "if __name__ =='__main__':\n",
    "    n, l, r = map(int, input().split())\n",
    "    graph= [list(map(int, input().split())) for _ in range(n)]\n",
    "    \n",
    "    answer = 0\n",
    "    while True:\n",
    "        group_list = []\n",
    "        visited = set()\n",
    "        for i in range(n):\n",
    "            for j in range(n):\n",
    "                if(i, j) not in visited:\n",
    "                    visited.add((i,j))\n",
    "                    find_group(i,j)\n",
    "                    \n",
    "        \n",
    "    "
   ]
  }
 ],
 "metadata": {
  "kernelspec": {
   "display_name": "Python 3",
   "language": "python",
   "name": "python3"
  },
  "language_info": {
   "codemirror_mode": {
    "name": "ipython",
    "version": 3
   },
   "file_extension": ".py",
   "mimetype": "text/x-python",
   "name": "python",
   "nbconvert_exporter": "python",
   "pygments_lexer": "ipython3",
   "version": "3.7.6"
  }
 },
 "nbformat": 4,
 "nbformat_minor": 4
}
