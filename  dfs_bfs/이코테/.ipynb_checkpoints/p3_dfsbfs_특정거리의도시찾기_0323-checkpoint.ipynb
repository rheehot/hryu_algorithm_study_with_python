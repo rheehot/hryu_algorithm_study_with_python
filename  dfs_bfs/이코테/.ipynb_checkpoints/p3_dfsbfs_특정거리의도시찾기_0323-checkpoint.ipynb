{
 "cells": [
  {
   "cell_type": "markdown",
   "metadata": {},
   "source": [
    "### 문제설명\n",
    "- 특정 도시 x로부터 출발해 도달할 수 있는 모든 도시 중  \n",
    "최단거리 k인 모든 도시들의 번호 출력\n",
    "\n",
    "- 입력 : n 도시개수 m 도로개수 k 최단거리 x 출발도시 (n:2~3000000  m:1~100000  x:1~n)   \n",
    "        A번 도시에서 B번 도시로 이동하는 단방향 도로가 존재\n",
    "- 출력 : 최단거리 k인 모든 도시 오름차순 출력 / 없다면 -1\n",
    "    \n",
    "~~~\n",
    "4 4 2 1\n",
    "1 2\n",
    "1 3\n",
    "2 3\n",
    "2 4       -> 4\n",
    "~~~\n",
    "    "
   ]
  },
  {
   "cell_type": "markdown",
   "metadata": {},
   "source": [
    "### 포인트\n",
    "- 최단거리 => bfs (시작정점과 연결된 모든 정점을 방문할 것), 큐 사용\n",
    "- 2차원리스트를 이용해 인접리스트 표현 .. 노드 x에 이웃노드 연결\n",
    "- 노드 크기만큼 최단거리리스트 생성 후 초기화\n",
    "- 노드 큐에 넣고, 큐가 비어있지 않다면 \n",
    "    - 또 방문하지않은(초기화된) 상태라면 인접리스트의 최단거리 리스트 ++\n",
    "    - 그 노드를 큐에 넣어주기"
   ]
  },
  {
   "cell_type": "code",
   "execution_count": 2,
   "metadata": {},
   "outputs": [
    {
     "name": "stdout",
     "output_type": "stream",
     "text": [
      "4 4 2 1\n",
      "1 2\n",
      "1 3\n",
      "2 3\n",
      "2 4\n",
      "4\n"
     ]
    }
   ],
   "source": [
    "from collections import deque\n",
    "\n",
    "n, m, k, x = map(int, input().split())\n",
    "\n",
    "graph = [[]for _ in range(n+1)] # 노드\n",
    "\n",
    "# 모든 도로 정보 입력 받기\n",
    "for _ in range(m): # 간선\n",
    "    a, b= map(int, input().split())\n",
    "    graph[a].append(b)\n",
    "    \n",
    "# 모든 도시에 대한 초기화\n",
    "distance = [-1]* (n+1)\n",
    "distance[x] = 0 # 출발 도시까지의 거리는 0으로 설정\n",
    "\n",
    "# 너비 우선 탐색 수행\n",
    "q= deque([x])\n",
    "while q:\n",
    "    now = q.popleft()\n",
    "    # 현재도시에서 이동할 수 있는 모든 도시를 확인\n",
    "    for next_node in graph[now]:\n",
    "        if distance[next_node] == -1:\n",
    "            # 최단거리 갱신\n",
    "            distance[next_node] = distance[now] +1\n",
    "            q.append(next_node)\n",
    "# c최단거리가 k인 모든 도시의 번호를 오름차순\n",
    "check = False\n",
    "for i in range(1, n+1):\n",
    "    if distance[i] == k:\n",
    "        print(i)\n",
    "        check = True\n",
    "\n",
    "if check ==False:\n",
    "    print(-1)\n",
    " "
   ]
  },
  {
   "cell_type": "code",
   "execution_count": null,
   "metadata": {},
   "outputs": [],
   "source": [
    "# 마지막 부분 다시해보기\n",
    "for i in range(1, n+1):\n",
    "    if distance[i] == k:\n",
    "        print(i)\n",
    "if k not in distance:\n",
    "    print(-1)"
   ]
  }
 ],
 "metadata": {
  "kernelspec": {
   "display_name": "Python 3",
   "language": "python",
   "name": "python3"
  },
  "language_info": {
   "codemirror_mode": {
    "name": "ipython",
    "version": 3
   },
   "file_extension": ".py",
   "mimetype": "text/x-python",
   "name": "python",
   "nbconvert_exporter": "python",
   "pygments_lexer": "ipython3",
   "version": "3.7.6"
  }
 },
 "nbformat": 4,
 "nbformat_minor": 4
}
