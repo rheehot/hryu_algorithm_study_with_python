{
 "cells": [
  {
   "cell_type": "markdown",
   "metadata": {},
   "source": [
    "\n",
    "### 폴이\n",
    "\n",
    " \n",
    "주어진 조건을 순서대로 구현하면 된다. 괄호를 해결한 방법 2가지를 설명하자면,\n",
    "해결 1. 조건 2 : u, v로 분리\n",
    "u : 균형잡힌 괄호 문자열 = '('와 ')' 개수 동일  , v : v = w - u 로 볼 수 있다\n",
    "u를 해결하기 위해서 '(' : +1,  ')': -1 를 해서 0이되면 두 문자의 개수가 동일함을 알 수 있다\n",
    "\n",
    "해결 2. 조건 3 : 올바른 괄호 문자열 찾기\n",
    "스택으로도 해결할 수 있지만, 해결 1과 마찬가지로, +1, -1을 이용해서 해결할 수 있다.\n",
    "예를 들어, \n",
    "~~~\n",
    ")( ->  (-1) + 1 =0 이지만, 맨앞은 무조건 ( 이나와야 하므로 '올바른 괄호 문자열' 만족 못한다\n",
    "\n",
    "())( ->  1 + (-1) + (-1) + 1 = 0 이지만 , 세번째 괄호 때문에 '올바른 괄호 문자열' 만족 못한다\n",
    "\n",
    "(()) -> 1 + 1 + (-1) + (-1) = 0 이고, '올바른 괄호 문자열' 만족 한다.\n",
    "\n",
    "첫번째에서는 첫번째 문자가, 두번쨰에서는 세번째 문자에서 누적된 합이 -1로 음수가 되는데,\n",
    "누적 합이 음수가 되면 '올바른 괄호 문자열' 만족 못하는 것을 확인 할 수 있다.  \n",
    "\n",
    "세번째에서는 차례대로 더했을때 누적합이 음수가 되는 경우가 없으므로 조건을 만족한다.\n",
    "~~~\n",
    "따라서, 차례대로 더했을때 누적 합이 음수가 되는 경우, '올바른 괄호 문자열'이 아니다. \n"
   ]
  },
  {
   "cell_type": "code",
   "execution_count": 34,
   "metadata": {},
   "outputs": [
    {
     "data": {
      "text/plain": [
       "'()(())()'"
      ]
     },
     "execution_count": 34,
     "metadata": {},
     "output_type": "execute_result"
    }
   ],
   "source": [
    "# 전체 실행 순서\n",
    "def func(p):\n",
    "    if not p:\n",
    "        return p\n",
    "    \n",
    "    u,v = \"\", \"\"\n",
    "    cnt = 0\n",
    "    \n",
    "    # 해결 1 설명\n",
    "    # 균형잡힌 괄호 문자열로 분리 ( '('와 ')' 개수 동일한지 확인 )\n",
    "    for i in range(len(p)):\n",
    "        if p[i] =='(':\n",
    "            cnt += 1\n",
    "        else:\n",
    "            cnt -= 1\n",
    "        if cnt == 0:\n",
    "            u=p[0:i+1]\n",
    "            v=p[i+1:]\n",
    "            break\n",
    "            \n",
    "    if correct_parenthesis(u):\n",
    "        u += func(v)\n",
    "        return u\n",
    "    else:\n",
    "        x = \"(\" + func(v) +\")\"\n",
    "        u = u[1:len(u)-1]\n",
    "        u = reverse_parenthesis(u)\n",
    "        x += u\n",
    "        return x\n",
    "# 해결 2 설명    \n",
    "# 조건 3 : 올바른 괄호 문자열 찾는 함수\n",
    "def correct_parenthesis(u):\n",
    "    u_cnt =0\n",
    "    for i in range(len(u)):\n",
    "        if u[i] == '(':\n",
    "            u_cnt += 1\n",
    "        else:\n",
    "            u_cnt -= 1\n",
    "        if u_cnt<0:\n",
    "            return False\n",
    "    if u_cnt == 0:\n",
    "            return True\n",
    "\n",
    "# 조건 4-4: 문자열 괄호 방향 뒤집는 함수\n",
    "def reverse_parenthesis(u):\n",
    "    reverse_u=\"\"\n",
    "    for i in u:\n",
    "        if i ==\"(\":\n",
    "            reverse_u+= ')'\n",
    "        else:\n",
    "            reverse_u+= '('\n",
    "    return reverse_u\n",
    "\n",
    "# 메인문    \n",
    "def solution(p):\n",
    "    answer =''\n",
    "    if not p:\n",
    "        return p\n",
    "    answer = func(p)\n",
    "    return answer\n",
    "\n",
    "solution(\"(()())()\")\n",
    "solution(\"()))((()\")\n",
    "# solution(\"\")"
   ]
  }
 ],
 "metadata": {
  "kernelspec": {
   "display_name": "Python 3",
   "language": "python",
   "name": "python3"
  },
  "language_info": {
   "codemirror_mode": {
    "name": "ipython",
    "version": 3
   },
   "file_extension": ".py",
   "mimetype": "text/x-python",
   "name": "python",
   "nbconvert_exporter": "python",
   "pygments_lexer": "ipython3",
   "version": "3.7.6"
  }
 },
 "nbformat": 4,
 "nbformat_minor": 4
}
