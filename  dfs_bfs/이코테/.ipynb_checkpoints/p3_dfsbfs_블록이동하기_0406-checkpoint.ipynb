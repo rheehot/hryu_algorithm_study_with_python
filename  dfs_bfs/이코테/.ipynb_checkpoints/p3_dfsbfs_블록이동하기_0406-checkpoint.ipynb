{
 "cells": [
  {
   "cell_type": "markdown",
   "metadata": {},
   "source": [
    "### 포인트\n",
    "- 이문제는 bfs => 최소시간, 최단경로를 구하는 문제는 bfs를 적용한다\n",
    "- 두칸의 직사각형이 이동할 수 있는 방향\n",
    "    - 가로로 놓인 경우 : 위로 또는 아래로 회전(칸 각각) 4가지 + 상하좌우 4가지\n",
    "    - 세로로 놓인 경우 : 왼쪽 또는 오른쪽으로 회전(칸 각각)  4가지 + 상하좌우 4가지\n",
    "- 다음 칸으로 이동할때 {}로 감싸서 삽입했는데, 이유는 q에 삽입 => ({(2, 1), (2, 2)}, 1) 괄호가 많아서 햇갈림 방지\n",
    "\n",
    "### 문제 풀이\n",
    "1. 새로운 보드를 만들어서  맵의 외곽에 벽을 두는 형태로 변형\n",
    "\n",
    "   인덱싱을 1부터 시작할 수 있게 선언\n",
    "\n",
    "2. 큐(q), 방문리스트(visited) 생성 및 초기화, 시작위치(pos)선언\n",
    "\n",
    "3. q에 (pos, 0) 삽입 -> (현재위치, 비용) , pos(현재위치)를 방문 처리 \n",
    "\n",
    "4. bfs 실행(큐가 빌때까지)\n",
    "\n",
    "   - q에서 leftpop한 값을 pos와 cost 변수에 삽입\n",
    "\n",
    "   - 만약, pos가 (n,n)에 도달했다면 cost(최단거리) 반환\n",
    "   - get_next_pos(pos, nex_board) 호출됨 -> 5번 이동\n",
    "\n",
    "5. get_next_pos(pos, board)를 통해 다음 노드 탐색 \n",
    "\n",
    "   - next_pos 라는 이동가능한 위치들에 대한 반환 결과 담을 변수 생성 및 초기화\n",
    "   - pos는 현재 set인데 리스트로 변환\n",
    "   -  pos1_x, pos1_y, pos2_x, pos2_y 위치에 해당하는 값 지정해주기\n",
    "   - 상하좌우 이동 dx, dy 생성\n",
    "   - 상하좌우에 대해 이동(4가지 방향)\n",
    "     - pos1_n_x, pos1_n_y, pos2_n_x, pos2_n_y : 현재 위치에서 이동한 위치\n",
    "     - 이동하고자 하는 위치 두 칸이 모두 비어있다면\n",
    "       - next_pos에 이동하고자 하는 위치 삽입({}로 감싸서)\n",
    "   - 회전 1 : 로봇이 가로인 경우\n",
    "     - 위로 또는 아래로 회전 \n",
    "       - 위 또는 아래 두칸이 비어있다면, pos1과 pos2 기준으로 각각 회전 + 삽입\n",
    "   - 회전 2 : 로봇이 세로인 경우\n",
    "     - 왼쪽 또는 오른쪽 회전\n",
    "       - 왼 또는 오른 두칸이 비어있다면,  pos1과 pos2 기준으로 각각 회전 + 삽입\n",
    "\n",
    "   - return next_pos\n",
    "\n",
    "6. 4번 마지막에 이어서 ..\n",
    "\n",
    "   - for next_pos in get_next_pos(pos, new_board):  다음 위치를 하나씩 꺼내와서\n",
    "     - 방문하지 않았다면, q에 (next_pos, cost+1) 삽입하고\n",
    "     - next_pos를 방문처리 해준다\n",
    "\n",
    "~~~\n",
    "board\tresult\n",
    "[[0, 0, 0, 1, 1],[0, 0, 0, 1, 0],[0, 1, 0, 1, 1],[1, 1, 0, 0, 1],[0, 0, 0, 0, 0]]\t7\n",
    "~~~\n"
   ]
  },
  {
   "cell_type": "code",
   "execution_count": 4,
   "metadata": {},
   "outputs": [
    {
     "name": "stdout",
     "output_type": "stream",
     "text": [
      "[(1, 2), (3, 4)]\n"
     ]
    },
    {
     "data": {
      "text/plain": [
       "2"
      ]
     },
     "execution_count": 4,
     "metadata": {},
     "output_type": "execute_result"
    }
   ],
   "source": [
    "pos = ((1,2), (3,4))\n",
    "print(list(pos))\n",
    "pos[0][1]"
   ]
  },
  {
   "cell_type": "code",
   "execution_count": 14,
   "metadata": {},
   "outputs": [
    {
     "name": "stdout",
     "output_type": "stream",
     "text": [
      "deque([({(2, 1), (2, 2)}, 1), ({(1, 2), (1, 3)}, 1), ({(1, 1), (2, 1)}, 1), ({(1, 2), (2, 2)}, 1)])\n",
      "deque([({(1, 2), (1, 3)}, 1), ({(1, 1), (2, 1)}, 1), ({(1, 2), (2, 2)}, 1), ({(1, 2), (1, 1)}, 2), ({(2, 3), (2, 2)}, 2)])\n",
      "deque([({(1, 1), (2, 1)}, 1), ({(1, 2), (2, 2)}, 1), ({(1, 2), (1, 1)}, 2), ({(2, 3), (2, 2)}, 2), ({(1, 3), (2, 3)}, 2)])\n",
      "deque([({(1, 2), (2, 2)}, 1), ({(1, 2), (1, 1)}, 2), ({(2, 3), (2, 2)}, 2), ({(1, 3), (2, 3)}, 2), ({(3, 1), (2, 1)}, 2)])\n",
      "deque([({(1, 2), (1, 1)}, 2), ({(2, 3), (2, 2)}, 2), ({(1, 3), (2, 3)}, 2), ({(3, 1), (2, 1)}, 2)])\n",
      "deque([({(2, 3), (2, 2)}, 2), ({(1, 3), (2, 3)}, 2), ({(3, 1), (2, 1)}, 2)])\n",
      "deque([({(1, 3), (2, 3)}, 2), ({(3, 1), (2, 1)}, 2)])\n",
      "deque([({(3, 1), (2, 1)}, 2), ({(2, 3), (3, 3)}, 3)])\n",
      "deque([({(2, 3), (3, 3)}, 3)])\n",
      "deque([({(3, 3), (4, 3)}, 4)])\n",
      "deque([({(4, 3), (5, 3)}, 5)])\n",
      "deque([({(5, 4), (4, 4)}, 6), ({(4, 4), (4, 3)}, 6), ({(5, 4), (5, 3)}, 6)])\n",
      "deque([({(4, 4), (4, 3)}, 6), ({(5, 4), (5, 3)}, 6)])\n",
      "deque([({(5, 4), (5, 3)}, 6)])\n",
      "deque([({(5, 2), (5, 3)}, 7), ({(5, 4), (5, 5)}, 7)])\n",
      "deque([({(5, 4), (5, 5)}, 7), ({(5, 1), (5, 2)}, 8)])\n"
     ]
    },
    {
     "data": {
      "text/plain": [
       "7"
      ]
     },
     "execution_count": 14,
     "metadata": {},
     "output_type": "execute_result"
    }
   ],
   "source": [
    "from collections import deque\n",
    "        \n",
    "def solution(board):\n",
    "    # 맵의 외곽에 벽을 두는 형태로 맵 변형\n",
    "    n = len(board)\n",
    "    new_board = [[1]*(n+2) for _ in range(n+2)]\n",
    "    for i in range(n):\n",
    "        for j in range(n):\n",
    "            new_board[i+1][j+1] = board[i][j]\n",
    "            \n",
    "    q= deque()\n",
    "    visited = []\n",
    "    pos = ((1, 1), (1, 2)) # 시작 위치\n",
    "    q.append((pos, 0)) # 큐에 삽입한 뒤에\n",
    "    visited.append(pos) # 방문 처리\n",
    "    \n",
    "    # bfs\n",
    "    while q:\n",
    "        pos, cost = q.popleft()\n",
    "        # (n,n) 위치에 로봇이 도달했다면, 최단거리이므로 반환\n",
    "        if (n,n) in pos:\n",
    "            return cost\n",
    "        for next_pos in get_next_pos(pos, new_board):\n",
    "            if next_pos not in visited:\n",
    "                q.append((next_pos, cost+1))\n",
    "                visited.append(next_pos)\n",
    "#         print(q)\n",
    "    return 0\n",
    "\n",
    "def get_next_pos(pos, board):\n",
    "    next_pos = [] # 반환 결과 (이동가능한 위치들)\n",
    "    pos = list(pos) # 현재 위치 정보 리스트로 변환 (집합 -> 리스트\n",
    "    pos1_x, pos1_y, pos2_x, pos2_y = pos[0][0], pos[0][1], pos[1][0], pos[1][1]\n",
    "    # (상 하 좌 우)로 이동하는 경우에 대해서 처리\n",
    "    dx = [-1, 1, 0, 0]\n",
    "    dy = [0, 0, -1, 1]\n",
    "    for i in range(4):\n",
    "        pos1_n_x, pos1_n_y, pos2_n_x, pos2_n_y = pos1_x + dx[i], pos1_y +dy[i], pos2_x +dx[i], pos2_y + dy[i]\n",
    "        # 이동하고자 하는 두 칸이 모두 비어있다면\n",
    "        if board[pos1_n_x][pos1_n_y] == 0 and board[pos2_n_x][pos2_n_y] == 0:\n",
    "            next_pos.append({(pos1_n_x, pos1_n_y), (pos2_n_x, pos2_n_y)})\n",
    "    # 현재 로봇이 가로로 놓여있는 경우\n",
    "    if pos1_x == pos2_x:\n",
    "        for i in [-1, 1]: # 위로 회전하거나 아래로 회전\n",
    "            if board[pos1_x+i][pos1_y] == 0 and board[pos2_x + i][pos2_y] ==0: # 위 또는 아래 두칸 모두 비어있다면\n",
    "                next_pos.append({(pos1_x, pos1_y),(pos1_x + i, pos1_y)}) #pos1 기준\n",
    "                next_pos.append({(pos2_x, pos2_y),(pos2_x + i, pos2_y)}) #pos2 기준\n",
    "    # 현재 로봇이 세로로 놓여있는 경우\n",
    "    elif pos1_y == pos2_y :\n",
    "         for i in [-1, 1]: # 왼 또는 오른쪽으로 회전\n",
    "            if board[pos1_x][pos1_y+i] ==0 and board[pos2_x][pos2_y+i]==0:\n",
    "                next_pos.append({(pos1_x, pos1_y),(pos1_x, pos1_y + i)}) #pos1 기준\n",
    "                next_pos.append({(pos2_x, pos2_y),(pos2_x, pos2_y + i)}) #pos2 기준\n",
    "    # 현재 위치에서 이동할 수 있는 위치 반환\n",
    "    return next_pos\n",
    "\n",
    "\n",
    "solution([[0, 0, 0, 1, 1],[0, 0, 0, 1, 0],[0, 1, 0, 1, 1],[1, 1, 0, 0, 1],[0, 0, 0, 0, 0]])"
   ]
  }
 ],
 "metadata": {
  "kernelspec": {
   "display_name": "Python 3",
   "language": "python",
   "name": "python3"
  },
  "language_info": {
   "codemirror_mode": {
    "name": "ipython",
    "version": 3
   },
   "file_extension": ".py",
   "mimetype": "text/x-python",
   "name": "python",
   "nbconvert_exporter": "python",
   "pygments_lexer": "ipython3",
   "version": "3.7.6"
  }
 },
 "nbformat": 4,
 "nbformat_minor": 4
}
