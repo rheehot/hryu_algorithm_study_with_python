{
 "cells": [
  {
   "cell_type": "code",
   "execution_count": 5,
   "metadata": {},
   "outputs": [
    {
     "data": {
      "text/plain": [
       "5"
      ]
     },
     "execution_count": 5,
     "metadata": {},
     "output_type": "execute_result"
    }
   ],
   "source": [
    "#  https://train-validation-test.tistory.com/entry/Programmers-level-2-%ED%83%80%EA%B2%9F-%EB%84%98%EB%B2%84-python\n",
    "\n",
    "def solution(numbers, target):\n",
    "    \n",
    "    answer= [0]\n",
    "    # 큰 for문 하나 끝날때마다 temp 초기화\n",
    "    for i in range(len(numbers)):\n",
    "        temp_list = []\n",
    "        # answer= [0, 0-a, 0+a, 0-a-b, 0-a+b, 0+a-b, 0+a+b, ... ]\n",
    "        for j in range(len(answer)):\n",
    "            temp_list.append(answer[j] - numbers[i])\n",
    "            temp_list.append(answer[j] + numbers[i])\n",
    "#             print(temp_list)\n",
    "        answer = temp_list \n",
    "#         print('dd')\n",
    "    return answer.count(target)\n",
    "\n",
    "solution([1,1,1,1,1], 3)"
   ]
  },
  {
   "cell_type": "code",
   "execution_count": null,
   "metadata": {},
   "outputs": [],
   "source": [
    "# 완전탐색 이용해서 해결\n",
    "from itertools import product\n",
    "def solution(numbers, target):\n",
    "    l = [(x, -x) for x in numbers]\n",
    "    # print(l) # \t[(1, -1), (1, -1), (1, -1), (1, -1), (1, -1)]\n",
    "    s = list(map(sum, product(*l)))\n",
    "    # l의 곱집합 구해서(각 튜플에서 한개씩 원소 꺼내), sum구한다\n",
    "    # s는 2^5 = 32개 나올것\n",
    "    # print(s)\n",
    "    return s.count(target) # 값이 target과 동일한거 카운트"
   ]
  },
  {
   "cell_type": "code",
   "execution_count": 6,
   "metadata": {},
   "outputs": [],
   "source": [
    "def solution(numbers, target):\n",
    "    n = len(numbers)\n",
    "    answer = 0\n",
    "    def dfs(idx, result):\n",
    "        if idx == n:\n",
    "            if result == target:\n",
    "                nonlocal answer\n",
    "                answer += 1\n",
    "            return\n",
    "        else:\n",
    "            dfs(idx+1, result+numbers[idx])\n",
    "            dfs(idx+1, result-numbers[idx])\n",
    "    dfs(0,0)\n",
    "    return answer"
   ]
  },
  {
   "cell_type": "code",
   "execution_count": 7,
   "metadata": {},
   "outputs": [],
   "source": [
    "# bfs"
   ]
  },
  {
   "cell_type": "code",
   "execution_count": null,
   "metadata": {},
   "outputs": [],
   "source": [
    "# dfs"
   ]
  }
 ],
 "metadata": {
  "kernelspec": {
   "display_name": "Python 3",
   "language": "python",
   "name": "python3"
  },
  "language_info": {
   "codemirror_mode": {
    "name": "ipython",
    "version": 3
   },
   "file_extension": ".py",
   "mimetype": "text/x-python",
   "name": "python",
   "nbconvert_exporter": "python",
   "pygments_lexer": "ipython3",
   "version": "3.7.6"
  }
 },
 "nbformat": 4,
 "nbformat_minor": 4
}
