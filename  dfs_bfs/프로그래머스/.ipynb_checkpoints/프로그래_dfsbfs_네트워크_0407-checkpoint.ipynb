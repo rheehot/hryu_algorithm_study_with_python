{
 "cells": [
  {
   "cell_type": "markdown",
   "metadata": {},
   "source": [
    "### dfs\n",
    "- 다음 분기로 넘어가기 전에 해당 분기 완벽 탐색\n",
    "- 미로 탐색시, 한방향으로 계속 가다가 더이상 갈 수 없게 되면, 다시 가장 가까운 갈림길로 돌아와서 이곳으로부터 다른 방향 탐색\n",
    "- 모든 노드 방문하고자 할때 사용\n",
    "- bfs 보다 느리다\n",
    "- 인접 리스트로 표현된 그래프 : O(N+E) n: 정점수, e: 간선수\n",
    "- 인접 행렬로 표현된 그래프 : O(N^2) (이차배열)\n",
    "\n",
    "#### 탐색 과정 => 방문안한 인접 노드 없을때 최상단에서 pop\n",
    "1. 탐색 시작 노드 스택에 삽입하고 방문 처리\n",
    "2. 최상단 노드에 방문하지 않은 인접 노드 있으면, 스택에 넣고 방문 처리  \n",
    "    방문하지 않은 인접 노드 없다면, 스택에서 최상단 노드 꺼내기\n",
    "3. 과정 2를 수행할 수 없을 때까지 반복\n",
    "\n",
    "### bfs \n",
    "1. 인접한 노드 먼저 탐색\n",
    "2. 시작 정점으로부터 가까운 정점 먼저 방문, 멀리 떨어져 있는 정점 나중에 방문하는 순회 방법\n",
    "3. 두 노드 사이의 최단 경로 찾을때 사용\n",
    "4. 재귀 x\n",
    "\n",
    "#### 탐색 과정 => 노드를 leftpop하고 그 pop한 노드의 인접노드 중 방문 안했다면 삽입& 방문처리\n",
    "1. 탐색 시작 노드 큐에 삽입하고 방문 처리\n",
    "2. 큐에서 노드 꺼낸 뒤, 해당 노드의 인접 노드 중, 방문안한 노드 있다면 노드 모두 큐에 삽입, 방문 처리\n",
    "3. 과정 2 반복\n",
    "\n",
    "\n"
   ]
  },
  {
   "cell_type": "code",
   "execution_count": 11,
   "metadata": {},
   "outputs": [
    {
     "name": "stdout",
     "output_type": "stream",
     "text": [
      "1 2 4 3 7 6 8 5 "
     ]
    }
   ],
   "source": [
    "## dfs 예제코드 \n",
    "def dfs(graph, v, visited):\n",
    "    # 현재 노드를 방문 처리\n",
    "    visited[v] = True\n",
    "    print(v, end = ' ')\n",
    "    # 현재 노드와 연결된 다른 노드 재귀 방문\n",
    "    for i in graph[v]:\n",
    "        if not visited[i]:\n",
    "            dfs(graph, i, visited)\n",
    "graph = [\n",
    "    [],\n",
    "    [2, 3, 8],\n",
    "    [1, 4, 5],\n",
    "    [1, 7],\n",
    "    [3, 5],\n",
    "    [3, 4],\n",
    "    [7],\n",
    "    [2, 6, 8],\n",
    "    [1, 7]\n",
    "]\n",
    "visited = [False]*9\n",
    "dfs(graph, 1, visited)"
   ]
  },
  {
   "cell_type": "code",
   "execution_count": 1,
   "metadata": {},
   "outputs": [],
   "source": [
    "# https://programmers.co.kr/learn/courses/30/lessons/43162/solution_groups?language=python3\n",
    "\n",
    "### 포인트\n",
    "- dfs => 해당 분기 끝날때까지 탐색하기 때문\n",
    "- 해당 분기 끝나면, 탐색 횟수를 하나 더 늘린다\n",
    "- 모든 노드 탐색 끝나면, 탐색 횟수가 네트워크 개수\n"
   ]
  },
  {
   "cell_type": "code",
   "execution_count": 1,
   "metadata": {},
   "outputs": [
    {
     "name": "stdout",
     "output_type": "stream",
     "text": [
      "2 2\n"
     ]
    }
   ],
   "source": [
    "# dfs \n",
    "def dfs(computers, v, visited):\n",
    "    visited[v] = 1 # 1. 방문 처리\n",
    "    for i in range(len(computers)): # 인접 노드 확인하기\n",
    "        if computers[v][i] == 1 and visited[i] == 0: # 인접노드 존재하고, 방문 안했다면\n",
    "            dfs(computers,i, visited) # 탐색\n",
    "            \n",
    "def solution(n, computers):\n",
    "    answer = 0\n",
    "    visited = [0]*n\n",
    "    \n",
    "    for v in range(n):\n",
    "        # 방문 안했다면 탐색 시작\n",
    "        if visited[v]==0:\n",
    "            dfs(computers, v, visited)\n",
    "            answer += 1\n",
    "    return answer\n",
    "\n",
    "print(solution(3,[[1, 1, 0], [1, 1, 0], [0, 0, 1]]),2)"
   ]
  },
  {
   "cell_type": "code",
   "execution_count": 3,
   "metadata": {},
   "outputs": [
    {
     "name": "stdout",
     "output_type": "stream",
     "text": [
      "1 2 3 8 7 4 5 6 "
     ]
    }
   ],
   "source": [
    "# bfs 예제\n",
    "from collections import deque\n",
    "\n",
    "def bfs(graph, start, visited):\n",
    "    queue = deque([start])\n",
    "    visited[start] = True\n",
    "    \n",
    "    while queue:\n",
    "        v = queue.popleft()\n",
    "        print(v, end=' ')\n",
    "        \n",
    "        for i in graph[v]:\n",
    "            if not visited[i]:\n",
    "                queue.append(i)\n",
    "                visited[i]= True\n",
    "    \n",
    "graph = [\n",
    "  [],\n",
    "  [2, 3, 8],\n",
    "  [1, 7],\n",
    "  [1, 4, 5],\n",
    "  [3, 5],\n",
    "  [3, 4],\n",
    "  [7],\n",
    "  [2, 6, 8],\n",
    "  [1, 7]\n",
    "]  # 1 2 3 8 7 4 5 6\n",
    "\n",
    "visited = [False] * 9\n",
    "bfs(graph, 1, visited)"
   ]
  },
  {
   "cell_type": "code",
   "execution_count": null,
   "metadata": {},
   "outputs": [],
   "source": []
  }
 ],
 "metadata": {
  "kernelspec": {
   "display_name": "Python 3",
   "language": "python",
   "name": "python3"
  },
  "language_info": {
   "codemirror_mode": {
    "name": "ipython",
    "version": 3
   },
   "file_extension": ".py",
   "mimetype": "text/x-python",
   "name": "python",
   "nbconvert_exporter": "python",
   "pygments_lexer": "ipython3",
   "version": "3.7.6"
  }
 },
 "nbformat": 4,
 "nbformat_minor": 4
}
