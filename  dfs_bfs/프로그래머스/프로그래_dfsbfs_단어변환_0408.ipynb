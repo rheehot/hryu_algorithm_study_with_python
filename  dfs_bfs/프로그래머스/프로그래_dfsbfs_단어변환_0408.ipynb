{
 "cells": [
  {
   "cell_type": "markdown",
   "metadata": {},
   "source": [
    "### 정리\n",
    "dfs \n",
    "다음 분기 넘어가기 전에 해당 분기 완전 탐색  \n",
    "\n",
    "bfs \n",
    "인접 노드 먼저 방문하고, 멀리 있는 노드 나중에 방문  \n",
    "두 노드 사이의 최단 경로 찾을때 사용  \n",
    "\n",
    "### 문제 점검\n",
    "1. 정확하지 않은 풀이 : dfs \n",
    "이 코드는 target까지 도달 가능한지 탐색하고, 그 횟수를 반환함\n",
    "하지만 문제 조건에서는 변환가능한 최소 횟수를 반환해야 함  \n",
    "=> 모든 노드 탐색할 필요가 있고, 탐색 횟수 중 최소 횟수를 반환해 주어야 함   \n",
    "\n",
    "2. 테스트 케이스 추가 필요   \n",
    "solution('hit', 'zzz', ['zzz', 'zyz', 'xzz', 'xyz', 'hyt', 'hyz', 'xiz', 'hiz'])\n",
    "아래 코드로는 5회가 나온다.. 답은 4회\n",
    "~~~\n",
    "#print(current, cur_list)\n",
    "#print(answer)\n",
    "\n",
    "hit ['hyt']\n",
    "hit ['hyt', 'hiz']\n",
    "hiz ['hyt', 'hyz']\n",
    "hiz ['hyt', 'hyz', 'xiz']\n",
    "xiz ['hyt', 'hyz', 'xzz']\n",
    "xiz ['hyt', 'hyz', 'xzz', 'xyz']\n",
    "xyz ['hyt', 'hyz', 'xzz', 'zyz']\n",
    "zyz ['hyt', 'hyz', 'xzz', 'zzz']\n",
    "5\n",
    "~~~\n",
    "\n",
    "### 오류가 있으나 채점은 통과한 문제 설명\n",
    "1. 단어 길이만큼 방문리스트 0으로 초기화해서 선언\n",
    "2. cur_list : 현재 단어 리스트로, 스택이며, pop을 통해 탐색할 단어를 current에 저장\n",
    "3. 현재 단어와 words[i] 비교하는 방법은 zip을 이용해 같은 인덱스끼리 잘라 리스트로 반환해서 비교\n",
    "\n",
    "### 다른 풀이다른 풀이"
   ]
  },
  {
   "cell_type": "code",
   "execution_count": 20,
   "metadata": {},
   "outputs": [
    {
     "name": "stdout",
     "output_type": "stream",
     "text": [
      "5\n"
     ]
    }
   ],
   "source": [
    "def begin_to_target(current, word):\n",
    "    cnt = 0\n",
    "    for c, w in zip(current, word):\n",
    "        if c==w:\n",
    "            cnt += 1\n",
    "    if cnt == len(current)-1:\n",
    "        return True\n",
    "    else:\n",
    "        return False\n",
    "    \n",
    "def solution(begin, target, words):\n",
    "    answer = 0\n",
    "    visited = [0]* len(words)\n",
    "    cur_list =[]\n",
    "    cur_list.append(begin)\n",
    "    \n",
    "    if target not in words:\n",
    "        return 0\n",
    "    \n",
    "    while cur_list :\n",
    "        current = cur_list.pop()\n",
    "        if current == target:\n",
    "            return answer\n",
    "        for i in range(len(words)):\n",
    "            if not visited[i]:\n",
    "                if begin_to_target(current, words[i]):\n",
    "                    visited[i] = 1\n",
    "                    cur_list.append(words[i])\n",
    "#                     print(current, cur_list)\n",
    "        answer += 1\n",
    "# solution(\"hit\", \"cog\", [\"hot\", \"dot\", \"dog\", \"lot\", \"log\", \"cog\"])   \n",
    "print(solution('hit', 'zzz', ['zzz', 'zyz', 'xzz', 'xyz', 'hyt', 'hyz', 'xiz', 'hiz']))\n",
    "# solution('aaa', 'abc', [ 'aaz','aab', 'abb', 'abc'])"
   ]
  },
  {
   "cell_type": "code",
   "execution_count": 24,
   "metadata": {},
   "outputs": [
    {
     "name": "stdout",
     "output_type": "stream",
     "text": [
      "3\n",
      "4\n"
     ]
    }
   ],
   "source": [
    "def solution(begin, target, words):\n",
    "    # 1. 현재 노드에서 갈 수 있는 다른 경로 구하는 함수\n",
    "    def get_path(current):\n",
    "        arr = []\n",
    "        for word in words:\n",
    "            count = 0\n",
    "            for i in range(len(current)):\n",
    "                if current[i] == word[i]: count += 1\n",
    "            if count == len(current) - 1:\n",
    "                arr.append(word)\n",
    "        return arr\n",
    "\n",
    "    def bfs():\n",
    "        answer = []\n",
    "        queue = [(begin, [begin])]\n",
    "\n",
    "        # 2. 첫 단어를 시작으로 BFS로 인접한 노드를 방문합니다.\n",
    "        while queue:\n",
    "            current, visited = queue.pop(0)\n",
    "\n",
    "            # 3. 현재 단어와 target이 같으면 정답에 도달 !\n",
    "            if current == target:\n",
    "                answer = visited\n",
    "                break\n",
    "\n",
    "            # 인접한 노드를 방문\n",
    "            paths = get_path(current);\n",
    "            for node in paths:\n",
    "                if node not in visited:\n",
    "                    queue.append((node, visited + [node]))\n",
    "        return len(answer) - 1\n",
    "\n",
    "    # target이 words에 없으면 답을 못 구하니 0 반환\n",
    "    if target not in words: return 0\n",
    "\n",
    "    answer = bfs()\n",
    "\n",
    "    return answer\n",
    "\n",
    "print(solution('aaa', 'abc', ['aaz', 'aab', 'abb', 'abc']))\n",
    "\n",
    "print(solution('hit', 'zzz', ['zzz', 'zyz', 'xzz', 'xyz', 'hyt', 'hyz', 'xiz', 'hiz']))"
   ]
  }
 ],
 "metadata": {
  "kernelspec": {
   "display_name": "Python 3",
   "language": "python",
   "name": "python3"
  },
  "language_info": {
   "codemirror_mode": {
    "name": "ipython",
    "version": 3
   },
   "file_extension": ".py",
   "mimetype": "text/x-python",
   "name": "python",
   "nbconvert_exporter": "python",
   "pygments_lexer": "ipython3",
   "version": "3.7.6"
  }
 },
 "nbformat": 4,
 "nbformat_minor": 4
}
