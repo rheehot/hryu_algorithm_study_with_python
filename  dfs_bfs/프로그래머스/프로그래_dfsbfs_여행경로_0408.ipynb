{
 "cells": [
  {
   "cell_type": "markdown",
   "metadata": {},
   "source": [
    "### 포인트\n",
    "인접리스트 생성\n",
    " https://velog.io/@younge/Python-%ED%94%84%EB%A1%9C%EA%B7%B8%EB%9E%98%EB%A8%B8%EC%8A%A4-%EC%97%AC%ED%96%89%EA%B2%BD%EB%A1%9C-DFSBFS\n",
    " \n",
    " https://wwlee94.github.io/category/algorithm/bfs-dfs/travel-route/\n",
    " \n",
    " https://jisun-rea.tistory.com/entry/python-%ED%94%84%EB%A1%9C%EA%B7%B8%EB%9E%98%EB%A8%B8%EC%8A%A4-Level3-%EC%97%AC%ED%96%89%EA%B2%BD%EB%A1%9C-DFS\n",
    " \n",
    " https://copy-driven-dev.tistory.com/entry/%ED%94%84%EB%A1%9C%EA%B7%B8%EB%9E%98%EB%A8%B8%EC%8A%A4-ProgrammersPython-%EC%97%AC%ED%96%89%EA%B2%BD%EB%A1%9C\n",
    " \n",
    " \n",
    " https://deok2kim.tistory.com/118"
   ]
  },
  {
   "cell_type": "code",
   "execution_count": null,
   "metadata": {},
   "outputs": [],
   "source": [
    "\n",
    "def solution(tickets):\n",
    "    answer = []\n",
    "    routes = {}\n",
    "    for t in routes:\n",
    "        routes[t[0]] = routes.get(t[0], []) + [t[1]]\n",
    "    \n",
    "    return answer\n"
   ]
  },
  {
   "cell_type": "code",
   "execution_count": 11,
   "metadata": {},
   "outputs": [
    {
     "data": {
      "text/plain": [
       "['ICN', 'ATL', 'ICN', 'SFO', 'ATL', 'SFO']"
      ]
     },
     "execution_count": 11,
     "metadata": {},
     "output_type": "execute_result"
    }
   ],
   "source": [
    "def solution(tickets):\n",
    "    routes = {}\n",
    "    for t in tickets:\n",
    "        routes[t[0]] = routes.get(t[0],[]) + [t[1]] \n",
    "    for r in routes:\n",
    "        routes[r].sort(reverse=True) \n",
    "    # routes : {'ICN': ['SFO', 'ATL'], 'SFO': ['ATL'], 'ATL': ['SFO', 'ICN']} , 딕셔너리\n",
    "    # 스택을 이용해서 앞선 도착지를 먼저 선택할 것이므로 내림차순  \n",
    "    stack = []\n",
    "    stack.append(\"ICN\")\n",
    "    answer = []\n",
    "\n",
    "    # 틀린 풀이 - 반례 설명\n",
    "#     while stack:\n",
    "#         top = stack[-1] # 상단 value 삭제  안하고 가져오기  \n",
    "#         if top not in routes or len(routes[top])==0:\n",
    "#             path.append(stack.pop())\n",
    "#         else:\n",
    "#             stack.append(routes[top].pop())\n",
    "#     answer = path[::-1]\n",
    "#     return answer\n",
    "\n",
    "\n",
    "\n",
    "# 풀이 1\n",
    "#     while stack:\n",
    "#         top = stack[-1] # 상단\n",
    "#         if top in routes and len(routes[top])!=0:\n",
    "#             stack.append(routes[top].pop())\n",
    "#         else:\n",
    "#             #return stack\n",
    "#             answer.append(stack.pop())\n",
    "#     answer.reverse()\n",
    "#     return answer\n",
    "\n",
    "\n",
    "    while stack:\n",
    "        top = stack[-1]\n",
    "        if top not in routes or len(routes[top]) ==0:\n",
    "            answer.append(stack.pop())\n",
    "        else:\n",
    "            stack.append(routes[top].pop())\n",
    "    answer.reverse()\n",
    "    return answer\n",
    "solution([[\"ICN\", \"SFO\"], [\"ICN\", \"ATL\"], [\"SFO\", \"ATL\"], [\"ATL\", \"ICN\"], [\"ATL\",\"SFO\"]])"
   ]
  }
 ],
 "metadata": {
  "kernelspec": {
   "display_name": "Python 3",
   "language": "python",
   "name": "python3"
  },
  "language_info": {
   "codemirror_mode": {
    "name": "ipython",
    "version": 3
   },
   "file_extension": ".py",
   "mimetype": "text/x-python",
   "name": "python",
   "nbconvert_exporter": "python",
   "pygments_lexer": "ipython3",
   "version": "3.7.6"
  }
 },
 "nbformat": 4,
 "nbformat_minor": 4
}
