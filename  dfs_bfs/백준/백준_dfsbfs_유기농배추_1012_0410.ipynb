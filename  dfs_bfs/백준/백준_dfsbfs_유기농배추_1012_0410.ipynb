{
 "cells": [
  {
   "cell_type": "code",
   "execution_count": null,
   "metadata": {},
   "outputs": [],
   "source": [
    "# 보류\n",
    "import sys\n",
    "sys.setrecursionlimit(10000)\n",
    "\n",
    "def dfs(x, y):\n",
    "    \n",
    "    dx = [1, -1, 0, 0]\n",
    "    dy = [0, 0, 1, -1]\n",
    "    \n",
    "    for i in range(4):\n",
    "        nx = x + dx[i]\n",
    "        ny = y + dy[i]\n",
    "        \n",
    "        if nx >= 0 and nx < n and ny >= 0 and ny <m :\n",
    "            if graph[nx][ny] == 1:\n",
    "                graph[nx][ny] = -1\n",
    "                dfs(nx, ny)\n",
    "            \n",
    "t = int(input())\n",
    "# m: 열   n: 행 \n",
    "for _ in range(t):\n",
    "    m, n, k = map(int, input().split())\n",
    "    graph = [[0]*m for _ in range(n)]\n",
    "    result = 0 \n",
    "    \n",
    "    for _ in range(k):\n",
    "        m, n = map(int, input().split())\n",
    "        graph[n][m] =1 # IndexError: list index out of range 실수 조심\n",
    "        \n",
    "    for i in range(n):\n",
    "        for j in range(m):\n",
    "            if graph[i][j] > 0:\n",
    "                dfs(i, j)\n",
    "                result += 1\n",
    "                \n",
    "                \n",
    "    print(result)"
   ]
  },
  {
   "cell_type": "code",
   "execution_count": 2,
   "metadata": {},
   "outputs": [
    {
     "name": "stdout",
     "output_type": "stream",
     "text": [
      "1\n",
      "3 3 2\n",
      "1 2\n",
      "2 2\n",
      "1\n"
     ]
    }
   ],
   "source": [
    "import sys\n",
    "sys.setrecursionlimit(10000)\n",
    "\n",
    "def dfs(x, y):\n",
    "    dx = [1, -1, 0, 0]\n",
    "    dy = [0, 0, 1, -1]\n",
    "    \n",
    "    for i in range(4): \n",
    "        nx = x + dx[i] \n",
    "        ny = y + dy[i]\n",
    "\n",
    "        if (0 <= nx < N) and (0 <= ny < M):\n",
    "            if graph[nx][ny] == 1:\n",
    "                graph[nx][ny] = -1\n",
    "                dfs(nx, ny)\n",
    "\n",
    "T = int(input())\n",
    "for _ in range(T):\n",
    "    M, N, K = map(int, input().split())\n",
    "    graph = [[0]*M for _ in range(N)]\n",
    "    cnt = 0\n",
    "    \n",
    "    for _ in range(K):\n",
    "        m, n = map(int, input().split())\n",
    "        graph[n][m] = 1 # IndexError: list index out of range 실수 조심\n",
    "    \n",
    "    for i in range(N):\n",
    "        for j in range(M):\n",
    "            if graph[i][j] > 0:\n",
    "                dfs(i, j)\n",
    "                cnt += 1\n",
    "    print(cnt)"
   ]
  },
  {
   "cell_type": "markdown",
   "metadata": {},
   "source": [
    "## 런타임 에러\n",
    "~~~\n",
    "import sys\n",
    "sys.setrecursionlimit(10000)\n",
    "~~~\n",
    "- 재귀 사용에 필수\n",
    "- 파이썬 기본 재귀 깊이 제한 1000\n",
    "- 재귀 리미트를 선언해주자"
   ]
  }
 ],
 "metadata": {
  "kernelspec": {
   "display_name": "Python 3",
   "language": "python",
   "name": "python3"
  }
 },
 "nbformat": 4,
 "nbformat_minor": 4
}
