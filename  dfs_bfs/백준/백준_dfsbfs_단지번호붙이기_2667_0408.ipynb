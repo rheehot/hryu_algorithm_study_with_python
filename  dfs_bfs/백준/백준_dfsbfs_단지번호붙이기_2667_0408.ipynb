{
 "cells": [
  {
   "cell_type": "markdown",
   "metadata": {},
   "source": [
    "### 포인트\n",
    "dfs : 다음 분기 넘어가기 전 해당 분기 완전 탐색"
   ]
  },
  {
   "cell_type": "code",
   "execution_count": 15,
   "metadata": {},
   "outputs": [
    {
     "name": "stdout",
     "output_type": "stream",
     "text": [
      "7\n",
      "0110100\n",
      "0110101\n",
      "1110101\n",
      "0000111\n",
      "0100000\n",
      "0111110\n",
      "0111000\n",
      "3\n",
      "7\n",
      "8\n",
      "9\n"
     ]
    }
   ],
   "source": [
    "n= int(input())\n",
    "graph = [list(map(int, input())) for _ in range(n)]\n",
    "#print(graph)\n",
    "\n",
    "def dfs(x, y):\n",
    "    global cnt\n",
    "    if x<=-1 or x>=n or y<= -1 or y>=n:\n",
    "        return False\n",
    "    \n",
    "    if graph[x][y] ==1:\n",
    "        cnt += 1\n",
    "        graph[x][y] = 0 # 방문 하면 더이상 못지나가\n",
    "        dfs(x-1, y)\n",
    "        dfs(x+1, y)\n",
    "        dfs(x, y-1)\n",
    "        dfs(x, y+1)\n",
    "        return True\n",
    "    return False\n",
    "\n",
    "\n",
    "cnt = 0\n",
    "num_cnt = []\n",
    "result = 0\n",
    "\n",
    "for i in range(n):\n",
    "    for j in range(n):\n",
    "        if dfs(i,j) == True:\n",
    "            result +=1\n",
    "            num_cnt.append(cnt)\n",
    "            cnt=0\n",
    "            \n",
    "num_cnt.sort()\n",
    "\n",
    "print(result)\n",
    "for i in num_cnt:\n",
    "    print(i)"
   ]
  }
 ],
 "metadata": {
  "kernelspec": {
   "display_name": "Python 3",
   "language": "python",
   "name": "python3"
  },
  "language_info": {
   "codemirror_mode": {
    "name": "ipython",
    "version": 3
   },
   "file_extension": ".py",
   "mimetype": "text/x-python",
   "name": "python",
   "nbconvert_exporter": "python",
   "pygments_lexer": "ipython3",
   "version": "3.7.6"
  }
 },
 "nbformat": 4,
 "nbformat_minor": 4
}
