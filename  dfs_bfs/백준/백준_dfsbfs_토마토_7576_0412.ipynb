{
 "cells": [
  {
   "cell_type": "code",
   "execution_count": null,
   "metadata": {},
   "outputs": [],
   "source": [
    "# bfs=> 이웃노드 모두 탐색, 최소 날짜 출력\n",
    "# 0이 있는 곳이 없어지면 탐색 종료\n",
    "# 큐에 들어갈 것 (위치)\n",
    "# https://www.acmicpc.net/board/view/22477"
   ]
  },
  {
   "cell_type": "code",
   "execution_count": 20,
   "metadata": {},
   "outputs": [
    {
     "name": "stdout",
     "output_type": "stream",
     "text": [
      "3 3\n",
      "1 1 0\n",
      "-1 -1 -1\n",
      "-1 -1 0\n",
      "1\n"
     ]
    }
   ],
   "source": [
    "# 97% 에서 틀린 풀이\n",
    "from collections import deque\n",
    "\n",
    "n,m = map(int, input().split())\n",
    "graph = [list(map(int,  input().split())) for _ in range(m)]\n",
    "visited = [[0]*n for _ in range(m)]\n",
    "queue = deque()\n",
    "dx = [-1, 1, 0, 0]\n",
    "dy = [0, 0, -1, 1]\n",
    "\n",
    "for i in range(m):\n",
    "    for j in range(n):\n",
    "        if graph[i][j] == 1:\n",
    "            queue.append([i, j])\n",
    "\n",
    "def bfs():\n",
    "    global queue\n",
    "    while queue:\n",
    "        x, y = queue.popleft()\n",
    "        for i in range(4):\n",
    "            nx = x + dx[i]\n",
    "            ny = y + dy[i]\n",
    "            if 0<=nx and nx<m and 0<=ny and ny<n and graph[nx][ny] == 0:\n",
    "                graph[nx][ny] = graph[x][y] + 1\n",
    "                queue.append([nx, ny])\n",
    "def solution():\n",
    "    answer =True\n",
    "    for i in range(m):\n",
    "        for j in range(n):\n",
    "            if graph[i][j] ==0:\n",
    "                print(-1)\n",
    "                answer = False\n",
    "                break\n",
    "        break\n",
    "        \n",
    "    if answer:\n",
    "        cnt = 0\n",
    "        for i in range(m):\n",
    "            for j in range(n):\n",
    "                cnt = max(graph[i][j], cnt)          \n",
    "        print(cnt-1)\n",
    "bfs() \n",
    "solution()"
   ]
  },
  {
   "cell_type": "code",
   "execution_count": 25,
   "metadata": {},
   "outputs": [
    {
     "name": "stdout",
     "output_type": "stream",
     "text": [
      "3 3\n",
      "1 1 0 \n",
      "-1 -1 -1\n",
      "-1 -1 0\n",
      "-1\n"
     ]
    }
   ],
   "source": [
    "from collections import deque\n",
    "\n",
    "n,m = map(int, input().split())\n",
    "graph = [list(map(int,  input().split())) for _ in range(m)]\n",
    "visited = [[0]*n for _ in range(m)]\n",
    "queue = deque()\n",
    "dx = [-1, 1, 0, 0]\n",
    "dy = [0, 0, -1, 1]\n",
    "\n",
    "def bfs():\n",
    "    global queue\n",
    "    while queue:\n",
    "        x, y = queue.popleft()\n",
    "        for i in range(4):\n",
    "            nx = x + dx[i]\n",
    "            ny = y + dy[i]\n",
    "            if 0<=nx and nx<m and 0<=ny and ny<n :\n",
    "                if graph[nx][ny] == 0 :\n",
    "                    graph[nx][ny] = graph[x][y] + 1\n",
    "                    queue.append([nx, ny])\n",
    "\n",
    "for i in range(m):\n",
    "    for j in range(n):\n",
    "        if graph[i][j] == 1:\n",
    "            queue.append([i, j])\n",
    "            \n",
    "def solution():\n",
    "    answer =True\n",
    "    for i in range(m):\n",
    "        for j in range(n):\n",
    "            if graph[i][j] ==0:\n",
    "                print(-1)\n",
    "                answer = False\n",
    "                exit()\n",
    "        \n",
    "    if answer:\n",
    "        cnt = 0\n",
    "        for i in range(m):\n",
    "            for j in range(n):\n",
    "                cnt = max(graph[i][j], cnt)          \n",
    "        print(cnt-1)\n",
    "bfs() \n",
    "solution()"
   ]
  }
 ],
 "metadata": {
  "kernelspec": {
   "display_name": "Python 3",
   "language": "python",
   "name": "python3"
  },
  "language_info": {
   "codemirror_mode": {
    "name": "ipython",
    "version": 3
   },
   "file_extension": ".py",
   "mimetype": "text/x-python",
   "name": "python",
   "nbconvert_exporter": "python",
   "pygments_lexer": "ipython3",
   "version": "3.7.6"
  }
 },
 "nbformat": 4,
 "nbformat_minor": 4
}
