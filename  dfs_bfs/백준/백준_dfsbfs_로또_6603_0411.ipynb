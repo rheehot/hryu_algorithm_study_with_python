{
 "cells": [
  {
   "cell_type": "code",
   "execution_count": 1,
   "metadata": {},
   "outputs": [
    {
     "name": "stdout",
     "output_type": "stream",
     "text": [
      "7 1 2 3 4 5 6 7\n",
      "1 2 3 4 5 6 \n",
      "1 2 3 4 5 7 \n",
      "1 2 3 4 6 7 \n",
      "1 2 3 5 6 7 \n",
      "1 2 4 5 6 7 \n",
      "1 3 4 5 6 7 \n",
      "2 3 4 5 6 7 \n",
      "\n",
      "7 1 2 3 4 5 6 7\n",
      "1 2 3 4 5 6 \n",
      "1 2 3 4 5 7 \n",
      "1 2 3 4 6 7 \n",
      "1 2 3 5 6 7 \n",
      "1 2 4 5 6 7 \n",
      "1 3 4 5 6 7 \n",
      "2 3 4 5 6 7 \n",
      "\n",
      "0\n"
     ]
    }
   ],
   "source": [
    "# dfs\n",
    "def dfs(start, depth):\n",
    "    if depth == 6:\n",
    "        for i in range(depth):\n",
    "            print(combi[i], end=' ')\n",
    "        print()\n",
    "        return \n",
    "    \n",
    "    for i in range(start, len(s)):\n",
    "        combi[depth]=  s[i]\n",
    "        dfs(i + 1, depth + 1)\n",
    "combi = [0]*13        \n",
    "while True:\n",
    "    s = list(map(int, input().split()))\n",
    "    if s[0] == 0:\n",
    "        break\n",
    "    start = s[1]\n",
    "    dfs(start, 0)\n",
    "#     print() # 출력에서 띄워줘야함"
   ]
  },
  {
   "cell_type": "code",
   "execution_count": null,
   "metadata": {},
   "outputs": [],
   "source": [
    "# 조합\n",
    "from itertools import combinations\n",
    "while True:\n",
    "    number_list = list(map(int, input().split()))\n",
    "    if number_list[0] == 0:\n",
    "        break\n",
    "    del number_list[0]\n",
    "    number_list = list(combinations(number_list, 6))\n",
    "#     print(number_list)\n",
    "    for i in number_list: # i는 조합 튜플임\n",
    "        for j in i: # 튜플에서 하나씩 꺼내기\n",
    "            print(j, end=' ')\n",
    "        print()\n",
    "    print()"
   ]
  },
  {
   "cell_type": "code",
   "execution_count": null,
   "metadata": {},
   "outputs": [
    {
     "name": "stdout",
     "output_type": "stream",
     "text": [
      "7 1 2 3 4 5 6 7\n",
      "1 2 3 4 5 6 \n",
      "1 2 3 4 5 7 \n",
      "1 2 3 4 6 7 \n",
      "1 2 3 5 6 7 \n",
      "1 2 4 5 6 7 \n",
      "1 3 4 5 6 7 \n",
      "2 3 4 5 6 7 \n",
      "\n"
     ]
    }
   ],
   "source": [
    "from itertools import combinations\n",
    "number_list = list(map(int, input().split()))\n",
    "\n",
    "while True: # 엡력 테케가 정해져 있지 않고, 0을 입력하면 탈출\n",
    "    try:\n",
    "        number_list = sorted(number_list[1:])\n",
    "        for numbers in list(combinations(number_list, 6)): # 조합 함수 사용\n",
    "            for num in numbers:\n",
    "                print(num, end=' ') \n",
    "            print() #a\n",
    "        print() #b\n",
    "\n",
    "        number_list = list(map(int, input().split()))\n",
    "        \n",
    "    except EOFError:\n",
    "        break"
   ]
  }
 ],
 "metadata": {
  "kernelspec": {
   "display_name": "Python 3",
   "language": "python",
   "name": "python3"
  },
  "language_info": {
   "codemirror_mode": {
    "name": "ipython",
    "version": 3
   },
   "file_extension": ".py",
   "mimetype": "text/x-python",
   "name": "python",
   "nbconvert_exporter": "python",
   "pygments_lexer": "ipython3",
   "version": "3.7.6"
  }
 },
 "nbformat": 4,
 "nbformat_minor": 4
}
