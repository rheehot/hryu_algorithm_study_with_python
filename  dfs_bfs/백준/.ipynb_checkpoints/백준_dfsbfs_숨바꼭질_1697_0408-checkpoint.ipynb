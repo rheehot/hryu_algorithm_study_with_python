{
 "cells": [
  {
   "cell_type": "code",
   "execution_count": null,
   "metadata": {},
   "outputs": [],
   "source": [
    "- 그냥 구현 때리면 , 시간복잡도 오질듯\n",
    "- bfs 로 구현하는데 분기가 너무 커져\n",
    "- \n",
    "def solution(numbers, target):\n",
    "    # 루트노드에 0 생성\n",
    "    answer= [0]\n",
    "    for i in range(len(numbers)):\n",
    "        temp_node = []\n",
    "        for j in range(len(answer)):\n",
    "            temp_node.append(answer[j] - numbers[i])\n",
    "            temp_node.append(answer[j] + numbers[i])\n",
    "        answer = temp_node\n",
    "        #print(answer)\n",
    "    return answer.count(target) \n",
    "# 5 17 -> 4"
   ]
  },
  {
   "cell_type": "code",
   "execution_count": 3,
   "metadata": {},
   "outputs": [
    {
     "name": "stdout",
     "output_type": "stream",
     "text": [
      "5 17\n"
     ]
    },
    {
     "ename": "SyntaxError",
     "evalue": "'return' outside function (<ipython-input-3-98ad0f5b88c6>, line 14)",
     "output_type": "error",
     "traceback": [
      "\u001b[1;36m  File \u001b[1;32m\"<ipython-input-3-98ad0f5b88c6>\"\u001b[1;36m, line \u001b[1;32m14\u001b[0m\n\u001b[1;33m    return answer\u001b[0m\n\u001b[1;37m    ^\u001b[0m\n\u001b[1;31mSyntaxError\u001b[0m\u001b[1;31m:\u001b[0m 'return' outside function\n"
     ]
    }
   ],
   "source": [
    "from collections import deque\n",
    "\n",
    "max = 100001\n",
    "n,k = map(int, input().split())\n",
    "graph = [0]*max\n",
    "\n",
    "queue = deque()\n",
    "queue.append(n)\n",
    "while queue:\n",
    "    v = queue.popleft()\n",
    "    if v == k:\n",
    "        answer = graph[v]\n",
    "        break\n",
    "        \n",
    "    for next_node in (v-1, v+1, v*2):\n",
    "        if 0 < next_node < max and graph[next_node]==0:\n",
    "            graph[next_node] = graph[v] + 1\n",
    "            queue.append(next_node)\n",
    "print(answer)        \n",
    "\n"
   ]
  },
  {
   "cell_type": "code",
   "execution_count": null,
   "metadata": {},
   "outputs": [],
   "source": [
    "SyntaxError: 'return' outside function 오류 정리"
   ]
  }
 ],
 "metadata": {
  "kernelspec": {
   "display_name": "Python 3",
   "language": "python",
   "name": "python3"
  },
  "language_info": {
   "codemirror_mode": {
    "name": "ipython",
    "version": 3
   },
   "file_extension": ".py",
   "mimetype": "text/x-python",
   "name": "python",
   "nbconvert_exporter": "python",
   "pygments_lexer": "ipython3",
   "version": "3.7.6"
  }
 },
 "nbformat": 4,
 "nbformat_minor": 4
}
