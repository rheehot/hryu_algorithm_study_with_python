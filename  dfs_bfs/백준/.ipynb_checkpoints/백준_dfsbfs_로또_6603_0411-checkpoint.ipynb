{
 "cells": [
  {
   "cell_type": "code",
   "execution_count": null,
   "metadata": {},
   "outputs": [],
   "source": [
    "# dfs\n",
    "def dfs(start, depth):\n",
    "    if depth == 6:\n",
    "        for i in range(depth):\n",
    "            print(combi[i], end=' ')\n",
    "        print()\n",
    "        return \n",
    "    \n",
    "    for i in range(start, len(s)):\n",
    "        combi[depth]=  s[i]\n",
    "        dfs(i + 1, depth + 1)\n",
    "combi = [0]*13        \n",
    "while True:\n",
    "    s = list(map(int, input().split()))\n",
    "    if s[0] == 0:\n",
    "        break\n",
    "    start = s[1]\n",
    "    dfs(start, 0)\n",
    "    print() # 출력에서 띄워줘야함"
   ]
  },
  {
   "cell_type": "code",
   "execution_count": null,
   "metadata": {},
   "outputs": [],
   "source": [
    "# 조합\n",
    "from itertools import combinations\n",
    "\n",
    "while True:\n",
    "    s = list(map(int, input().split()))\n",
    "    if s[0] == 0:\n",
    "        break\n",
    "    del s[0]\n",
    "    s = list(combinations(s, 6))\n",
    "    print(s)\n",
    "    for i in s: # i는 조합 튜플임 !!\n",
    "        #print(i)  (1, 2, 3, 4, 5, 6)...\n",
    "        for j in i: # 튜플에서 하나씩 꺼내서 \n",
    "            print(j, end=' ')\n",
    "        print()\n",
    "    print()"
   ]
  },
  {
   "cell_type": "code",
   "execution_count": 2,
   "metadata": {},
   "outputs": [
    {
     "name": "stdout",
     "output_type": "stream",
     "text": [
      "7 1 2 3 4 5 6 7\n",
      "1 2 3 4 5 6 \n",
      "1 2 3 4 5 7 \n",
      "1 2 3 4 6 7 \n",
      "1 2 3 5 6 7 \n",
      "1 2 4 5 6 7 \n",
      "1 3 4 5 6 7 \n",
      "2 3 4 5 6 7 \n",
      "\n",
      "0\n"
     ]
    }
   ],
   "source": [
    "from itertools import combinations #조합을 사용하여 해결\n",
    "number_list = list(map(int, input().split()))\n",
    "\n",
    "while number_list != [0]: #인풋이 0이면 while문 탈출\n",
    "    number_list = sorted(number_list[1:]) #순서대로 나오게 정렬 먼저\n",
    "    \n",
    "    for numbers in list(combinations(number_list, 6)): #조합 함수를 사용\n",
    "        for num in numbers:\n",
    "            print(num, end=' ')\n",
    "        print()\n",
    "    print()\n",
    "    \n",
    "    number_list = list(map(int, input().split())) "
   ]
  }
 ],
 "metadata": {
  "kernelspec": {
   "display_name": "Python 3",
   "language": "python",
   "name": "python3"
  },
  "language_info": {
   "codemirror_mode": {
    "name": "ipython",
    "version": 3
   },
   "file_extension": ".py",
   "mimetype": "text/x-python",
   "name": "python",
   "nbconvert_exporter": "python",
   "pygments_lexer": "ipython3",
   "version": "3.7.6"
  }
 },
 "nbformat": 4,
 "nbformat_minor": 4
}
