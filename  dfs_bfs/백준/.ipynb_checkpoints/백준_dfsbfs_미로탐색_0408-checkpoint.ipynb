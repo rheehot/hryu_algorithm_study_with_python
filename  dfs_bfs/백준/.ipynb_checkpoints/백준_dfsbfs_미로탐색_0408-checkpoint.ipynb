{
 "cells": [
  {
   "cell_type": "code",
   "execution_count": null,
   "metadata": {},
   "outputs": [],
   "source": [
    "### 풀이\n",
    "bfs => 시작노드에서 가까운노드부터 차례대로 그래프의 모든 노드 탐색\n",
    "최소개수이므로 bfs\n",
    "아직도 이게 햇갈림..\n",
    "\n"
   ]
  },
  {
   "cell_type": "code",
   "execution_count": 8,
   "metadata": {},
   "outputs": [
    {
     "name": "stdout",
     "output_type": "stream",
     "text": [
      "4 6\n",
      "101111\n",
      "101010\n",
      "101011\n",
      "111011\n"
     ]
    },
    {
     "data": {
      "text/plain": [
       "15"
      ]
     },
     "execution_count": 8,
     "metadata": {},
     "output_type": "execute_result"
    }
   ],
   "source": [
    "from collections import deque\n",
    "n, m = map(int, input().split())\n",
    "graph = []       \n",
    "graph = [list(map(int, input())) for _ in range(n)] # 문자열 입력받아서 리스트화, 이것을 n번 반복해서 인접행렬 변환\n",
    "\n",
    "x, y = 0, 0\n",
    "\n",
    "dx = [-1, 1, 0, 0]\n",
    "dy = [0, 0, -1, 1]\n",
    "\n",
    "def bfs(x, y):\n",
    "    \n",
    "    queue = deque()\n",
    "    queue.append((x, y))\n",
    "\n",
    "    while queue:\n",
    "        x, y = queue.popleft()\n",
    "        \n",
    "        for i in range(4):\n",
    "            nx = x + dx[i]\n",
    "            ny = y + dy[i]\n",
    "\n",
    "            if nx < 0 or nx >=n or ny<0 or ny>= m:\n",
    "                continue\n",
    "\n",
    "            if graph[nx][ny] ==0:\n",
    "                continue\n",
    "            \n",
    "            if graph[nx][ny] == 1:   \n",
    "                graph[nx][ny] = graph[x][y] + 1\n",
    "                queue.append((nx, ny))\n",
    "    return graph[n-1][m-1]\n",
    "                                        \n",
    "bfs(0,0)        "
   ]
  },
  {
   "cell_type": "code",
   "execution_count": 11,
   "metadata": {},
   "outputs": [
    {
     "name": "stdout",
     "output_type": "stream",
     "text": [
      "4 6\n",
      "101111\n",
      "101010\n",
      "101011\n",
      "111011\n",
      "15\n"
     ]
    }
   ],
   "source": [
    "from collections import deque\n",
    "\n",
    "n, m = map(int, input().split())\n",
    "graph = []       \n",
    "graph = [list(map(int, input())) for _ in range(n)]\n",
    "\n",
    "dx = [0, 0, 1, -1]\n",
    "dy = [1, -1, 0, 0]\n",
    "\n",
    "visit = [[False]*m for _ in range(n)]\n",
    "\n",
    "q= deque()\n",
    "q.append((0, 0))\n",
    "visit[0][0] = True\n",
    "\n",
    "while q:\n",
    "    x, y = q.popleft()\n",
    "    for i in range(4):\n",
    "        nx = x + dx[i]\n",
    "        ny = y + dy[i]\n",
    "        \n",
    "        if nx>=0 and nx<n and ny>=0 and ny<m:\n",
    "            if visit[nx][ny] == False and graph[nx][ny] == 1:\n",
    "                graph[nx][ny] = graph[x][y] + 1\n",
    "                q.append((nx, ny))\n",
    "                visit[nx][ny] =True\n",
    "\n",
    "print(graph[n-1][m-1])"
   ]
  }
 ],
 "metadata": {
  "kernelspec": {
   "display_name": "Python 3",
   "language": "python",
   "name": "python3"
  }
 },
 "nbformat": 4,
 "nbformat_minor": 4
}
