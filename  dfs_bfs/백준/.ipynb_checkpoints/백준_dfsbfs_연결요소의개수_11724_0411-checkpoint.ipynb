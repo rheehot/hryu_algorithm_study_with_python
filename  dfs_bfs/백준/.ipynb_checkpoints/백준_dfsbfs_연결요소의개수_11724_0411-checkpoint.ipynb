{
 "cells": [
  {
   "cell_type": "code",
   "execution_count": null,
   "metadata": {},
   "outputs": [],
   "source": [
    "# dfs로 해결\n",
    "# 프로그래머스 네트워크 문제\n",
    "# 인접리스트로 해결\n",
    "# pypy로 통과\n",
    "# 해결 1\n",
    "\n",
    "import sys\n",
    "sys.setrecursionlimit(10000)    \n",
    "\n",
    "n, m = map(int, input().split())\n",
    "graph = [[] for _ in range(n+1)]\n",
    "visited = [False] * (n+1)\n",
    "\n",
    "for _ in range(m):\n",
    "    x, y = map(int, input().split())\n",
    "    graph[x].append(y)\n",
    "    graph[y].append(x)\n",
    "    \n",
    "def dfs(v):\n",
    "    visited[v]= True\n",
    "    for i in graph[v]:\n",
    "        if not visited[i]:\n",
    "            dfs(i)\n",
    "\n",
    "cnt =0\n",
    "for i in range(1, n+1):\n",
    "    if not visited[i]:\n",
    "        dfs(i)\n",
    "        cnt += 1\n",
    "\n",
    "print(cnt)"
   ]
  },
  {
   "cell_type": "code",
   "execution_count": 3,
   "metadata": {},
   "outputs": [
    {
     "name": "stdout",
     "output_type": "stream",
     "text": [
      "6 5\n",
      "1 2\n",
      "2 5\n",
      "5 1\n",
      "3 4\n",
      "4 6\n",
      "2\n"
     ]
    }
   ],
   "source": [
    "# bfs 해결 2\n",
    "# 인접리스트\n",
    "# 시간복잡도 O(N+E)\n",
    "# 각 노드는 한번씩 방문하고 간선의 수만큼 탐색\n",
    "# import sys\n",
    "from collections import deque\n",
    "def bfs():\n",
    "    q = deque()\n",
    "    cnt = 0\n",
    "    for i in range(1, n+1):\n",
    "        if visited[i] ==0:\n",
    "            visited[i] = 1\n",
    "            q.append(i)\n",
    "            cnt += 1\n",
    "            while q:\n",
    "                now = q.popleft()\n",
    "                for j in graph[now]:\n",
    "                    if visited[j] == 0:\n",
    "                        visited[j] =1\n",
    "                        q.append(j)\n",
    "    print(cnt)\n",
    "    \n",
    "if __name__ == \"__main__\":\n",
    "#     read= sys.stdin.readline\n",
    "    n, e = map(int, input().split())\n",
    "    graph = [[] for _ in range(n+1)]\n",
    "    visited = [0] * (n+1)\n",
    "    \n",
    "    for i in range(e):\n",
    "        x, y = map(int, input().split())\n",
    "        graph[x].append(y)\n",
    "        graph[y].append(x)\n",
    "        \n",
    "    bfs()\n",
    "    "
   ]
  }
 ],
 "metadata": {
  "kernelspec": {
   "display_name": "Python 3",
   "language": "python",
   "name": "python3"
  },
  "language_info": {
   "codemirror_mode": {
    "name": "ipython",
    "version": 3
   },
   "file_extension": ".py",
   "mimetype": "text/x-python",
   "name": "python",
   "nbconvert_exporter": "python",
   "pygments_lexer": "ipython3",
   "version": "3.7.6"
  }
 },
 "nbformat": 4,
 "nbformat_minor": 4
}
