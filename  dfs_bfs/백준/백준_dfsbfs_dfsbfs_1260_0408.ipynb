{
 "cells": [
  {
   "cell_type": "code",
   "execution_count": 4,
   "metadata": {},
   "outputs": [
    {
     "name": "stdout",
     "output_type": "stream",
     "text": [
      "5 5 3\n",
      "5 4\n",
      "5 2\n",
      "1 2\n",
      "3 4\n",
      "3 1\n",
      "[[0, 0, 0, 0, 0, 0], [0, 0, 1, 1, 0, 0], [0, 1, 0, 0, 0, 1], [0, 1, 0, 0, 1, 0], [0, 0, 0, 1, 0, 1], [0, 0, 1, 0, 1, 0]]\n",
      "3 1 2 5 4 \n",
      "3 1 4 2 5 "
     ]
    }
   ],
   "source": [
    "from collections import deque\n",
    "n,m,v = map(int, input().split())\n",
    "graph =[[0]*(n+1) for i in range(n+1)] # 이차 배열 만듦 , 0으로 초기화\n",
    "for i in range(m):\n",
    "    x, y = map(int, input().split())\n",
    "    graph[x][y] = graph[y][x] = 1 # 양방향 \n",
    "# print(graph)\n",
    "\n",
    "\n",
    "def dfs( v):\n",
    "    visited1[v]= 1\n",
    "    print(v, end=' ')\n",
    "    \n",
    "    for i in range(1, n+1):\n",
    "        if not visited1[i] and graph[v][i]==1:\n",
    "            dfs(i)\n",
    "\n",
    "            \n",
    "            \n",
    "def bfs(v):\n",
    "    queue = deque([v])\n",
    "    visited2[v]= 1\n",
    "    \n",
    "    while queue:\n",
    "        v = queue.popleft()\n",
    "        print(v, end=' ')\n",
    "        \n",
    "        for i in range(1, n+1):\n",
    "            if not visited2[i] and graph[v][i]==1 :\n",
    "                queue.append(i)\n",
    "                visited2[i] =1\n",
    "\n",
    "visited1 = [0]*(n+1)\n",
    "visited2 = [0]*(n+1)\n",
    "\n",
    "dfs(v)\n",
    "print()\n",
    "bfs(v)\n"
   ]
  }
 ],
 "metadata": {
  "kernelspec": {
   "display_name": "Python 3",
   "language": "python",
   "name": "python3"
  },
  "language_info": {
   "codemirror_mode": {
    "name": "ipython",
    "version": 3
   },
   "file_extension": ".py",
   "mimetype": "text/x-python",
   "name": "python",
   "nbconvert_exporter": "python",
   "pygments_lexer": "ipython3",
   "version": "3.7.6"
  }
 },
 "nbformat": 4,
 "nbformat_minor": 4
}
