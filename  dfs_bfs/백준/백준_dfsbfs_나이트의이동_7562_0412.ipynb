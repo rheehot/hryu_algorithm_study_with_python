{
 "cells": [
  {
   "cell_type": "code",
   "execution_count": 19,
   "metadata": {},
   "outputs": [
    {
     "name": "stdout",
     "output_type": "stream",
     "text": [
      "3\n",
      "8\n",
      "0 0\n",
      "7 0\n",
      "5\n",
      "100\n",
      "0 0\n",
      "30 50\n",
      "28\n",
      "10 \n",
      "1 1\n",
      "1 1\n",
      "0\n"
     ]
    }
   ],
   "source": [
    "from collections import deque\n",
    "\n",
    "def bfs(start_x, start_y, end_x, end_y):\n",
    "    \n",
    "    q = deque()\n",
    "    q.append([start_x, start_y])\n",
    "    \n",
    "    dx = [-1, -2, -2, -1 ,1, 2, 2, 1]\n",
    "    dy = [-2, -1, 1, 2, 2, 1, -1, -2]\n",
    "    \n",
    "    while q:\n",
    "        x, y = q.popleft()\n",
    "        \n",
    "        if x == end_x and y==end_y:\n",
    "            return (graph[x][y] - 1)\n",
    "            \n",
    "        \n",
    "        for i in range(8):\n",
    "            nx = x + dx[i]\n",
    "            ny = y + dy[i]\n",
    "            if nx >= 0 and nx < n and ny >= 0 and ny< n and graph[nx][ny]==0:\n",
    "                graph[nx][ny] = graph[x][y] + 1\n",
    "                q.append([nx, ny])\n",
    "\n",
    "\n",
    "t = int(input())\n",
    "for _ in range(t):\n",
    "    n = int(input())\n",
    "    graph =[[0]*n for _ in range(n)]\n",
    "    \n",
    "    start_x, start_y = map(int, input().split())\n",
    "    graph[start_x][start_y] = 1\n",
    "    \n",
    "    end_x, end_y = map(int, input().split())\n",
    "#     graph[end_x][end_y] = 1\n",
    "    \n",
    "    answer= bfs(start_x, start_y, end_x, end_y)\n",
    "    print(answer)\n",
    "\n",
    "# for i in result_list:\n",
    "#     print(i)\n",
    "    "
   ]
  }
 ],
 "metadata": {
  "kernelspec": {
   "display_name": "Python 3",
   "language": "python",
   "name": "python3"
  },
  "language_info": {
   "codemirror_mode": {
    "name": "ipython",
    "version": 3
   },
   "file_extension": ".py",
   "mimetype": "text/x-python",
   "name": "python",
   "nbconvert_exporter": "python",
   "pygments_lexer": "ipython3",
   "version": "3.7.6"
  }
 },
 "nbformat": 4,
 "nbformat_minor": 4
}
